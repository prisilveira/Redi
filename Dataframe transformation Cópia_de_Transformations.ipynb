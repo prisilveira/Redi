{
  "nbformat": 4,
  "nbformat_minor": 0,
  "metadata": {
    "colab": {
      "provenance": [],
      "include_colab_link": true
    },
    "kernelspec": {
      "name": "python3",
      "display_name": "Python 3"
    },
    "language_info": {
      "name": "python"
    }
  },
  "cells": [
    {
      "cell_type": "markdown",
      "metadata": {
        "id": "view-in-github",
        "colab_type": "text"
      },
      "source": [
        "<a href=\"https://colab.research.google.com/github/prisilveira/Redi/blob/main/Dataframe%20transformation%20C%C3%B3pia_de_Transformations.ipynb\" target=\"_parent\"><img src=\"https://colab.research.google.com/assets/colab-badge.svg\" alt=\"Open In Colab\"/></a>"
      ]
    },
    {
      "cell_type": "markdown",
      "source": [
        "------------------\n",
        "```markdown\n",
        "# Copyright © 2024 Meysam Goodarzi\n",
        "This notebook is licensed under CC BY-NC 4.0 with the following amandments:\n",
        "- Individuals may use, share, and adapt this material for non-commercial purposes with attribution.\n",
        "- Institutions/Companies must obtain written consent to use this material, except for nonprofits.\n",
        "- Commercial use is prohibited without permission.  \n",
        "Contact: analytica@meysam-goodarzi.com\n",
        "```\n",
        "------------------------------\n",
        "❗❗❗ **IMPORTANT**❗❗❗ **Create a copy of this notebook**\n",
        "\n",
        "In order to work with this Google Colab you need to create a copy of it. Please **DO NOT** provide your answers here. Instead, work on the copy version. To make a copy:\n",
        "\n",
        "**Click on: File -> save a copy in drive**\n",
        "\n",
        "Have you successfully created the copy? if yes, there must be a new tab opened in your browser. Now move to the copy and start from there!\n",
        "\n",
        "----------------------------------------------\n"
      ],
      "metadata": {
        "id": "k-FbqZILVP0z"
      }
    },
    {
      "cell_type": "markdown",
      "source": [
        "# Transformations\n",
        "This notebooks is dedicated to the introduction of transformations in Pandas. Transformations are operations that modify data in a DataFrame or Series. These can include defining/droping/editing columns and applying functions.\n",
        "\n",
        "Let us begin by importing the neccessary libraries import the dataset from the car manufacturing."
      ],
      "metadata": {
        "id": "hdLpuuV2WH7F"
      }
    },
    {
      "cell_type": "code",
      "source": [
        "import pandas as pd\n",
        "import numpy as np"
      ],
      "metadata": {
        "id": "3cpFbm7CjTnf"
      },
      "execution_count": null,
      "outputs": []
    },
    {
      "cell_type": "code",
      "source": [
        "df = pd.read_csv(\"https://raw.githubusercontent.com/juliandnl/redi_ss20/master/cars.csv\")"
      ],
      "metadata": {
        "id": "zUub_yQPjWbR"
      },
      "execution_count": null,
      "outputs": []
    },
    {
      "cell_type": "markdown",
      "source": [
        "## Simple Operations in Pandas\n",
        "There are simple operations that can be done to slightly change the data set. These could be summarized as:\n",
        "\n",
        "* Creating a new column (with or without value)\n",
        "* Overwriting pre-existing data\n",
        "* Defining a new column based on an exisitng column\n",
        "* Dropping one or more columns/rows"
      ],
      "metadata": {
        "id": "UL9IdM8Ua-9O"
      }
    },
    {
      "cell_type": "markdown",
      "source": [
        "#### Example\n",
        "Let us see how each simple operation mentioned above can be implemented:\n",
        "\n",
        "* Creating a new column (with or without value)\n",
        "* Overwriting pre-existing data"
      ],
      "metadata": {
        "id": "dtCAfhHojFtg"
      }
    },
    {
      "cell_type": "code",
      "source": [
        "df['Cost'] = None\n",
        "df.head(5)\n",
        "\n",
        "# Set the \"Cost\" column such that cost is equal to the 70% of the price.\n",
        "# Your code"
      ],
      "metadata": {
        "id": "lzL20z6ljNvC"
      },
      "execution_count": null,
      "outputs": []
    },
    {
      "cell_type": "markdown",
      "source": [
        "* Defining a new column based on an exisitng column"
      ],
      "metadata": {
        "id": "K-QZTCymkA_B"
      }
    },
    {
      "cell_type": "code",
      "source": [
        "df['Profit'] = df['Price'] - df['Cost']\n",
        "df[['Price', 'Cost', 'Profit']].head(5)\n",
        "\n",
        "# Define a new column called \"MM\" which adds the strings from \"Make\" and \"Model\"\n",
        "# in the form Make + \"_\" + Model\n",
        "# Your code\n"
      ],
      "metadata": {
        "id": "wPN1VJwikPGb"
      },
      "execution_count": null,
      "outputs": []
    },
    {
      "cell_type": "markdown",
      "source": [
        "* Dropping one or more columns/rows"
      ],
      "metadata": {
        "id": "lIWQpP8ykPcm"
      }
    },
    {
      "cell_type": "code",
      "source": [
        "df = df.drop(columns=['Cost'])\n",
        "df.head(5)\n",
        "\n",
        "# Drop the \"MM\" column\n",
        "# Your code"
      ],
      "metadata": {
        "id": "ojC9ND9ukP-U",
        "colab": {
          "base_uri": "https://localhost:8080/",
          "height": 206
        },
        "outputId": "91fe600f-7086-4453-eed3-fa1637308f5d"
      },
      "execution_count": null,
      "outputs": [
        {
          "output_type": "execute_result",
          "data": {
            "text/plain": [
              "         Make   Model  Year                           Variant     Kms   Price  \\\n",
              "0  Volkswagen   Vento  2012                  2.5 Luxury 170cv   99950  360000   \n",
              "1        Ford  Ranger  2012                2.3 Cd Xl Plus 4x2  140000  320000   \n",
              "2  Volkswagen     Fox  2011                     1.6 Trendline  132000  209980   \n",
              "3        Ford  Ranger  2017  3.2 Cd Xls Tdci 200cv Automática   13000  798000   \n",
              "4  Volkswagen     Gol  2013                1.4 Power 83cv 3 p  107000  146000   \n",
              "\n",
              "   Doors       Kind           Location Profit       Tax  \n",
              "0    4.0      Sedán            Córdoba    NaN  108000.0  \n",
              "1    2.0    Pick-Up         Entre Ríos    NaN   96000.0  \n",
              "2    5.0  Hatchback  Bs.as. G.b.a. Sur    NaN   68243.5  \n",
              "3    4.0    Pick-Up            Neuquén    NaN  139650.0  \n",
              "4    3.0  Hatchback            Córdoba    NaN   40150.0  "
            ],
            "text/html": [
              "\n",
              "  <div id=\"df-df48a0b9-b4be-4544-abf7-8001aa423938\" class=\"colab-df-container\">\n",
              "    <div>\n",
              "<style scoped>\n",
              "    .dataframe tbody tr th:only-of-type {\n",
              "        vertical-align: middle;\n",
              "    }\n",
              "\n",
              "    .dataframe tbody tr th {\n",
              "        vertical-align: top;\n",
              "    }\n",
              "\n",
              "    .dataframe thead th {\n",
              "        text-align: right;\n",
              "    }\n",
              "</style>\n",
              "<table border=\"1\" class=\"dataframe\">\n",
              "  <thead>\n",
              "    <tr style=\"text-align: right;\">\n",
              "      <th></th>\n",
              "      <th>Make</th>\n",
              "      <th>Model</th>\n",
              "      <th>Year</th>\n",
              "      <th>Variant</th>\n",
              "      <th>Kms</th>\n",
              "      <th>Price</th>\n",
              "      <th>Doors</th>\n",
              "      <th>Kind</th>\n",
              "      <th>Location</th>\n",
              "      <th>Profit</th>\n",
              "      <th>Tax</th>\n",
              "    </tr>\n",
              "  </thead>\n",
              "  <tbody>\n",
              "    <tr>\n",
              "      <th>0</th>\n",
              "      <td>Volkswagen</td>\n",
              "      <td>Vento</td>\n",
              "      <td>2012</td>\n",
              "      <td>2.5 Luxury 170cv</td>\n",
              "      <td>99950</td>\n",
              "      <td>360000</td>\n",
              "      <td>4.0</td>\n",
              "      <td>Sedán</td>\n",
              "      <td>Córdoba</td>\n",
              "      <td>NaN</td>\n",
              "      <td>108000.0</td>\n",
              "    </tr>\n",
              "    <tr>\n",
              "      <th>1</th>\n",
              "      <td>Ford</td>\n",
              "      <td>Ranger</td>\n",
              "      <td>2012</td>\n",
              "      <td>2.3 Cd Xl Plus 4x2</td>\n",
              "      <td>140000</td>\n",
              "      <td>320000</td>\n",
              "      <td>2.0</td>\n",
              "      <td>Pick-Up</td>\n",
              "      <td>Entre Ríos</td>\n",
              "      <td>NaN</td>\n",
              "      <td>96000.0</td>\n",
              "    </tr>\n",
              "    <tr>\n",
              "      <th>2</th>\n",
              "      <td>Volkswagen</td>\n",
              "      <td>Fox</td>\n",
              "      <td>2011</td>\n",
              "      <td>1.6 Trendline</td>\n",
              "      <td>132000</td>\n",
              "      <td>209980</td>\n",
              "      <td>5.0</td>\n",
              "      <td>Hatchback</td>\n",
              "      <td>Bs.as. G.b.a. Sur</td>\n",
              "      <td>NaN</td>\n",
              "      <td>68243.5</td>\n",
              "    </tr>\n",
              "    <tr>\n",
              "      <th>3</th>\n",
              "      <td>Ford</td>\n",
              "      <td>Ranger</td>\n",
              "      <td>2017</td>\n",
              "      <td>3.2 Cd Xls Tdci 200cv Automática</td>\n",
              "      <td>13000</td>\n",
              "      <td>798000</td>\n",
              "      <td>4.0</td>\n",
              "      <td>Pick-Up</td>\n",
              "      <td>Neuquén</td>\n",
              "      <td>NaN</td>\n",
              "      <td>139650.0</td>\n",
              "    </tr>\n",
              "    <tr>\n",
              "      <th>4</th>\n",
              "      <td>Volkswagen</td>\n",
              "      <td>Gol</td>\n",
              "      <td>2013</td>\n",
              "      <td>1.4 Power 83cv 3 p</td>\n",
              "      <td>107000</td>\n",
              "      <td>146000</td>\n",
              "      <td>3.0</td>\n",
              "      <td>Hatchback</td>\n",
              "      <td>Córdoba</td>\n",
              "      <td>NaN</td>\n",
              "      <td>40150.0</td>\n",
              "    </tr>\n",
              "  </tbody>\n",
              "</table>\n",
              "</div>\n",
              "    <div class=\"colab-df-buttons\">\n",
              "\n",
              "  <div class=\"colab-df-container\">\n",
              "    <button class=\"colab-df-convert\" onclick=\"convertToInteractive('df-df48a0b9-b4be-4544-abf7-8001aa423938')\"\n",
              "            title=\"Convert this dataframe to an interactive table.\"\n",
              "            style=\"display:none;\">\n",
              "\n",
              "  <svg xmlns=\"http://www.w3.org/2000/svg\" height=\"24px\" viewBox=\"0 -960 960 960\">\n",
              "    <path d=\"M120-120v-720h720v720H120Zm60-500h600v-160H180v160Zm220 220h160v-160H400v160Zm0 220h160v-160H400v160ZM180-400h160v-160H180v160Zm440 0h160v-160H620v160ZM180-180h160v-160H180v160Zm440 0h160v-160H620v160Z\"/>\n",
              "  </svg>\n",
              "    </button>\n",
              "\n",
              "  <style>\n",
              "    .colab-df-container {\n",
              "      display:flex;\n",
              "      gap: 12px;\n",
              "    }\n",
              "\n",
              "    .colab-df-convert {\n",
              "      background-color: #E8F0FE;\n",
              "      border: none;\n",
              "      border-radius: 50%;\n",
              "      cursor: pointer;\n",
              "      display: none;\n",
              "      fill: #1967D2;\n",
              "      height: 32px;\n",
              "      padding: 0 0 0 0;\n",
              "      width: 32px;\n",
              "    }\n",
              "\n",
              "    .colab-df-convert:hover {\n",
              "      background-color: #E2EBFA;\n",
              "      box-shadow: 0px 1px 2px rgba(60, 64, 67, 0.3), 0px 1px 3px 1px rgba(60, 64, 67, 0.15);\n",
              "      fill: #174EA6;\n",
              "    }\n",
              "\n",
              "    .colab-df-buttons div {\n",
              "      margin-bottom: 4px;\n",
              "    }\n",
              "\n",
              "    [theme=dark] .colab-df-convert {\n",
              "      background-color: #3B4455;\n",
              "      fill: #D2E3FC;\n",
              "    }\n",
              "\n",
              "    [theme=dark] .colab-df-convert:hover {\n",
              "      background-color: #434B5C;\n",
              "      box-shadow: 0px 1px 3px 1px rgba(0, 0, 0, 0.15);\n",
              "      filter: drop-shadow(0px 1px 2px rgba(0, 0, 0, 0.3));\n",
              "      fill: #FFFFFF;\n",
              "    }\n",
              "  </style>\n",
              "\n",
              "    <script>\n",
              "      const buttonEl =\n",
              "        document.querySelector('#df-df48a0b9-b4be-4544-abf7-8001aa423938 button.colab-df-convert');\n",
              "      buttonEl.style.display =\n",
              "        google.colab.kernel.accessAllowed ? 'block' : 'none';\n",
              "\n",
              "      async function convertToInteractive(key) {\n",
              "        const element = document.querySelector('#df-df48a0b9-b4be-4544-abf7-8001aa423938');\n",
              "        const dataTable =\n",
              "          await google.colab.kernel.invokeFunction('convertToInteractive',\n",
              "                                                    [key], {});\n",
              "        if (!dataTable) return;\n",
              "\n",
              "        const docLinkHtml = 'Like what you see? Visit the ' +\n",
              "          '<a target=\"_blank\" href=https://colab.research.google.com/notebooks/data_table.ipynb>data table notebook</a>'\n",
              "          + ' to learn more about interactive tables.';\n",
              "        element.innerHTML = '';\n",
              "        dataTable['output_type'] = 'display_data';\n",
              "        await google.colab.output.renderOutput(dataTable, element);\n",
              "        const docLink = document.createElement('div');\n",
              "        docLink.innerHTML = docLinkHtml;\n",
              "        element.appendChild(docLink);\n",
              "      }\n",
              "    </script>\n",
              "  </div>\n",
              "\n",
              "\n",
              "<div id=\"df-50dbceee-807e-4fab-9256-5e5598744af0\">\n",
              "  <button class=\"colab-df-quickchart\" onclick=\"quickchart('df-50dbceee-807e-4fab-9256-5e5598744af0')\"\n",
              "            title=\"Suggest charts\"\n",
              "            style=\"display:none;\">\n",
              "\n",
              "<svg xmlns=\"http://www.w3.org/2000/svg\" height=\"24px\"viewBox=\"0 0 24 24\"\n",
              "     width=\"24px\">\n",
              "    <g>\n",
              "        <path d=\"M19 3H5c-1.1 0-2 .9-2 2v14c0 1.1.9 2 2 2h14c1.1 0 2-.9 2-2V5c0-1.1-.9-2-2-2zM9 17H7v-7h2v7zm4 0h-2V7h2v10zm4 0h-2v-4h2v4z\"/>\n",
              "    </g>\n",
              "</svg>\n",
              "  </button>\n",
              "\n",
              "<style>\n",
              "  .colab-df-quickchart {\n",
              "      --bg-color: #E8F0FE;\n",
              "      --fill-color: #1967D2;\n",
              "      --hover-bg-color: #E2EBFA;\n",
              "      --hover-fill-color: #174EA6;\n",
              "      --disabled-fill-color: #AAA;\n",
              "      --disabled-bg-color: #DDD;\n",
              "  }\n",
              "\n",
              "  [theme=dark] .colab-df-quickchart {\n",
              "      --bg-color: #3B4455;\n",
              "      --fill-color: #D2E3FC;\n",
              "      --hover-bg-color: #434B5C;\n",
              "      --hover-fill-color: #FFFFFF;\n",
              "      --disabled-bg-color: #3B4455;\n",
              "      --disabled-fill-color: #666;\n",
              "  }\n",
              "\n",
              "  .colab-df-quickchart {\n",
              "    background-color: var(--bg-color);\n",
              "    border: none;\n",
              "    border-radius: 50%;\n",
              "    cursor: pointer;\n",
              "    display: none;\n",
              "    fill: var(--fill-color);\n",
              "    height: 32px;\n",
              "    padding: 0;\n",
              "    width: 32px;\n",
              "  }\n",
              "\n",
              "  .colab-df-quickchart:hover {\n",
              "    background-color: var(--hover-bg-color);\n",
              "    box-shadow: 0 1px 2px rgba(60, 64, 67, 0.3), 0 1px 3px 1px rgba(60, 64, 67, 0.15);\n",
              "    fill: var(--button-hover-fill-color);\n",
              "  }\n",
              "\n",
              "  .colab-df-quickchart-complete:disabled,\n",
              "  .colab-df-quickchart-complete:disabled:hover {\n",
              "    background-color: var(--disabled-bg-color);\n",
              "    fill: var(--disabled-fill-color);\n",
              "    box-shadow: none;\n",
              "  }\n",
              "\n",
              "  .colab-df-spinner {\n",
              "    border: 2px solid var(--fill-color);\n",
              "    border-color: transparent;\n",
              "    border-bottom-color: var(--fill-color);\n",
              "    animation:\n",
              "      spin 1s steps(1) infinite;\n",
              "  }\n",
              "\n",
              "  @keyframes spin {\n",
              "    0% {\n",
              "      border-color: transparent;\n",
              "      border-bottom-color: var(--fill-color);\n",
              "      border-left-color: var(--fill-color);\n",
              "    }\n",
              "    20% {\n",
              "      border-color: transparent;\n",
              "      border-left-color: var(--fill-color);\n",
              "      border-top-color: var(--fill-color);\n",
              "    }\n",
              "    30% {\n",
              "      border-color: transparent;\n",
              "      border-left-color: var(--fill-color);\n",
              "      border-top-color: var(--fill-color);\n",
              "      border-right-color: var(--fill-color);\n",
              "    }\n",
              "    40% {\n",
              "      border-color: transparent;\n",
              "      border-right-color: var(--fill-color);\n",
              "      border-top-color: var(--fill-color);\n",
              "    }\n",
              "    60% {\n",
              "      border-color: transparent;\n",
              "      border-right-color: var(--fill-color);\n",
              "    }\n",
              "    80% {\n",
              "      border-color: transparent;\n",
              "      border-right-color: var(--fill-color);\n",
              "      border-bottom-color: var(--fill-color);\n",
              "    }\n",
              "    90% {\n",
              "      border-color: transparent;\n",
              "      border-bottom-color: var(--fill-color);\n",
              "    }\n",
              "  }\n",
              "</style>\n",
              "\n",
              "  <script>\n",
              "    async function quickchart(key) {\n",
              "      const quickchartButtonEl =\n",
              "        document.querySelector('#' + key + ' button');\n",
              "      quickchartButtonEl.disabled = true;  // To prevent multiple clicks.\n",
              "      quickchartButtonEl.classList.add('colab-df-spinner');\n",
              "      try {\n",
              "        const charts = await google.colab.kernel.invokeFunction(\n",
              "            'suggestCharts', [key], {});\n",
              "      } catch (error) {\n",
              "        console.error('Error during call to suggestCharts:', error);\n",
              "      }\n",
              "      quickchartButtonEl.classList.remove('colab-df-spinner');\n",
              "      quickchartButtonEl.classList.add('colab-df-quickchart-complete');\n",
              "    }\n",
              "    (() => {\n",
              "      let quickchartButtonEl =\n",
              "        document.querySelector('#df-50dbceee-807e-4fab-9256-5e5598744af0 button');\n",
              "      quickchartButtonEl.style.display =\n",
              "        google.colab.kernel.accessAllowed ? 'block' : 'none';\n",
              "    })();\n",
              "  </script>\n",
              "</div>\n",
              "\n",
              "    </div>\n",
              "  </div>\n"
            ],
            "application/vnd.google.colaboratory.intrinsic+json": {
              "type": "dataframe",
              "repr_error": "Out of range float values are not JSON compliant: nan"
            }
          },
          "metadata": {},
          "execution_count": 14
        }
      ]
    },
    {
      "cell_type": "code",
      "source": [],
      "metadata": {
        "id": "YlcJRK4xB1z3"
      },
      "execution_count": null,
      "outputs": []
    },
    {
      "cell_type": "markdown",
      "source": [
        "**Question**: What is the difference between `df = df.drop(columns=['Cost'])` and `df.drop(columns=['Cost'])`?\n",
        "\n",
        "**Hint**: Check the [drop()](https://www.w3schools.com/python/pandas/ref_df_drop.asp)."
      ],
      "metadata": {
        "id": "tlWgB2HYopek"
      }
    },
    {
      "cell_type": "markdown",
      "source": [
        "### Conditionals on DataFrames\n",
        "Pandas allows us to apply conditionals on DataFrames using methods from numpy library, i.e., `np.where()` and `np.select()`. These methods allow us to define new columns based on certain conditions. Their functionalites are as follows\n",
        "\n",
        "* `np.where()`:  Allows for performing an element-wise conditional operation in a DataFrame.\n",
        "* `np.select()`: Allows for multiple conditions to be applied at once, useful for creating more complex conditionals."
      ],
      "metadata": {
        "id": "g2PFQAubc9CQ"
      }
    },
    {
      "cell_type": "markdown",
      "source": [
        "#### Example\n",
        "Define a new column Discounted that marks cars as \"Yes\" if their Price is above 20,000 and \"No\" otherwise."
      ],
      "metadata": {
        "id": "6EHeB4ekqPsq"
      }
    },
    {
      "cell_type": "code",
      "source": [
        "df['Discounted'] = np.where(\n",
        "    # Your code\n",
        "    )\n",
        "df[['Model', 'Price', 'Discounted']].head()"
      ],
      "metadata": {
        "id": "i9Zq9sMRqVKR"
      },
      "execution_count": null,
      "outputs": []
    },
    {
      "cell_type": "markdown",
      "source": [
        "#### Example\n",
        "Define a column Price_Category with the following rules:\n",
        "\n",
        "* If Price is above 30,000, label it as \"High\".\n",
        "* If Price is between 15,000 and 30,000, label it as \"Medium\".\n",
        "* Otherwise, label it as \"Low\"."
      ],
      "metadata": {
        "id": "EtCYGZk7qZlg"
      }
    },
    {
      "cell_type": "code",
      "source": [
        "conditions = [\n",
        "    (df['Price'] > 30000),\n",
        "    (df['Price'] <= 30000) & (df['Price'] >= 15000),\n",
        "    (df['Price'] < 15000)\n",
        "]\n",
        "\n",
        "choices = ['High', 'Medium', 'Low']\n",
        "\n",
        "df['Price_Category'] = np.select(\n",
        "    # Your code\n",
        "    )\n",
        "print(df[['Model', 'Price', 'Price_Category']].head())"
      ],
      "metadata": {
        "id": "ufExYjfoqgZh"
      },
      "execution_count": null,
      "outputs": []
    },
    {
      "cell_type": "markdown",
      "source": [
        "#### Exercise 1\n",
        "Define a column called \"New\" which takes the value 1 if the car's production year is greater than 2017 and 0 otherwise."
      ],
      "metadata": {
        "id": "u4GAflyNtERP"
      }
    },
    {
      "cell_type": "code",
      "source": [
        "df['New'] = np.where(\n",
        "    # Your code\n",
        "    )\n",
        "df[['Year', 'New']].head(5)"
      ],
      "metadata": {
        "id": "3UIpRA7StZ6r"
      },
      "execution_count": null,
      "outputs": []
    },
    {
      "cell_type": "markdown",
      "source": [
        "#### Exercise 2\n",
        "Define a column \"Age_Category\" with the following rules:\n",
        "\n",
        "* If the Kms is below 15000, label it as \"new\".\n",
        "* If the Kms is between 15000 and 50000, label it as \"relatively new\".\n",
        "* If the Kms is between 40000 and 100000, label it as \"old\".\n",
        "* If the Kms is above 100000, label it as \"too old\"."
      ],
      "metadata": {
        "id": "MAF31Rj1rqk5"
      }
    },
    {
      "cell_type": "code",
      "source": [
        "conditions = [\n",
        "    # Your code\n",
        "]\n",
        "\n",
        "choices = ['new', 'relatively new', 'old', 'too old']\n",
        "\n",
        "df['Price_Category'] = # Your code\n",
        "print(df[['Model', 'Price', 'Price_Category']].head())"
      ],
      "metadata": {
        "id": "eyfJEkvWsYNb"
      },
      "execution_count": null,
      "outputs": []
    },
    {
      "cell_type": "markdown",
      "source": [
        "## Applying Functions\n",
        "The following methods are most commonly used to perfrom transformations:\n",
        "\n",
        "* `apply()`: Applies a function along an axis (rows or columns).\n",
        "* `map()`: Maps values from a dictionary or a function to replace values in a panda Series.\n",
        "* `replace()`: Replaces values in a DataFrame or Series with a specified value or pattern."
      ],
      "metadata": {
        "id": "2ctXZa5Va3Is"
      }
    },
    {
      "cell_type": "markdown",
      "source": [
        "#### Example\n",
        "Create an abbreviation of the `Make` of a car. Create a new column `Brand` that contains the first 3 letters in uppercase of the value from the `Make` columns.\n",
        "\n",
        "Example: Iff `Make` is `Chrysler`, `Brand` should be `CHR`.\n",
        "\n",
        "1. Use `apply` with a regular `def` function\n",
        "1. Use `lambda` function\n",
        "2. Use only dataframe built-in functionality"
      ],
      "metadata": {
        "id": "ugmtcztUiKcy"
      }
    },
    {
      "cell_type": "code",
      "source": [
        "def create_abbrev(make):\n",
        "    \"\"\"Creates the abbreviation from a full name.\n",
        "\n",
        "      Args:\n",
        "        make: A string containing the full word.\n",
        "\n",
        "      Returns:\n",
        "        A string containing the abbreviation.\n",
        "    \"\"\"\n",
        "    return # Your code\n",
        "\n",
        "df.loc[:, 'Brand'] = df.loc[:, 'Make'].apply(\n",
        "    # Your code\n",
        ")"
      ],
      "metadata": {
        "id": "bpQeGN_eknMg"
      },
      "execution_count": null,
      "outputs": []
    },
    {
      "cell_type": "code",
      "source": [
        "# Lambda implementation\n",
        "df.loc[:, 'Brand'] = df.loc[:, 'Make'].apply(\n",
        "    lambda make: # Your code\n",
        ")"
      ],
      "metadata": {
        "id": "kscOCRvowbIe"
      },
      "execution_count": null,
      "outputs": []
    },
    {
      "cell_type": "code",
      "source": [
        "# Pandas built-in methods\n",
        "df.loc[:, 'Brand'] = df.loc[:, 'Make'].str[0:3].str.upper()"
      ],
      "metadata": {
        "id": "QHRCtI0lwi1U"
      },
      "execution_count": null,
      "outputs": []
    },
    {
      "cell_type": "markdown",
      "source": [
        "#### Example\n",
        "Map car brands to regions using a dictionary.\n",
        "\n",
        "<!--\n",
        "# Copyright © 2024 Meysam Goodarzi\n",
        "This notebook is licensed under CC BY-NC 4.0 with the following amandments:\n",
        "- Individuals may use, share, and adapt this material for non-commercial purposes with attribution.\n",
        "- Institutions/Companies must obtain written consent to use this material, except for nonprofits.\n",
        "- Commercial use is prohibited without permission.  \n",
        "Contact: analytica@meysam-goodarzi.com.\n",
        "-->"
      ],
      "metadata": {
        "id": "06J-p8EZ0fIt"
      }
    },
    {
      "cell_type": "code",
      "source": [
        "brand_region = {\n",
        "    'Volkswagen': 'Europe', 'Ford': 'North America', 'Mercedes Benz': 'Europe',\n",
        "    'Honda': 'East Asia', 'Chrysler': 'North America'\n",
        "    }\n",
        "df['Region'] = df['Make'].map(\n",
        "    # Your code\n",
        ")\n",
        "print(df[['Make', 'Region']].head(5))\n"
      ],
      "metadata": {
        "id": "gw4OcANL00zk"
      },
      "execution_count": null,
      "outputs": []
    },
    {
      "cell_type": "markdown",
      "source": [
        "#### Example\n",
        "Replace the values in the Region column from \"East Asia\" to \"Asia\"."
      ],
      "metadata": {
        "id": "lbOGFE_A2BUP"
      }
    },
    {
      "cell_type": "code",
      "source": [
        "df['Region'] = df['Region'].replace(\n",
        "    # Your code\n",
        ")\n",
        "df.head(5)"
      ],
      "metadata": {
        "id": "iyo88GnY2GTg"
      },
      "execution_count": null,
      "outputs": []
    },
    {
      "cell_type": "markdown",
      "source": [
        "#### Exercise 3\n",
        "Create a new column which calculates the amount of tax per car depending on the year of production for 2024. Use the tax rate of $2.5\\%$ for each year.\n",
        "\n",
        "Example: for Year = 2014 the tax rate would be (2024-2014)*2.5\n",
        "\n",
        "Perform the task using the `lambda` function."
      ],
      "metadata": {
        "id": "vONlhOOm21Ca"
      }
    },
    {
      "cell_type": "code",
      "source": [
        "df['Tax'] = df.apply(\n",
        "    lambda row: # Your code,\n",
        "    axis=1\n",
        "    )\n",
        "\n",
        "df[['Year', 'Price', 'Tax']].head(5)\n"
      ],
      "metadata": {
        "id": "4VexetQL3kZl"
      },
      "execution_count": null,
      "outputs": []
    },
    {
      "cell_type": "markdown",
      "source": [
        "#### Exercise 4\n",
        "Map car brands to their respective countries using a dictionary and lambda function."
      ],
      "metadata": {
        "id": "aopidhqk5p2A"
      }
    },
    {
      "cell_type": "code",
      "source": [
        "brand_region = {\n",
        "    'Volkswagen': 'Germany', 'Ford': 'US', 'Mercedes Benz': 'Germany',\n",
        "    'Honda': 'Japan', 'Chrysler': 'US'\n",
        "    }\n",
        "# Your code\n",
        "df[['Make', 'Region']].head(5)"
      ],
      "metadata": {
        "id": "mP4shpWh7LXb"
      },
      "execution_count": null,
      "outputs": []
    },
    {
      "cell_type": "code",
      "source": [
        "df[\"Country\"] = df[\"Make\"].map(\n",
        "    lambda make: # Your code\n",
        ")"
      ],
      "metadata": {
        "id": "Z9utH66l7XKw"
      },
      "execution_count": null,
      "outputs": []
    },
    {
      "cell_type": "markdown",
      "source": [
        "**Congratulations! You have finished the Notebook! Great Job!**\n",
        "🤗🙌👍👏💪\n",
        "<!--\n",
        "# Copyright © 2024 Meysam Goodarzi\n",
        "This notebook is licensed under CC BY-NC 4.0 with the following amandments:\n",
        "- Individuals may use, share, and adapt this material for non-commercial purposes with attribution.\n",
        "- Institutions/Companies must obtain written consent to use this material, except for nonprofits.\n",
        "- Commercial use is prohibited without permission.  \n",
        "Contact: analytica@meysam-goodarzi.com.\n",
        "-->"
      ],
      "metadata": {
        "id": "uZMmU7_VHhaN"
      }
    }
  ]
}