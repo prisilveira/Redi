{
  "nbformat": 4,
  "nbformat_minor": 0,
  "metadata": {
    "colab": {
      "provenance": [],
      "include_colab_link": true
    },
    "kernelspec": {
      "name": "python3",
      "display_name": "Python 3"
    },
    "language_info": {
      "name": "python"
    }
  },
  "cells": [
    {
      "cell_type": "markdown",
      "metadata": {
        "id": "view-in-github",
        "colab_type": "text"
      },
      "source": [
        "<a href=\"https://colab.research.google.com/github/prisilveira/Redi/blob/main/Priscila's_Prework_Data_Analytics.ipynb\" target=\"_parent\"><img src=\"https://colab.research.google.com/assets/colab-badge.svg\" alt=\"Open In Colab\"/></a>"
      ]
    },
    {
      "cell_type": "markdown",
      "source": [
        "------------------------------\n",
        "# IMPORTANT!!! Create a copy of this Colab!\n",
        "\n",
        "In order to work with this Google Colab you need to create a copy of it. Please **DO NOT** provide your answers here. Instead, work on the copy version. To make a copy:\n",
        "\n",
        "**Click on: File -> save a copy in drive**\n",
        "\n",
        "Have you successfully created the copy? if yes, there must be a new tab opened in your browser. Now move to the copy and start from there!\n",
        "\n",
        "----------------------------------------------"
      ],
      "metadata": {
        "id": "qHv0h2NSMEy7"
      }
    },
    {
      "cell_type": "markdown",
      "source": [
        "# Welcome to Prework of ReDI's Course: **Data Analytics** 🎉\n",
        "\n",
        "This Colab is divided into two parts:\n",
        "\n",
        "**1. Get Started with Google Colab** - A short introduction on how to use Google Colab.\n",
        "\n",
        "**2. Challenge** - A short challenge for you to work on. It has further resources for you to follow up on the topics."
      ],
      "metadata": {
        "id": "3wyNnFfmQZ3D"
      }
    },
    {
      "cell_type": "markdown",
      "source": [
        "# 1. Get Started with Google Colab\n",
        "\n",
        "We use Google Colab in the course. Colab, or \"Colaboratory\", allows you to write and execute Python in your browser. Whether you're a **student**, a **data scientist** or an **AI researcher**, Colab can make your work easier. Watch [Introduction to Colab](https://www.youtube.com/watch?v=inN8seMm7UI) to learn more, or just get started below!\n",
        "\n",
        "The document you are reading is an interactive environment called a **Colab notebook** that lets you write and execute code. When you create your own Colab notebooks, they are stored in your Google Drive account. You can easily share your Colab notebooks with co-workers or friends, allowing them to comment on your notebooks or even edit them. To learn more, see [Overview of Colab](/notebooks/basic_features_overview.ipynb). To create a new Colab notebook you can use the File menu above, or use the following link: [create a new Colab notebook](http://colab.research.google.com#create=true).\n",
        "\n",
        "Colab notebooks are Jupyter notebooks that are hosted by Colab."
      ],
      "metadata": {
        "id": "lS0jVoZGSlv4"
      }
    },
    {
      "cell_type": "markdown",
      "source": [
        "# 2. Challenge\n",
        "\n",
        "To have a smooth start in the Data Analytics course, we ask you to review essential python concepts. Please follow the To Do's below and add your code to the cells. If you are unsure about a concept, check out the additional resources and research yourself to solve it :)"
      ],
      "metadata": {
        "id": "mhoHs8lz1GQA"
      }
    },
    {
      "cell_type": "code",
      "source": [],
      "metadata": {
        "id": "EzGNcsJxAbxA"
      },
      "execution_count": null,
      "outputs": []
    },
    {
      "cell_type": "markdown",
      "source": [],
      "metadata": {
        "id": "YHDiLziiAbWS"
      }
    },
    {
      "cell_type": "code",
      "source": [],
      "metadata": {
        "id": "uD_De5RRAakT"
      },
      "execution_count": null,
      "outputs": []
    },
    {
      "cell_type": "markdown",
      "source": [
        "**Example**\n",
        "\n",
        "To Do: Create a variable called *income* and assign 40.00 to it."
      ],
      "metadata": {
        "id": "DODcHATcB6Z_"
      }
    },
    {
      "cell_type": "code",
      "source": [
        "income = 40.00"
      ],
      "metadata": {
        "id": "LC3SSMqoB9aC"
      },
      "execution_count": 1,
      "outputs": []
    },
    {
      "cell_type": "markdown",
      "source": [
        "What dtype will the defined variable have?"
      ],
      "metadata": {
        "id": "8nvNQ6HQNmVt"
      }
    },
    {
      "cell_type": "code",
      "source": [
        "print(type(income))"
      ],
      "metadata": {
        "colab": {
          "base_uri": "https://localhost:8080/"
        },
        "id": "8vTX9ltsoFPI",
        "outputId": "8b4bfa9d-c8af-449b-ae3e-c2368a39e670"
      },
      "execution_count": 2,
      "outputs": [
        {
          "output_type": "stream",
          "name": "stdout",
          "text": [
            "<class 'float'>\n"
          ]
        }
      ]
    },
    {
      "cell_type": "markdown",
      "source": [
        "**I. Import Packages**\n",
        "\n",
        "To Do: Import Pandas and Numpy"
      ],
      "metadata": {
        "id": "YTqmpA63A5fl"
      }
    },
    {
      "cell_type": "code",
      "source": [
        "import pandas as pd\n",
        "import numpy as np"
      ],
      "metadata": {
        "id": "JYNDJI2evVTd"
      },
      "execution_count": 4,
      "outputs": []
    },
    {
      "cell_type": "markdown",
      "source": [
        "\n",
        "*Need help? Free online course to review Python concepts: [FreeCodeCamp Course](https://www.freecodecamp.org/learn/scientific-computing-with-python/) or *"
      ],
      "metadata": {
        "id": "EEDChtchDAwP"
      }
    },
    {
      "cell_type": "markdown",
      "source": [
        "**II. Variables and Types**\n",
        "\n",
        "To Do: Assign a equal to 3 and assign b equal to 5. Multiply the two variables and print the result."
      ],
      "metadata": {
        "id": "ryJaVh2zBCRq"
      }
    },
    {
      "cell_type": "code",
      "source": [
        "a=3\n",
        "b=5\n",
        "result=a*b\n",
        "print(result)"
      ],
      "metadata": {
        "id": "7Na6YfPVBKff",
        "colab": {
          "base_uri": "https://localhost:8080/"
        },
        "outputId": "9fb24590-610f-46c2-b631-9cb803414a37"
      },
      "execution_count": 6,
      "outputs": [
        {
          "output_type": "stream",
          "name": "stdout",
          "text": [
            "15\n"
          ]
        }
      ]
    },
    {
      "cell_type": "markdown",
      "source": [
        "To Do: Print the type of the variable a"
      ],
      "metadata": {
        "id": "P3kaa5ikFgW5"
      }
    },
    {
      "cell_type": "code",
      "source": [
        "print(type(result))"
      ],
      "metadata": {
        "id": "f4gaUz2V0KCa",
        "colab": {
          "base_uri": "https://localhost:8080/"
        },
        "outputId": "658e77a3-92f3-4894-f05b-52114094f5fd"
      },
      "execution_count": 7,
      "outputs": [
        {
          "output_type": "stream",
          "name": "stdout",
          "text": [
            "<class 'int'>\n"
          ]
        }
      ]
    },
    {
      "cell_type": "markdown",
      "source": [
        "*Need help? Online course to review Python concepts: [FreeCodeCamp Course](https://www.freecodecamp.org/learn/scientific-computing-with-python/) or [Dataquest Introduction to Python Programming](https://www.dataquest.io/course/introduction-to-python/)(only the free parts, not the paid ones!)*"
      ],
      "metadata": {
        "id": "Qm6-ai3ADWoH"
      }
    },
    {
      "cell_type": "markdown",
      "source": [
        "**III. Lists**\n",
        "\n",
        "To Do: Add the following Item to the list below:\n",
        "\n",
        "9"
      ],
      "metadata": {
        "id": "uBIAKhxpBGwc"
      }
    },
    {
      "cell_type": "code",
      "source": [
        "my_list_of_numbers = [1, 15, 18, 77, 18, 18, 89, 7]\n",
        "\n",
        "my_list_of_numbers.append(9)\n",
        "\n",
        "print(my_list_of_numbers)"
      ],
      "metadata": {
        "id": "Qo2ae6Te3qZC",
        "colab": {
          "base_uri": "https://localhost:8080/"
        },
        "outputId": "fc7cccf2-ce3c-4efa-cc85-9c4253662ab5"
      },
      "execution_count": 10,
      "outputs": [
        {
          "output_type": "stream",
          "name": "stdout",
          "text": [
            "[1, 15, 18, 77, 18, 18, 89, 7, 9]\n"
          ]
        }
      ]
    },
    {
      "cell_type": "markdown",
      "source": [
        "To Do: Print the 3rd to the 5th item of the list"
      ],
      "metadata": {
        "id": "Dovuft_yDoxP"
      }
    },
    {
      "cell_type": "code",
      "source": [
        "print(\"The third and the fifth elements are:\", my_list_of_numbers[2], \"and\", my_list_of_numbers[4], \", respectively\")"
      ],
      "metadata": {
        "id": "BTCDy2cjOpte",
        "colab": {
          "base_uri": "https://localhost:8080/"
        },
        "outputId": "2c4fea19-cab3-47d1-de94-8d1f3fa8ed43"
      },
      "execution_count": 11,
      "outputs": [
        {
          "output_type": "stream",
          "name": "stdout",
          "text": [
            "The third and the fifth elements are: 18 and 18 , respectively\n"
          ]
        }
      ]
    },
    {
      "cell_type": "markdown",
      "source": [
        "To Do: Print the last item of the list"
      ],
      "metadata": {
        "id": "9H_zsUq9DzXx"
      }
    },
    {
      "cell_type": "code",
      "source": [
        "last_el= my_list_of_numbers[-1]\n",
        "print(\"The last element of my list is:\",last_el)"
      ],
      "metadata": {
        "id": "g9eASFhGPKIk",
        "colab": {
          "base_uri": "https://localhost:8080/"
        },
        "outputId": "e61b8293-cccf-4fa4-845f-8c47e74a2798"
      },
      "execution_count": 13,
      "outputs": [
        {
          "output_type": "stream",
          "name": "stdout",
          "text": [
            "The last element of my list is: 9\n"
          ]
        }
      ]
    },
    {
      "cell_type": "markdown",
      "source": [
        "To Do: Create an array using the above-given list."
      ],
      "metadata": {
        "id": "D-qVvy7POHxG"
      }
    },
    {
      "cell_type": "code",
      "source": [
        "my_array = np.array(my_list_of_numbers)\n",
        "print(my_array)\n",
        "print(type(my_array))"
      ],
      "metadata": {
        "id": "1d-_SOuCOVWi",
        "colab": {
          "base_uri": "https://localhost:8080/"
        },
        "outputId": "20148725-c505-4d3c-cf91-e2e298363187"
      },
      "execution_count": 20,
      "outputs": [
        {
          "output_type": "stream",
          "name": "stdout",
          "text": [
            "[ 1 15 18 77 18 18 89  7  9]\n",
            "<class 'numpy.ndarray'>\n"
          ]
        }
      ]
    },
    {
      "cell_type": "markdown",
      "source": [
        "**IV. Dictionaries**\n",
        "\n",
        "To Do: Print all keys and all values"
      ],
      "metadata": {
        "id": "BEd2Kr8cBLF4"
      }
    },
    {
      "cell_type": "code",
      "source": [
        "fruits = {'apple':3,\n",
        "           'pear':2,\n",
        "           'banana':1\n",
        "          }\n",
        "print(fruits)"
      ],
      "metadata": {
        "id": "yUn9GyQ8x7VK",
        "colab": {
          "base_uri": "https://localhost:8080/"
        },
        "outputId": "bdb45853-aa62-4235-d8d2-5ec322fad3e0"
      },
      "execution_count": 21,
      "outputs": [
        {
          "output_type": "stream",
          "name": "stdout",
          "text": [
            "{'apple': 3, 'pear': 2, 'banana': 1}\n"
          ]
        }
      ]
    },
    {
      "cell_type": "markdown",
      "source": [
        "*Need help? Review Dictionaries in these Online Courses: [DataCamp](https://www.datacamp.com/tutorial/dictionary-python), [FreeCodeCamp](https://www.freecodecamp.org/learn/scientific-computing-with-python/)*"
      ],
      "metadata": {
        "id": "iC0rUpl_EkXJ"
      }
    },
    {
      "cell_type": "markdown",
      "source": [
        "**V. Functions**\n",
        "\n",
        "To Do: Create a function that takes a string as an argument and adds a exclamation point to it, and returns the result."
      ],
      "metadata": {
        "id": "uYfnkdM6BOQA"
      }
    },
    {
      "cell_type": "code",
      "source": [
        "def word(input_string):\n",
        "  result=input_string+\"!\"\n",
        "  print(result)\n",
        "\n",
        "word (\"RediSchool\")"
      ],
      "metadata": {
        "colab": {
          "base_uri": "https://localhost:8080/"
        },
        "id": "mdGQZdC6zxcr",
        "outputId": "ff4039aa-8dd3-4e35-8432-30af10fd1451"
      },
      "execution_count": 51,
      "outputs": [
        {
          "output_type": "stream",
          "name": "stdout",
          "text": [
            "RediSchool!\n"
          ]
        }
      ]
    },
    {
      "cell_type": "code",
      "source": [
        "def enter_a_string():\n",
        "    input_string = input(\"Enter a word: \")\n",
        "    result= input_string + \"!\"\n",
        "\n",
        "    # Print the result\n",
        "    print(result)\n",
        "\n",
        "#test whether it works\n",
        "enter_a_string()"
      ],
      "metadata": {
        "id": "xi_ue5H10JmP",
        "colab": {
          "base_uri": "https://localhost:8080/"
        },
        "outputId": "214a6501-aca8-4bbd-d014-bb26971eadc3"
      },
      "execution_count": 49,
      "outputs": [
        {
          "output_type": "stream",
          "name": "stdout",
          "text": [
            "Enter a word: RediSchool\n",
            "RediSchool!\n"
          ]
        }
      ]
    },
    {
      "cell_type": "markdown",
      "source": [
        "*Need Help? [kaggle resource](https://www.kaggle.com/code/colinmorris/functions-and-getting-help), [FreeCodeCamp Tutorial](https://www.freecodecamp.org/news/python-functions-define-and-call-a-function/)*"
      ],
      "metadata": {
        "id": "BzH8rClyFvpj"
      }
    },
    {
      "cell_type": "markdown",
      "source": [
        "**VI. Pandas**\n",
        "\n",
        "To Do: Execute the following cell to import the Berlin Housing Dataset. Make sure you imported pandas."
      ],
      "metadata": {
        "id": "COPbIbD1BSHo"
      }
    },
    {
      "cell_type": "code",
      "source": [
        "flats = pd.read_csv('https://raw.githubusercontent.com/juliandnl/redi_ss20/master/berlin_rental.csv')"
      ],
      "metadata": {
        "id": "-z7SFI6TA4Ux"
      },
      "execution_count": 52,
      "outputs": []
    },
    {
      "cell_type": "markdown",
      "source": [
        "To Do: Print the first 5 rows."
      ],
      "metadata": {
        "id": "3_8nCQ7jQwyq"
      }
    },
    {
      "cell_type": "code",
      "source": [
        "print(flats.head())"
      ],
      "metadata": {
        "id": "Xw89xsqeQ2dN",
        "colab": {
          "base_uri": "https://localhost:8080/"
        },
        "outputId": "c5759560-14b5-4793-aa51-8f5399960bc1"
      },
      "execution_count": 54,
      "outputs": [
        {
          "output_type": "stream",
          "name": "stdout",
          "text": [
            "        Region       Condition  Rooms     Rent  Year_Construction   Space\n",
            "0        Mitte  first_time_use    4.0  2659.00               2019  117.20\n",
            "1    Kreuzberg  first_time_use    1.0  1200.00               2020   29.33\n",
            "2     Köpenick       well_kept    2.0   979.00               1997   83.61\n",
            "3  Wilmersdorf       well_kept    4.0  1830.22               1900  171.18\n",
            "4    Kreuzberg  first_time_use    2.0  2272.00               2020   88.27\n"
          ]
        }
      ]
    },
    {
      "cell_type": "markdown",
      "source": [
        "To Do: Get the type of *Condition*"
      ],
      "metadata": {
        "id": "HUfv1yBTHHlt"
      }
    },
    {
      "cell_type": "code",
      "source": [
        "print(type(flats['Condition']))"
      ],
      "metadata": {
        "id": "7Xg_g_Wzukn0",
        "colab": {
          "base_uri": "https://localhost:8080/"
        },
        "outputId": "ada2aef7-6b31-4860-e5da-26aa904a9bf6"
      },
      "execution_count": 55,
      "outputs": [
        {
          "output_type": "stream",
          "name": "stdout",
          "text": [
            "<class 'pandas.core.series.Series'>\n"
          ]
        }
      ]
    },
    {
      "cell_type": "markdown",
      "source": [
        "To Do: How many rows and columns does *flats* have?"
      ],
      "metadata": {
        "id": "A9OBiuo-HTS_"
      }
    },
    {
      "cell_type": "code",
      "source": [
        "flats.shape"
      ],
      "metadata": {
        "colab": {
          "base_uri": "https://localhost:8080/"
        },
        "id": "fuGmg_hT1uAP",
        "outputId": "368a16bd-27cc-46f8-b7b9-e70e391d5d13"
      },
      "execution_count": 70,
      "outputs": [
        {
          "output_type": "execute_result",
          "data": {
            "text/plain": [
              "(764, 6)"
            ]
          },
          "metadata": {},
          "execution_count": 70
        }
      ]
    },
    {
      "cell_type": "code",
      "source": [
        "type(flats.shape)"
      ],
      "metadata": {
        "colab": {
          "base_uri": "https://localhost:8080/"
        },
        "id": "ZxXklwW12XKe",
        "outputId": "c6adb2ca-5b48-4f33-86a3-4e172e02cca0"
      },
      "execution_count": 71,
      "outputs": [
        {
          "output_type": "execute_result",
          "data": {
            "text/plain": [
              "tuple"
            ]
          },
          "metadata": {},
          "execution_count": 71
        }
      ]
    },
    {
      "cell_type": "code",
      "source": [
        "print(\"The dataframe has\", flats.shape[0], \"rows and \", flats.shape[1], \"columns\")"
      ],
      "metadata": {
        "id": "0wpdiWc4u7A0",
        "colab": {
          "base_uri": "https://localhost:8080/"
        },
        "outputId": "84f6fdd1-5c9e-4314-bf98-7db978ed64ed"
      },
      "execution_count": 61,
      "outputs": [
        {
          "output_type": "stream",
          "name": "stdout",
          "text": [
            "The dataframe has 764 rows and  6 columns\n"
          ]
        }
      ]
    },
    {
      "cell_type": "markdown",
      "source": [
        "*Need Help? [kaggle resource](https://www.kaggle.com/learn/pandas), [Datacamp Resource](https://www.datacamp.com/tutorial/pandas)*."
      ],
      "metadata": {
        "id": "OIJSz96FHc7j"
      }
    },
    {
      "cell_type": "markdown",
      "source": [
        "# Congratulations - You are Done! 👍\n",
        "\n",
        "Now you mark your Prework as complete and finish the Application Form. In the Application Form we ask you to share the link to this Google Colab!\n",
        "\n",
        "**Please update the sharing settings: Share with everyone. So that we can open your Colab.**"
      ],
      "metadata": {
        "id": "XTbkEDfWHxwV"
      }
    }
  ]
}