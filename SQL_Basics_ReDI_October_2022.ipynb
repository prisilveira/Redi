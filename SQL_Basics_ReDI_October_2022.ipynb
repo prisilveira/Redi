{
  "nbformat": 4,
  "nbformat_minor": 0,
  "metadata": {
    "colab": {
      "provenance": [],
      "include_colab_link": true
    },
    "kernelspec": {
      "name": "python3",
      "display_name": "Python 3"
    },
    "language_info": {
      "name": "python"
    }
  },
  "cells": [
    {
      "cell_type": "markdown",
      "metadata": {
        "id": "view-in-github",
        "colab_type": "text"
      },
      "source": [
        "<a href=\"https://colab.research.google.com/github/prisilveira/Redi/blob/main/SQL_Basics_ReDI_October_2022.ipynb\" target=\"_parent\"><img src=\"https://colab.research.google.com/assets/colab-badge.svg\" alt=\"Open In Colab\"/></a>"
      ]
    },
    {
      "cell_type": "markdown",
      "source": [
        "# Homework SQL Basics\n",
        "\n",
        "This colab is a little different. We won't be execution code here. This colab is meant for you to collect your answers to the homework on SQL Basics. Theoretically, there would be ways to run SQL queries here but it's requires some setup and is rather unintuitive.\n",
        "\n",
        "Instead, please go to the SQLZoo website and follow the SQL FROM WORLD tutorial. You can find the link [here](https://sqlzoo.net/wiki/SELECT_from_WORLD_Tutorial).\n",
        "\n",
        "You can use the input fields of the tutorial to write and test your answers. The interface is much more like a real world application than what we would mimic here. The input field is not persistent, i.e. when you reload the page you will lose your answers.\n",
        "\n",
        "Therefor, once you have come to an answer please write them down here in the corresponding field.\n",
        "\n",
        "You can see question 1 as an example."
      ],
      "metadata": {
        "id": "bbGBF3oATJee"
      }
    },
    {
      "cell_type": "markdown",
      "source": [
        "### Question 1)\n",
        "\n",
        "This is only meant for you to explore the table.\n",
        "\n",
        "Your answer: `SELECT name, continent, population FROM world`"
      ],
      "metadata": {
        "id": "ZBK7yWPVUQ-6"
      }
    },
    {
      "cell_type": "markdown",
      "source": [
        "### Question 2)\n",
        "\n",
        "Show the name for the countries that have a population of at least 200 million. 200 million is 200000000, there are eight zeros.\n",
        "\n",
        "Your Answer:"
      ],
      "metadata": {
        "id": "upF_KE1bUlF8"
      }
    },
    {
      "cell_type": "code",
      "source": [
        "SELECT * FROM somewhere WHERE something = another_thing"
      ],
      "metadata": {
        "id": "VrtXYhx5BSEX"
      },
      "execution_count": null,
      "outputs": []
    },
    {
      "cell_type": "markdown",
      "source": [
        "### Question 3)\n",
        "\n",
        "Give the name and the per capita GDP for those countries with a population of at least 200 million.\n",
        "\n",
        "Your answer:\n",
        "\n"
      ],
      "metadata": {
        "id": "teDFPYs9UWdK"
      }
    },
    {
      "cell_type": "code",
      "source": [],
      "metadata": {
        "id": "RUSjwRlKBirA"
      },
      "execution_count": null,
      "outputs": []
    },
    {
      "cell_type": "markdown",
      "source": [
        "### Question 4)\n",
        "\n",
        "Show the name and population in millions for the countries of the continent 'South America'. Divide the population by 1000000 to get population in millions.\n",
        "\n",
        "Your answer:\n",
        "\n"
      ],
      "metadata": {
        "id": "DDGuBzkolnS5"
      }
    },
    {
      "cell_type": "code",
      "source": [],
      "metadata": {
        "id": "R_UrFOn5BlI3"
      },
      "execution_count": null,
      "outputs": []
    },
    {
      "cell_type": "markdown",
      "source": [
        "### Question 5)\n",
        "\n",
        "Show the name and population for France, Germany, Italy.\n",
        "\n",
        "Your answer:\n",
        "\n",
        "\n"
      ],
      "metadata": {
        "id": "oXIPTaTnlu_2"
      }
    },
    {
      "cell_type": "code",
      "source": [],
      "metadata": {
        "id": "CZzSjFuwBr1E"
      },
      "execution_count": null,
      "outputs": []
    },
    {
      "cell_type": "markdown",
      "source": [
        "### Question 6)\n",
        "\n",
        "Show the countries which have a name that includes the word 'United'.\n",
        "\n",
        "Your answer:"
      ],
      "metadata": {
        "id": "_lM7gNRTlvkl"
      }
    },
    {
      "cell_type": "code",
      "source": [],
      "metadata": {
        "id": "cg91NaDDBuR0"
      },
      "execution_count": null,
      "outputs": []
    },
    {
      "cell_type": "markdown",
      "source": [
        "### Question 7)\n",
        "\n",
        "Two ways to be big: A country is big if it has an area of more than 3 million sq km or it has a population of more than 250 million.\n",
        "\n",
        "Show the countries that are big by area or big by population. Show name, population and area\n",
        "\n",
        "Your answer:\n"
      ],
      "metadata": {
        "id": "XSNbrmt1lv0j"
      }
    },
    {
      "cell_type": "code",
      "source": [],
      "metadata": {
        "id": "IoFmCZR-Byf3"
      },
      "execution_count": null,
      "outputs": []
    },
    {
      "cell_type": "markdown",
      "source": [
        "### Question 8)\n",
        "\n",
        "Exclusive OR (XOR). Show the countries that are big by area (more than 3 million) or big by population (more than 250 million) but not both. Show name, population and area.\n",
        "\n",
        "Your answer:\n"
      ],
      "metadata": {
        "id": "skFa9QQOlwDT"
      }
    },
    {
      "cell_type": "code",
      "source": [],
      "metadata": {
        "id": "XA0VwViEB0H2"
      },
      "execution_count": null,
      "outputs": []
    },
    {
      "cell_type": "markdown",
      "source": [
        "### Question 9)\n",
        "\n",
        "Show the name and population in millions and the GDP in billions for the countries of the continent 'South America'. Use the ROUND function to show the values to two decimal places.\n",
        "\n",
        "Your answer:\n"
      ],
      "metadata": {
        "id": "2F5vqylZlwP2"
      }
    },
    {
      "cell_type": "code",
      "source": [],
      "metadata": {
        "id": "OkOzVN6NB2T2"
      },
      "execution_count": null,
      "outputs": []
    },
    {
      "cell_type": "markdown",
      "source": [
        "### Question 10)\n",
        "\n",
        "Show the name and per-capita GDP for those countries with a GDP of at least one trillion (1000000000000; that is 12 zeros). Round this value to the nearest 1000.\n",
        "\n",
        "E.g. when GDP per capita is 62,323 show 62000\n",
        "\n",
        "Your answer:\n"
      ],
      "metadata": {
        "id": "mL8wrazAlwcR"
      }
    },
    {
      "cell_type": "code",
      "source": [],
      "metadata": {
        "id": "92g7_LqBB3v7"
      },
      "execution_count": null,
      "outputs": []
    },
    {
      "cell_type": "markdown",
      "source": [
        "### Question 11)\n",
        "\n",
        "Show the name and capital where the name and the capital have the same number of characters.\n",
        "\n",
        "\n",
        "Your answer:\n",
        "\n"
      ],
      "metadata": {
        "id": "KhREULPelwoE"
      }
    },
    {
      "cell_type": "code",
      "source": [],
      "metadata": {
        "id": "6Aw-LJQIB5RS"
      },
      "execution_count": null,
      "outputs": []
    },
    {
      "cell_type": "markdown",
      "source": [
        "### Question 12)\n",
        "\n",
        "Show the name and the capital where the first letters of each match. Don't include countries where the name and the capital are the same word.\n",
        "\n",
        "Your answer:\n",
        "\n"
      ],
      "metadata": {
        "id": "gYbDeZ8-lwz-"
      }
    },
    {
      "cell_type": "code",
      "source": [],
      "metadata": {
        "id": "sbvr2i0wB6lp"
      },
      "execution_count": null,
      "outputs": []
    },
    {
      "cell_type": "markdown",
      "source": [
        "### Question 13)\n",
        "\n",
        "Find the country that has all the vowels and no spaces in its name.\n",
        "\n",
        "Your answer:\n",
        "\n"
      ],
      "metadata": {
        "id": "Bb36GXJ9lw_P"
      }
    },
    {
      "cell_type": "code",
      "source": [],
      "metadata": {
        "id": "jjkvCqxvB8E2"
      },
      "execution_count": null,
      "outputs": []
    }
  ]
}