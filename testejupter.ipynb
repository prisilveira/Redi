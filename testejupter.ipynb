{
 "cells": [
  {
   "cell_type": "markdown",
   "metadata": {},
   "source": [
    "#Introduction"
   ]
  },
  {
   "cell_type": "markdown",
   "metadata": {},
   "source": [
    "Final project of Introduction to python ReDiSchool - Priscila Silveira\n",
    "\n",
    "https://github.com/ReDI-School/nrw-intro-to-python/blob/master/lecture-21/final_project_data_science.ipynb"
   ]
  },
  {
   "cell_type": "markdown",
   "metadata": {},
   "source": [
    "Final Project - Data Science\n",
    "As a fresh data scientist at the company StackOverflow, you have been tasked with analyzing this year's developer survey results to find interesting facts and directions in the software development community. Once you're done, your colleagues at the design department will create a report from your analysis results and publish it online. They can't wait to see what interesting facts you uncover!"
   ]
  },
  {
   "cell_type": "markdown",
   "metadata": {},
   "source": [
    "Data Acquisition and Data Understanding\n",
    "1. Get the data from https://insights.stackoverflow.com/survey and unzip it.\n",
    "2. Load the survey data into a pandas dataframe and display it.\n",
    "3. How many rows does the table have and which columns are present?\n"
   ]
  },
  {
   "cell_type": "code",
   "execution_count": 44,
   "metadata": {},
   "outputs": [
    {
     "name": "stdout",
     "output_type": "stream",
     "text": [
      "       ResponseId                      MainBranch                 Age  \\\n",
      "0               1  I am a developer by profession  Under 18 years old   \n",
      "1               2  I am a developer by profession     35-44 years old   \n",
      "2               3  I am a developer by profession     45-54 years old   \n",
      "3               4           I am learning to code     18-24 years old   \n",
      "4               5  I am a developer by profession     18-24 years old   \n",
      "...           ...                             ...                 ...   \n",
      "65432       65433  I am a developer by profession     18-24 years old   \n",
      "65433       65434  I am a developer by profession     25-34 years old   \n",
      "65434       65435  I am a developer by profession     25-34 years old   \n",
      "65435       65436  I am a developer by profession     18-24 years old   \n",
      "65436       65437     I code primarily as a hobby     18-24 years old   \n",
      "\n",
      "                Employment                            RemoteWork   Check  \\\n",
      "0      Employed, full-time                                Remote  Apples   \n",
      "1      Employed, full-time                                Remote  Apples   \n",
      "2      Employed, full-time                                Remote  Apples   \n",
      "3       Student, full-time                                   NaN  Apples   \n",
      "4       Student, full-time                                   NaN  Apples   \n",
      "...                    ...                                   ...     ...   \n",
      "65432  Employed, full-time                                Remote  Apples   \n",
      "65433  Employed, full-time                                Remote  Apples   \n",
      "65434  Employed, full-time                             In-person  Apples   \n",
      "65435  Employed, full-time  Hybrid (some remote, some in-person)  Apples   \n",
      "65436   Student, full-time                                   NaN  Apples   \n",
      "\n",
      "                                        CodingActivities  \\\n",
      "0                                                  Hobby   \n",
      "1      Hobby;Contribute to open-source projects;Other...   \n",
      "2      Hobby;Contribute to open-source projects;Other...   \n",
      "3                                                    NaN   \n",
      "4                                                    NaN   \n",
      "...                                                  ...   \n",
      "65432                      Hobby;School or academic work   \n",
      "65433           Hobby;Contribute to open-source projects   \n",
      "65434                                              Hobby   \n",
      "65435  Hobby;Contribute to open-source projects;Profe...   \n",
      "65436                                                NaN   \n",
      "\n",
      "                                                 EdLevel  \\\n",
      "0                              Primary/elementary school   \n",
      "1           Bachelor’s degree (B.A., B.S., B.Eng., etc.)   \n",
      "2        Master’s degree (M.A., M.S., M.Eng., MBA, etc.)   \n",
      "3      Some college/university study without earning ...   \n",
      "4      Secondary school (e.g. American high school, G...   \n",
      "...                                                  ...   \n",
      "65432       Bachelor’s degree (B.A., B.S., B.Eng., etc.)   \n",
      "65433                                                NaN   \n",
      "65434       Bachelor’s degree (B.A., B.S., B.Eng., etc.)   \n",
      "65435  Secondary school (e.g. American high school, G...   \n",
      "65436                                                NaN   \n",
      "\n",
      "                                               LearnCode  \\\n",
      "0                                 Books / Physical media   \n",
      "1      Books / Physical media;Colleague;On the job tr...   \n",
      "2      Books / Physical media;Colleague;On the job tr...   \n",
      "3      Other online resources (e.g., videos, blogs, f...   \n",
      "4      Other online resources (e.g., videos, blogs, f...   \n",
      "...                                                  ...   \n",
      "65432  On the job training;School (i.e., University, ...   \n",
      "65433                                                NaN   \n",
      "65434  Other online resources (e.g., videos, blogs, f...   \n",
      "65435  On the job training;Other online resources (e....   \n",
      "65436                                                NaN   \n",
      "\n",
      "                                         LearnCodeOnline  ... JobSatPoints_6  \\\n",
      "0                                                    NaN  ...            NaN   \n",
      "1      Technical documentation;Blogs;Books;Written Tu...  ...            0.0   \n",
      "2      Technical documentation;Blogs;Books;Written Tu...  ...            NaN   \n",
      "3      Stack Overflow;How-to videos;Interactive tutorial  ...            NaN   \n",
      "4      Technical documentation;Blogs;Written Tutorial...  ...            NaN   \n",
      "...                                                  ...  ...            ...   \n",
      "65432                                                NaN  ...            NaN   \n",
      "65433                                                NaN  ...            NaN   \n",
      "65434  Technical documentation;Stack Overflow;Social ...  ...            NaN   \n",
      "65435  Technical documentation;Blogs;Written Tutorial...  ...            0.0   \n",
      "65436                                                NaN  ...            NaN   \n",
      "\n",
      "      JobSatPoints_7 JobSatPoints_8 JobSatPoints_9 JobSatPoints_10  \\\n",
      "0                NaN            NaN            NaN             NaN   \n",
      "1                0.0            0.0            0.0             0.0   \n",
      "2                NaN            NaN            NaN             NaN   \n",
      "3                NaN            NaN            NaN             NaN   \n",
      "4                NaN            NaN            NaN             NaN   \n",
      "...              ...            ...            ...             ...   \n",
      "65432            NaN            NaN            NaN             NaN   \n",
      "65433            NaN            NaN            NaN             NaN   \n",
      "65434            NaN            NaN            NaN             NaN   \n",
      "65435            0.0            0.0            0.0             0.0   \n",
      "65436            NaN            NaN            NaN             NaN   \n",
      "\n",
      "      JobSatPoints_11           SurveyLength SurveyEase ConvertedCompYearly  \\\n",
      "0                 NaN                    NaN        NaN                 NaN   \n",
      "1                 0.0                    NaN        NaN                 NaN   \n",
      "2                 NaN  Appropriate in length       Easy                 NaN   \n",
      "3                 NaN               Too long       Easy                 NaN   \n",
      "4                 NaN              Too short       Easy                 NaN   \n",
      "...               ...                    ...        ...                 ...   \n",
      "65432             NaN                    NaN        NaN                 NaN   \n",
      "65433             NaN                    NaN        NaN                 NaN   \n",
      "65434             NaN                    NaN        NaN                 NaN   \n",
      "65435             0.0                    NaN        NaN                 NaN   \n",
      "65436             NaN                    NaN        NaN                 NaN   \n",
      "\n",
      "      JobSat  \n",
      "0        NaN  \n",
      "1        NaN  \n",
      "2        NaN  \n",
      "3        NaN  \n",
      "4        NaN  \n",
      "...      ...  \n",
      "65432    NaN  \n",
      "65433    NaN  \n",
      "65434    NaN  \n",
      "65435    NaN  \n",
      "65436    NaN  \n",
      "\n",
      "[65437 rows x 114 columns]\n",
      "65437\n"
     ]
    }
   ],
   "source": [
    "import pandas as pd\n",
    "\n",
    "survey=pd.read_csv('survey.csv')\n",
    "print(survey)\n",
    "\n",
    "nrows=len(survey)\n",
    "print(nrows)\n"
   ]
  },
  {
   "cell_type": "code",
   "execution_count": 45,
   "metadata": {},
   "outputs": [
    {
     "name": "stdout",
     "output_type": "stream",
     "text": [
      "Index(['ResponseId', 'MainBranch', 'Age', 'Employment', 'RemoteWork', 'Check',\n",
      "       'CodingActivities', 'EdLevel', 'LearnCode', 'LearnCodeOnline',\n",
      "       ...\n",
      "       'JobSatPoints_6', 'JobSatPoints_7', 'JobSatPoints_8', 'JobSatPoints_9',\n",
      "       'JobSatPoints_10', 'JobSatPoints_11', 'SurveyLength', 'SurveyEase',\n",
      "       'ConvertedCompYearly', 'JobSat'],\n",
      "      dtype='object', length=114)\n"
     ]
    }
   ],
   "source": [
    "colnames=survey.columns\n",
    "\n",
    "print(colnames)"
   ]
  },
  {
   "cell_type": "markdown",
   "metadata": {},
   "source": [
    "4. Load the schema table into a pandas dataframe and display it. -> Skim the column descriptions to get familiar with the data."
   ]
  },
  {
   "cell_type": "code",
   "execution_count": 46,
   "metadata": {},
   "outputs": [
    {
     "name": "stdout",
     "output_type": "stream",
     "text": [
      "       qid            qname  \\\n",
      "0     QID2       MainBranch   \n",
      "1   QID127              Age   \n",
      "2   QID296       Employment   \n",
      "3   QID308       RemoteWork   \n",
      "4   QID341            Check   \n",
      "..     ...              ...   \n",
      "82  QID337   JobSatPoints_7   \n",
      "83  QID337   JobSatPoints_8   \n",
      "84  QID337   JobSatPoints_9   \n",
      "85  QID337  JobSatPoints_10   \n",
      "86  QID337  JobSatPoints_11   \n",
      "\n",
      "                                             question force_resp type selector  \n",
      "0   Which of the following options best describes ...       True   MC     SAVR  \n",
      "1                                  What is your age?*       True   MC     SAVR  \n",
      "2   Which of the following best describes your cur...       True   MC     MAVR  \n",
      "3   Which best describes your current work situation?      False   MC     SAVR  \n",
      "4   Just checking to make sure you are paying atte...       True   MC     SAVR  \n",
      "..                                                ...        ...  ...      ...  \n",
      "82  Learning and using new technology, including p...        NaN   MC     MAVR  \n",
      "83  Designing and building environments, databases...        NaN   MC     MAVR  \n",
      "84  Being a power user of a tool, developer langua...        NaN   MC     MAVR  \n",
      "85       Working with new and/or top-quality hardware        NaN   MC     MAVR  \n",
      "86  A well-staffed/sourced internal network that m...        NaN   MC     MAVR  \n",
      "\n",
      "[87 rows x 6 columns]\n"
     ]
    }
   ],
   "source": [
    "schema_df= pd.read_csv('survey_results_schema.csv')\n",
    "print(schema_df)"
   ]
  },
  {
   "cell_type": "markdown",
   "metadata": {},
   "source": [
    "The data is composed of 14 columns with numerical values. The mean work experience is 11 years"
   ]
  },
  {
   "cell_type": "markdown",
   "metadata": {},
   "source": [
    "5. What values are present in the column MainBranch and how often are these values present.\n",
    "Hint: you can select a column via df[<column name>] and columns (called 'Series' in pandas) have a method called value_counts."
   ]
  },
  {
   "cell_type": "code",
   "execution_count": 47,
   "metadata": {},
   "outputs": [
    {
     "name": "stdout",
     "output_type": "stream",
     "text": [
      "MainBranch\n",
      "I am a developer by profession                                                           50207\n",
      "I am not primarily a developer, but I write code sometimes as part of my work/studies     6511\n",
      "I am learning to code                                                                     3875\n",
      "I code primarily as a hobby                                                               3334\n",
      "I used to be a developer by profession, but no longer am                                  1510\n",
      "Name: count, dtype: int64\n"
     ]
    }
   ],
   "source": [
    "freq_values=survey['MainBranch'].value_counts()\n",
    "print(freq_values)\n"
   ]
  },
  {
   "cell_type": "code",
   "execution_count": 48,
   "metadata": {},
   "outputs": [
    {
     "name": "stdout",
     "output_type": "stream",
     "text": [
      "                                  Type of respondent  Count\n",
      "0                     I am a developer by profession  50207\n",
      "1  I am not primarily a developer, but I write co...   6511\n",
      "2                              I am learning to code   3875\n",
      "3                        I code primarily as a hobby   3334\n",
      "4  I used to be a developer by profession, but no...   1510\n"
     ]
    }
   ],
   "source": [
    "import plotly.express as px\n",
    "\n",
    "freqval=pd.DataFrame(freq_values).reset_index()\n",
    "\n",
    "\n",
    "# Rename the columns for clarity\n",
    "freqval.columns = ['Type of respondent', 'Count']\n",
    "print(freqval)\n",
    "\n",
    "\n"
   ]
  },
  {
   "cell_type": "markdown",
   "metadata": {},
   "source": [
    "6. How high is the percentage of professional developers, who also code as a hobby?\n",
    "\n",
    "Use the columns MainBranch and Hobbyist to answer this. Hint: You can filter a dataframe by a column's values via filtered_df = df[df[<column name>] == <value>]."
   ]
  },
  {
   "cell_type": "code",
   "execution_count": 49,
   "metadata": {},
   "outputs": [
    {
     "name": "stdout",
     "output_type": "stream",
     "text": [
      "50207\n",
      "32039\n",
      "63.81% of professional developers code as hobby\n"
     ]
    }
   ],
   "source": [
    "profdev=survey[survey['MainBranch']== 'I am a developer by profession']\n",
    "hobbyprof=profdev['CodingActivities'].apply(\n",
    "        lambda x: isinstance(x, str) # ensures that x is a string before calling split\n",
    "        and 'Hobby' in x.split(\";\")\n",
    ") #checking if the string Hobby is present. Output is a logical operator\n",
    "total_profdev=len(profdev['MainBranch'])\n",
    "print(total_profdev)\n",
    "#finding how many trues are present on the hobbyproof\n",
    "total_hobby=len(hobbyprof[hobbyprof == True])\n",
    "print(total_hobby)\n",
    "#calculating percentage of hobbyitst among professional developers\n",
    "hobbyists=total_hobby*100/total_profdev\n",
    "print(f\"{hobbyists:.2f}% of professional developers code as hobby\")"
   ]
  },
  {
   "cell_type": "code",
   "execution_count": 50,
   "metadata": {},
   "outputs": [
    {
     "name": "stdout",
     "output_type": "stream",
     "text": [
      "Index(['ResponseId', 'MainBranch', 'Age', 'Employment', 'RemoteWork', 'Check',\n",
      "       'CodingActivities', 'EdLevel', 'LearnCode', 'LearnCodeOnline',\n",
      "       ...\n",
      "       'JobSatPoints_6', 'JobSatPoints_7', 'JobSatPoints_8', 'JobSatPoints_9',\n",
      "       'JobSatPoints_10', 'JobSatPoints_11', 'SurveyLength', 'SurveyEase',\n",
      "       'ConvertedCompYearly', 'JobSat'],\n",
      "      dtype='object', length=114)\n",
      "Percentage of professional developers who code as a hobby: 63.81%\n"
     ]
    }
   ],
   "source": [
    "## How high is the percentage of professional developers, who also code as a hobby?\n",
    "# Check column names for debugging\n",
    "print(survey.columns)\n",
    " \n",
    "# Filter for professional developers who code as a hobby\n",
    "profhobby = survey[\n",
    "    (survey['MainBranch'] == \"I am a developer by profession\") &\n",
    "    (survey['CodingActivities'].str.contains(\"Hobby\", na=False))\n",
    "]\n",
    " \n",
    "# Percentage calculation\n",
    "percentage = (\n",
    "    len(profhobby) /\n",
    "    len(survey[survey['MainBranch'] == \"I am a developer by profession\"])\n",
    ") * 100\n",
    " \n",
    "print(f\"Percentage of professional developers who code as a hobby: {percentage:.2f}%\")"
   ]
  },
  {
   "cell_type": "markdown",
   "metadata": {},
   "source": [
    "7. Plot the age distribution of German developers.\n",
    "\n",
    "Hint: a violin plot (https://plotly.com/python/violin/) might be a good fit."
   ]
  },
  {
   "cell_type": "code",
   "execution_count": 51,
   "metadata": {},
   "outputs": [
    {
     "name": "stdout",
     "output_type": "stream",
     "text": [
      "['ResponseId', 'MainBranch', 'Age', 'Employment', 'RemoteWork', 'Check', 'CodingActivities', 'EdLevel', 'LearnCode', 'LearnCodeOnline', 'TechDoc', 'YearsCode', 'YearsCodePro', 'DevType', 'OrgSize', 'PurchaseInfluence', 'BuyNewTool', 'BuildvsBuy', 'TechEndorse', 'Country', 'Currency', 'CompTotal', 'LanguageHaveWorkedWith', 'LanguageWantToWorkWith', 'LanguageAdmired', 'DatabaseHaveWorkedWith', 'DatabaseWantToWorkWith', 'DatabaseAdmired', 'PlatformHaveWorkedWith', 'PlatformWantToWorkWith', 'PlatformAdmired', 'WebframeHaveWorkedWith', 'WebframeWantToWorkWith', 'WebframeAdmired', 'EmbeddedHaveWorkedWith', 'EmbeddedWantToWorkWith', 'EmbeddedAdmired', 'MiscTechHaveWorkedWith', 'MiscTechWantToWorkWith', 'MiscTechAdmired', 'ToolsTechHaveWorkedWith', 'ToolsTechWantToWorkWith', 'ToolsTechAdmired', 'NEWCollabToolsHaveWorkedWith', 'NEWCollabToolsWantToWorkWith', 'NEWCollabToolsAdmired', 'OpSysPersonal use', 'OpSysProfessional use', 'OfficeStackAsyncHaveWorkedWith', 'OfficeStackAsyncWantToWorkWith', 'OfficeStackAsyncAdmired', 'OfficeStackSyncHaveWorkedWith', 'OfficeStackSyncWantToWorkWith', 'OfficeStackSyncAdmired', 'AISearchDevHaveWorkedWith', 'AISearchDevWantToWorkWith', 'AISearchDevAdmired', 'NEWSOSites', 'SOVisitFreq', 'SOAccount', 'SOPartFreq', 'SOHow', 'SOComm', 'AISelect', 'AISent', 'AIBen', 'AIAcc', 'AIComplex', 'AIToolCurrently Using', 'AIToolInterested in Using', 'AIToolNot interested in Using', 'AINextMuch more integrated', 'AINextNo change', 'AINextMore integrated', 'AINextLess integrated', 'AINextMuch less integrated', 'AIThreat', 'AIEthics', 'AIChallenges', 'TBranch', 'ICorPM', 'WorkExp', 'Knowledge_1', 'Knowledge_2', 'Knowledge_3', 'Knowledge_4', 'Knowledge_5', 'Knowledge_6', 'Knowledge_7', 'Knowledge_8', 'Knowledge_9', 'Frequency_1', 'Frequency_2', 'Frequency_3', 'TimeSearching', 'TimeAnswering', 'Frustration', 'ProfessionalTech', 'ProfessionalCloud', 'ProfessionalQuestion', 'Industry', 'JobSatPoints_1', 'JobSatPoints_4', 'JobSatPoints_5', 'JobSatPoints_6', 'JobSatPoints_7', 'JobSatPoints_8', 'JobSatPoints_9', 'JobSatPoints_10', 'JobSatPoints_11', 'SurveyLength', 'SurveyEase', 'ConvertedCompYearly', 'JobSat']\n"
     ]
    }
   ],
   "source": [
    "#make a list with the name of the columns\n",
    "colnameslist= survey.columns.tolist()\n",
    "print(colnameslist)\n"
   ]
  },
  {
   "cell_type": "code",
   "execution_count": 52,
   "metadata": {},
   "outputs": [
    {
     "name": "stdout",
     "output_type": "stream",
     "text": [
      "       ResponseId                                         MainBranch  \\\n",
      "18             19                     I am a developer by profession   \n",
      "20             21  I am not primarily a developer, but I write co...   \n",
      "21             22                     I am a developer by profession   \n",
      "48             49                     I am a developer by profession   \n",
      "49             50                     I am a developer by profession   \n",
      "...           ...                                                ...   \n",
      "65163       65164                     I am a developer by profession   \n",
      "65181       65182                     I am a developer by profession   \n",
      "65334       65335                     I am a developer by profession   \n",
      "65371       65372  I am not primarily a developer, but I write co...   \n",
      "65435       65436                     I am a developer by profession   \n",
      "\n",
      "                     Age                                         Employment  \\\n",
      "18       25-34 years old                                Employed, full-time   \n",
      "20       25-34 years old                                Employed, full-time   \n",
      "21       35-44 years old                                Employed, full-time   \n",
      "48     65 years or older  Independent contractor, freelancer, or self-em...   \n",
      "49       25-34 years old                                Employed, full-time   \n",
      "...                  ...                                                ...   \n",
      "65163    18-24 years old                                Employed, full-time   \n",
      "65181    25-34 years old                                Employed, full-time   \n",
      "65334    18-24 years old             Student, full-time;Employed, part-time   \n",
      "65371    25-34 years old                                Employed, full-time   \n",
      "65435    18-24 years old                                Employed, full-time   \n",
      "\n",
      "                                 RemoteWork   Check  \\\n",
      "18     Hybrid (some remote, some in-person)  Apples   \n",
      "20     Hybrid (some remote, some in-person)  Apples   \n",
      "21                                In-person  Apples   \n",
      "48                                   Remote  Apples   \n",
      "49                                   Remote  Apples   \n",
      "...                                     ...     ...   \n",
      "65163  Hybrid (some remote, some in-person)  Apples   \n",
      "65181  Hybrid (some remote, some in-person)  Apples   \n",
      "65334  Hybrid (some remote, some in-person)  Apples   \n",
      "65371  Hybrid (some remote, some in-person)  Apples   \n",
      "65435  Hybrid (some remote, some in-person)  Apples   \n",
      "\n",
      "                                        CodingActivities  \\\n",
      "18     Hobby;Professional development or self-paced l...   \n",
      "20     Hobby;Professional development or self-paced l...   \n",
      "21                                                 Hobby   \n",
      "48                                                 Hobby   \n",
      "49     Hobby;Professional development or self-paced l...   \n",
      "...                                                  ...   \n",
      "65163  Hobby;Professional development or self-paced l...   \n",
      "65181                                              Hobby   \n",
      "65334  Hobby;Bootstrapping a business;School or acade...   \n",
      "65371  Hobby;Professional development or self-paced l...   \n",
      "65435  Hobby;Contribute to open-source projects;Profe...   \n",
      "\n",
      "                                                 EdLevel  \\\n",
      "18     Some college/university study without earning ...   \n",
      "20       Master’s degree (M.A., M.S., M.Eng., MBA, etc.)   \n",
      "21       Master’s degree (M.A., M.S., M.Eng., MBA, etc.)   \n",
      "48     Some college/university study without earning ...   \n",
      "49     Some college/university study without earning ...   \n",
      "...                                                  ...   \n",
      "65163                Associate degree (A.A., A.S., etc.)   \n",
      "65181       Bachelor’s degree (B.A., B.S., B.Eng., etc.)   \n",
      "65334  Secondary school (e.g. American high school, G...   \n",
      "65371    Master’s degree (M.A., M.S., M.Eng., MBA, etc.)   \n",
      "65435  Secondary school (e.g. American high school, G...   \n",
      "\n",
      "                                               LearnCode  \\\n",
      "18     Books / Physical media;On the job training;Oth...   \n",
      "20     Other online resources (e.g., videos, blogs, f...   \n",
      "21     Books / Physical media;Colleague;On the job tr...   \n",
      "48     Books / Physical media;Other online resources ...   \n",
      "49     Books / Physical media;On the job training;Oth...   \n",
      "...                                                  ...   \n",
      "65163  On the job training;Other online resources (e....   \n",
      "65181  Books / Physical media;Colleague;On the job tr...   \n",
      "65334  Other online resources (e.g., videos, blogs, f...   \n",
      "65371  Books / Physical media;Other online resources ...   \n",
      "65435  On the job training;Other online resources (e....   \n",
      "\n",
      "                                         LearnCodeOnline  ... JobSatPoints_6  \\\n",
      "18     Technical documentation;Blogs;Books;Stack Over...  ...           60.0   \n",
      "20     Written Tutorials;Stack Overflow;Interactive t...  ...          100.0   \n",
      "21     Technical documentation;Blogs;Books;Written Tu...  ...            NaN   \n",
      "48     Technical documentation;Blogs;Books;Written Tu...  ...            NaN   \n",
      "49     Technical documentation;Blogs;Books;Written Tu...  ...            0.0   \n",
      "...                                                  ...  ...            ...   \n",
      "65163  Technical documentation;Written Tutorials;Stac...  ...           50.0   \n",
      "65181  Technical documentation;Blogs;Books;Written Tu...  ...            NaN   \n",
      "65334   Technical documentation;Blogs;Books;Social Media  ...            NaN   \n",
      "65371  Technical documentation;Blogs;Books;Written Tu...  ...            NaN   \n",
      "65435  Technical documentation;Blogs;Written Tutorial...  ...            0.0   \n",
      "\n",
      "      JobSatPoints_7 JobSatPoints_8 JobSatPoints_9 JobSatPoints_10  \\\n",
      "18              10.0           10.0            0.0             0.0   \n",
      "20              90.0           90.0          100.0            90.0   \n",
      "21               NaN            NaN            NaN             NaN   \n",
      "48               NaN            NaN            NaN             NaN   \n",
      "49               0.0            0.0            0.0             0.0   \n",
      "...              ...            ...            ...             ...   \n",
      "65163           40.0           60.0           80.0            90.0   \n",
      "65181            NaN            NaN            NaN             NaN   \n",
      "65334            NaN            NaN            NaN             NaN   \n",
      "65371            NaN            NaN            NaN             NaN   \n",
      "65435            0.0            0.0            0.0             0.0   \n",
      "\n",
      "      JobSatPoints_11           SurveyLength                  SurveyEase  \\\n",
      "18                0.0  Appropriate in length                        Easy   \n",
      "20              100.0  Appropriate in length                        Easy   \n",
      "21                NaN  Appropriate in length                        Easy   \n",
      "48                NaN  Appropriate in length  Neither easy nor difficult   \n",
      "49                0.0  Appropriate in length                        Easy   \n",
      "...               ...                    ...                         ...   \n",
      "65163            75.0  Appropriate in length  Neither easy nor difficult   \n",
      "65181             NaN  Appropriate in length                        Easy   \n",
      "65334             NaN                    NaN                         NaN   \n",
      "65371             NaN                    NaN                         NaN   \n",
      "65435             0.0                    NaN                         NaN   \n",
      "\n",
      "      ConvertedCompYearly JobSat  \n",
      "18                    NaN   10.0  \n",
      "20                    NaN    6.0  \n",
      "21                    NaN    NaN  \n",
      "48                    NaN    NaN  \n",
      "49                    NaN    3.0  \n",
      "...                   ...    ...  \n",
      "65163                 NaN    9.0  \n",
      "65181                 NaN    NaN  \n",
      "65334                 NaN    NaN  \n",
      "65371                 NaN    NaN  \n",
      "65435                 NaN    NaN  \n",
      "\n",
      "[4947 rows x 114 columns]\n"
     ]
    }
   ],
   "source": [
    "# #first create a filter \n",
    "germanage=survey[survey['Country']=='Germany']\n",
    "print (germanage)"
   ]
  },
  {
   "cell_type": "code",
   "execution_count": 53,
   "metadata": {},
   "outputs": [],
   "source": [
    "#make violin plot\n",
    "import plotly.express as px\n",
    "fig=px.violin(germanage, y='Age')\n",
    "fig.show(renderer=\"browser\")"
   ]
  },
  {
   "cell_type": "markdown",
   "metadata": {},
   "source": [
    "8. What are the 3 most popular databases ?\n",
    "\n",
    "    8.1 Check out the column DatabaseWorkedWith. Look at the format of the values.\n",
    "    8.2 The format is complicated to work with (semicolon-separated-values). To help with this, you can use the helper function expand_column. Try out the function and understand what it does.\n",
    "    8.3 After expanding the column DatabaseWorkedWith, you can filter the columns of the dataframe, to only contain columns from the expansion. Hint: you can filter the columns of a dataframe like this: filtered_df = df[<list of column names>] (example: filtered_df = df[['col_a', 'col_b']]).\n",
    "    8.4 To finish the task, you might want to look at the dataframe methods sum and sort_values.\n"
   ]
  },
  {
   "cell_type": "code",
   "execution_count": 54,
   "metadata": {},
   "outputs": [],
   "source": [
    "def expand_column(df, col):\n",
    "    #\"Expand a column with semicolon-separated-values into multiple boolean columns, one for each value in the original column.\"\n",
    "\n",
    "    df = df.copy()\n",
    "\n",
    "    if col not in df.columns:\n",
    "        raise ValueError(f\"Column {col} not found in DataFrame\")\n",
    "\n",
    "    values = set()\n",
    "    for row in df[col]:\n",
    "        if not pd.isna(row):\n",
    "            for value in row.split(\";\"):\n",
    "                values.add(value)\n",
    "\n",
    "    for value in values:\n",
    "        df[f\"{col}_{value}\"] = df[col].map(\n",
    "            lambda v: value in v.split(\";\") if not pd.isna(v) else False\n",
    "        )\n",
    "    return df"
   ]
  },
  {
   "cell_type": "code",
   "execution_count": 55,
   "metadata": {},
   "outputs": [
    {
     "data": {
      "text/html": [
       "<div>\n",
       "<style scoped>\n",
       "    .dataframe tbody tr th:only-of-type {\n",
       "        vertical-align: middle;\n",
       "    }\n",
       "\n",
       "    .dataframe tbody tr th {\n",
       "        vertical-align: top;\n",
       "    }\n",
       "\n",
       "    .dataframe thead th {\n",
       "        text-align: right;\n",
       "    }\n",
       "</style>\n",
       "<table border=\"1\" class=\"dataframe\">\n",
       "  <thead>\n",
       "    <tr style=\"text-align: right;\">\n",
       "      <th></th>\n",
       "      <th>ResponseId</th>\n",
       "      <th>MainBranch</th>\n",
       "      <th>Age</th>\n",
       "      <th>Employment</th>\n",
       "      <th>RemoteWork</th>\n",
       "      <th>Check</th>\n",
       "      <th>CodingActivities</th>\n",
       "      <th>EdLevel</th>\n",
       "      <th>LearnCode</th>\n",
       "      <th>LearnCodeOnline</th>\n",
       "      <th>...</th>\n",
       "      <th>DatabaseHaveWorkedWith_RavenDB</th>\n",
       "      <th>DatabaseHaveWorkedWith_MySQL</th>\n",
       "      <th>DatabaseHaveWorkedWith_Cockroachdb</th>\n",
       "      <th>DatabaseHaveWorkedWith_Cassandra</th>\n",
       "      <th>DatabaseHaveWorkedWith_InfluxDB</th>\n",
       "      <th>DatabaseHaveWorkedWith_Databricks SQL</th>\n",
       "      <th>DatabaseHaveWorkedWith_Firebase Realtime Database</th>\n",
       "      <th>DatabaseHaveWorkedWith_Dynamodb</th>\n",
       "      <th>DatabaseHaveWorkedWith_EventStoreDB</th>\n",
       "      <th>DatabaseHaveWorkedWith_H2</th>\n",
       "    </tr>\n",
       "  </thead>\n",
       "  <tbody>\n",
       "    <tr>\n",
       "      <th>0</th>\n",
       "      <td>1</td>\n",
       "      <td>I am a developer by profession</td>\n",
       "      <td>Under 18 years old</td>\n",
       "      <td>Employed, full-time</td>\n",
       "      <td>Remote</td>\n",
       "      <td>Apples</td>\n",
       "      <td>Hobby</td>\n",
       "      <td>Primary/elementary school</td>\n",
       "      <td>Books / Physical media</td>\n",
       "      <td>NaN</td>\n",
       "      <td>...</td>\n",
       "      <td>False</td>\n",
       "      <td>False</td>\n",
       "      <td>False</td>\n",
       "      <td>False</td>\n",
       "      <td>False</td>\n",
       "      <td>False</td>\n",
       "      <td>False</td>\n",
       "      <td>False</td>\n",
       "      <td>False</td>\n",
       "      <td>False</td>\n",
       "    </tr>\n",
       "    <tr>\n",
       "      <th>1</th>\n",
       "      <td>2</td>\n",
       "      <td>I am a developer by profession</td>\n",
       "      <td>35-44 years old</td>\n",
       "      <td>Employed, full-time</td>\n",
       "      <td>Remote</td>\n",
       "      <td>Apples</td>\n",
       "      <td>Hobby;Contribute to open-source projects;Other...</td>\n",
       "      <td>Bachelor’s degree (B.A., B.S., B.Eng., etc.)</td>\n",
       "      <td>Books / Physical media;Colleague;On the job tr...</td>\n",
       "      <td>Technical documentation;Blogs;Books;Written Tu...</td>\n",
       "      <td>...</td>\n",
       "      <td>False</td>\n",
       "      <td>False</td>\n",
       "      <td>False</td>\n",
       "      <td>False</td>\n",
       "      <td>False</td>\n",
       "      <td>False</td>\n",
       "      <td>False</td>\n",
       "      <td>True</td>\n",
       "      <td>False</td>\n",
       "      <td>False</td>\n",
       "    </tr>\n",
       "    <tr>\n",
       "      <th>2</th>\n",
       "      <td>3</td>\n",
       "      <td>I am a developer by profession</td>\n",
       "      <td>45-54 years old</td>\n",
       "      <td>Employed, full-time</td>\n",
       "      <td>Remote</td>\n",
       "      <td>Apples</td>\n",
       "      <td>Hobby;Contribute to open-source projects;Other...</td>\n",
       "      <td>Master’s degree (M.A., M.S., M.Eng., MBA, etc.)</td>\n",
       "      <td>Books / Physical media;Colleague;On the job tr...</td>\n",
       "      <td>Technical documentation;Blogs;Books;Written Tu...</td>\n",
       "      <td>...</td>\n",
       "      <td>False</td>\n",
       "      <td>False</td>\n",
       "      <td>False</td>\n",
       "      <td>False</td>\n",
       "      <td>False</td>\n",
       "      <td>False</td>\n",
       "      <td>True</td>\n",
       "      <td>False</td>\n",
       "      <td>False</td>\n",
       "      <td>False</td>\n",
       "    </tr>\n",
       "    <tr>\n",
       "      <th>3</th>\n",
       "      <td>4</td>\n",
       "      <td>I am learning to code</td>\n",
       "      <td>18-24 years old</td>\n",
       "      <td>Student, full-time</td>\n",
       "      <td>NaN</td>\n",
       "      <td>Apples</td>\n",
       "      <td>NaN</td>\n",
       "      <td>Some college/university study without earning ...</td>\n",
       "      <td>Other online resources (e.g., videos, blogs, f...</td>\n",
       "      <td>Stack Overflow;How-to videos;Interactive tutorial</td>\n",
       "      <td>...</td>\n",
       "      <td>False</td>\n",
       "      <td>True</td>\n",
       "      <td>False</td>\n",
       "      <td>False</td>\n",
       "      <td>False</td>\n",
       "      <td>False</td>\n",
       "      <td>False</td>\n",
       "      <td>False</td>\n",
       "      <td>False</td>\n",
       "      <td>False</td>\n",
       "    </tr>\n",
       "    <tr>\n",
       "      <th>4</th>\n",
       "      <td>5</td>\n",
       "      <td>I am a developer by profession</td>\n",
       "      <td>18-24 years old</td>\n",
       "      <td>Student, full-time</td>\n",
       "      <td>NaN</td>\n",
       "      <td>Apples</td>\n",
       "      <td>NaN</td>\n",
       "      <td>Secondary school (e.g. American high school, G...</td>\n",
       "      <td>Other online resources (e.g., videos, blogs, f...</td>\n",
       "      <td>Technical documentation;Blogs;Written Tutorial...</td>\n",
       "      <td>...</td>\n",
       "      <td>False</td>\n",
       "      <td>False</td>\n",
       "      <td>False</td>\n",
       "      <td>False</td>\n",
       "      <td>False</td>\n",
       "      <td>False</td>\n",
       "      <td>False</td>\n",
       "      <td>False</td>\n",
       "      <td>False</td>\n",
       "      <td>False</td>\n",
       "    </tr>\n",
       "    <tr>\n",
       "      <th>...</th>\n",
       "      <td>...</td>\n",
       "      <td>...</td>\n",
       "      <td>...</td>\n",
       "      <td>...</td>\n",
       "      <td>...</td>\n",
       "      <td>...</td>\n",
       "      <td>...</td>\n",
       "      <td>...</td>\n",
       "      <td>...</td>\n",
       "      <td>...</td>\n",
       "      <td>...</td>\n",
       "      <td>...</td>\n",
       "      <td>...</td>\n",
       "      <td>...</td>\n",
       "      <td>...</td>\n",
       "      <td>...</td>\n",
       "      <td>...</td>\n",
       "      <td>...</td>\n",
       "      <td>...</td>\n",
       "      <td>...</td>\n",
       "      <td>...</td>\n",
       "    </tr>\n",
       "    <tr>\n",
       "      <th>65432</th>\n",
       "      <td>65433</td>\n",
       "      <td>I am a developer by profession</td>\n",
       "      <td>18-24 years old</td>\n",
       "      <td>Employed, full-time</td>\n",
       "      <td>Remote</td>\n",
       "      <td>Apples</td>\n",
       "      <td>Hobby;School or academic work</td>\n",
       "      <td>Bachelor’s degree (B.A., B.S., B.Eng., etc.)</td>\n",
       "      <td>On the job training;School (i.e., University, ...</td>\n",
       "      <td>NaN</td>\n",
       "      <td>...</td>\n",
       "      <td>False</td>\n",
       "      <td>False</td>\n",
       "      <td>False</td>\n",
       "      <td>False</td>\n",
       "      <td>False</td>\n",
       "      <td>False</td>\n",
       "      <td>False</td>\n",
       "      <td>False</td>\n",
       "      <td>False</td>\n",
       "      <td>False</td>\n",
       "    </tr>\n",
       "    <tr>\n",
       "      <th>65433</th>\n",
       "      <td>65434</td>\n",
       "      <td>I am a developer by profession</td>\n",
       "      <td>25-34 years old</td>\n",
       "      <td>Employed, full-time</td>\n",
       "      <td>Remote</td>\n",
       "      <td>Apples</td>\n",
       "      <td>Hobby;Contribute to open-source projects</td>\n",
       "      <td>NaN</td>\n",
       "      <td>NaN</td>\n",
       "      <td>NaN</td>\n",
       "      <td>...</td>\n",
       "      <td>False</td>\n",
       "      <td>False</td>\n",
       "      <td>False</td>\n",
       "      <td>False</td>\n",
       "      <td>False</td>\n",
       "      <td>False</td>\n",
       "      <td>False</td>\n",
       "      <td>False</td>\n",
       "      <td>False</td>\n",
       "      <td>False</td>\n",
       "    </tr>\n",
       "    <tr>\n",
       "      <th>65434</th>\n",
       "      <td>65435</td>\n",
       "      <td>I am a developer by profession</td>\n",
       "      <td>25-34 years old</td>\n",
       "      <td>Employed, full-time</td>\n",
       "      <td>In-person</td>\n",
       "      <td>Apples</td>\n",
       "      <td>Hobby</td>\n",
       "      <td>Bachelor’s degree (B.A., B.S., B.Eng., etc.)</td>\n",
       "      <td>Other online resources (e.g., videos, blogs, f...</td>\n",
       "      <td>Technical documentation;Stack Overflow;Social ...</td>\n",
       "      <td>...</td>\n",
       "      <td>False</td>\n",
       "      <td>False</td>\n",
       "      <td>False</td>\n",
       "      <td>False</td>\n",
       "      <td>False</td>\n",
       "      <td>False</td>\n",
       "      <td>False</td>\n",
       "      <td>False</td>\n",
       "      <td>False</td>\n",
       "      <td>False</td>\n",
       "    </tr>\n",
       "    <tr>\n",
       "      <th>65435</th>\n",
       "      <td>65436</td>\n",
       "      <td>I am a developer by profession</td>\n",
       "      <td>18-24 years old</td>\n",
       "      <td>Employed, full-time</td>\n",
       "      <td>Hybrid (some remote, some in-person)</td>\n",
       "      <td>Apples</td>\n",
       "      <td>Hobby;Contribute to open-source projects;Profe...</td>\n",
       "      <td>Secondary school (e.g. American high school, G...</td>\n",
       "      <td>On the job training;Other online resources (e....</td>\n",
       "      <td>Technical documentation;Blogs;Written Tutorial...</td>\n",
       "      <td>...</td>\n",
       "      <td>False</td>\n",
       "      <td>False</td>\n",
       "      <td>False</td>\n",
       "      <td>False</td>\n",
       "      <td>False</td>\n",
       "      <td>False</td>\n",
       "      <td>False</td>\n",
       "      <td>False</td>\n",
       "      <td>False</td>\n",
       "      <td>False</td>\n",
       "    </tr>\n",
       "    <tr>\n",
       "      <th>65436</th>\n",
       "      <td>65437</td>\n",
       "      <td>I code primarily as a hobby</td>\n",
       "      <td>18-24 years old</td>\n",
       "      <td>Student, full-time</td>\n",
       "      <td>NaN</td>\n",
       "      <td>Apples</td>\n",
       "      <td>NaN</td>\n",
       "      <td>NaN</td>\n",
       "      <td>NaN</td>\n",
       "      <td>NaN</td>\n",
       "      <td>...</td>\n",
       "      <td>False</td>\n",
       "      <td>True</td>\n",
       "      <td>False</td>\n",
       "      <td>False</td>\n",
       "      <td>False</td>\n",
       "      <td>False</td>\n",
       "      <td>False</td>\n",
       "      <td>False</td>\n",
       "      <td>False</td>\n",
       "      <td>False</td>\n",
       "    </tr>\n",
       "  </tbody>\n",
       "</table>\n",
       "<p>65437 rows × 149 columns</p>\n",
       "</div>"
      ],
      "text/plain": [
       "       ResponseId                      MainBranch                 Age  \\\n",
       "0               1  I am a developer by profession  Under 18 years old   \n",
       "1               2  I am a developer by profession     35-44 years old   \n",
       "2               3  I am a developer by profession     45-54 years old   \n",
       "3               4           I am learning to code     18-24 years old   \n",
       "4               5  I am a developer by profession     18-24 years old   \n",
       "...           ...                             ...                 ...   \n",
       "65432       65433  I am a developer by profession     18-24 years old   \n",
       "65433       65434  I am a developer by profession     25-34 years old   \n",
       "65434       65435  I am a developer by profession     25-34 years old   \n",
       "65435       65436  I am a developer by profession     18-24 years old   \n",
       "65436       65437     I code primarily as a hobby     18-24 years old   \n",
       "\n",
       "                Employment                            RemoteWork   Check  \\\n",
       "0      Employed, full-time                                Remote  Apples   \n",
       "1      Employed, full-time                                Remote  Apples   \n",
       "2      Employed, full-time                                Remote  Apples   \n",
       "3       Student, full-time                                   NaN  Apples   \n",
       "4       Student, full-time                                   NaN  Apples   \n",
       "...                    ...                                   ...     ...   \n",
       "65432  Employed, full-time                                Remote  Apples   \n",
       "65433  Employed, full-time                                Remote  Apples   \n",
       "65434  Employed, full-time                             In-person  Apples   \n",
       "65435  Employed, full-time  Hybrid (some remote, some in-person)  Apples   \n",
       "65436   Student, full-time                                   NaN  Apples   \n",
       "\n",
       "                                        CodingActivities  \\\n",
       "0                                                  Hobby   \n",
       "1      Hobby;Contribute to open-source projects;Other...   \n",
       "2      Hobby;Contribute to open-source projects;Other...   \n",
       "3                                                    NaN   \n",
       "4                                                    NaN   \n",
       "...                                                  ...   \n",
       "65432                      Hobby;School or academic work   \n",
       "65433           Hobby;Contribute to open-source projects   \n",
       "65434                                              Hobby   \n",
       "65435  Hobby;Contribute to open-source projects;Profe...   \n",
       "65436                                                NaN   \n",
       "\n",
       "                                                 EdLevel  \\\n",
       "0                              Primary/elementary school   \n",
       "1           Bachelor’s degree (B.A., B.S., B.Eng., etc.)   \n",
       "2        Master’s degree (M.A., M.S., M.Eng., MBA, etc.)   \n",
       "3      Some college/university study without earning ...   \n",
       "4      Secondary school (e.g. American high school, G...   \n",
       "...                                                  ...   \n",
       "65432       Bachelor’s degree (B.A., B.S., B.Eng., etc.)   \n",
       "65433                                                NaN   \n",
       "65434       Bachelor’s degree (B.A., B.S., B.Eng., etc.)   \n",
       "65435  Secondary school (e.g. American high school, G...   \n",
       "65436                                                NaN   \n",
       "\n",
       "                                               LearnCode  \\\n",
       "0                                 Books / Physical media   \n",
       "1      Books / Physical media;Colleague;On the job tr...   \n",
       "2      Books / Physical media;Colleague;On the job tr...   \n",
       "3      Other online resources (e.g., videos, blogs, f...   \n",
       "4      Other online resources (e.g., videos, blogs, f...   \n",
       "...                                                  ...   \n",
       "65432  On the job training;School (i.e., University, ...   \n",
       "65433                                                NaN   \n",
       "65434  Other online resources (e.g., videos, blogs, f...   \n",
       "65435  On the job training;Other online resources (e....   \n",
       "65436                                                NaN   \n",
       "\n",
       "                                         LearnCodeOnline  ...  \\\n",
       "0                                                    NaN  ...   \n",
       "1      Technical documentation;Blogs;Books;Written Tu...  ...   \n",
       "2      Technical documentation;Blogs;Books;Written Tu...  ...   \n",
       "3      Stack Overflow;How-to videos;Interactive tutorial  ...   \n",
       "4      Technical documentation;Blogs;Written Tutorial...  ...   \n",
       "...                                                  ...  ...   \n",
       "65432                                                NaN  ...   \n",
       "65433                                                NaN  ...   \n",
       "65434  Technical documentation;Stack Overflow;Social ...  ...   \n",
       "65435  Technical documentation;Blogs;Written Tutorial...  ...   \n",
       "65436                                                NaN  ...   \n",
       "\n",
       "      DatabaseHaveWorkedWith_RavenDB DatabaseHaveWorkedWith_MySQL  \\\n",
       "0                              False                        False   \n",
       "1                              False                        False   \n",
       "2                              False                        False   \n",
       "3                              False                         True   \n",
       "4                              False                        False   \n",
       "...                              ...                          ...   \n",
       "65432                          False                        False   \n",
       "65433                          False                        False   \n",
       "65434                          False                        False   \n",
       "65435                          False                        False   \n",
       "65436                          False                         True   \n",
       "\n",
       "      DatabaseHaveWorkedWith_Cockroachdb DatabaseHaveWorkedWith_Cassandra  \\\n",
       "0                                  False                            False   \n",
       "1                                  False                            False   \n",
       "2                                  False                            False   \n",
       "3                                  False                            False   \n",
       "4                                  False                            False   \n",
       "...                                  ...                              ...   \n",
       "65432                              False                            False   \n",
       "65433                              False                            False   \n",
       "65434                              False                            False   \n",
       "65435                              False                            False   \n",
       "65436                              False                            False   \n",
       "\n",
       "      DatabaseHaveWorkedWith_InfluxDB DatabaseHaveWorkedWith_Databricks SQL  \\\n",
       "0                               False                                 False   \n",
       "1                               False                                 False   \n",
       "2                               False                                 False   \n",
       "3                               False                                 False   \n",
       "4                               False                                 False   \n",
       "...                               ...                                   ...   \n",
       "65432                           False                                 False   \n",
       "65433                           False                                 False   \n",
       "65434                           False                                 False   \n",
       "65435                           False                                 False   \n",
       "65436                           False                                 False   \n",
       "\n",
       "      DatabaseHaveWorkedWith_Firebase Realtime Database  \\\n",
       "0                                                 False   \n",
       "1                                                 False   \n",
       "2                                                  True   \n",
       "3                                                 False   \n",
       "4                                                 False   \n",
       "...                                                 ...   \n",
       "65432                                             False   \n",
       "65433                                             False   \n",
       "65434                                             False   \n",
       "65435                                             False   \n",
       "65436                                             False   \n",
       "\n",
       "      DatabaseHaveWorkedWith_Dynamodb DatabaseHaveWorkedWith_EventStoreDB  \\\n",
       "0                               False                               False   \n",
       "1                                True                               False   \n",
       "2                               False                               False   \n",
       "3                               False                               False   \n",
       "4                               False                               False   \n",
       "...                               ...                                 ...   \n",
       "65432                           False                               False   \n",
       "65433                           False                               False   \n",
       "65434                           False                               False   \n",
       "65435                           False                               False   \n",
       "65436                           False                               False   \n",
       "\n",
       "      DatabaseHaveWorkedWith_H2  \n",
       "0                         False  \n",
       "1                         False  \n",
       "2                         False  \n",
       "3                         False  \n",
       "4                         False  \n",
       "...                         ...  \n",
       "65432                     False  \n",
       "65433                     False  \n",
       "65434                     False  \n",
       "65435                     False  \n",
       "65436                     False  \n",
       "\n",
       "[65437 rows x 149 columns]"
      ]
     },
     "execution_count": 55,
     "metadata": {},
     "output_type": "execute_result"
    }
   ],
   "source": [
    "\n",
    "expand_column(survey, \"DatabaseHaveWorkedWith\")"
   ]
  },
  {
   "cell_type": "code",
   "execution_count": 56,
   "metadata": {},
   "outputs": [],
   "source": [
    "#function modified so that the output can be already in the shape of a dataframe\n",
    "\n",
    "\n",
    "def expand_column(df, col):\n",
    "    #\"Expand a column with semicolon-separated-values into multiple boolean columns, one for each value in the original column.\"\n",
    "\n",
    "    df = df.copy()\n",
    "\n",
    "    if col not in df.columns:\n",
    "        raise ValueError(f\"Column {col} not found in DataFrame\")\n",
    "\n",
    "    values = set()\n",
    "    for row in df[col]:\n",
    "        if not pd.isna(row):\n",
    "            for value in row.split(\";\"):\n",
    "                values.add(value)\n",
    "\n",
    "    for value in values:\n",
    "        df[f\"{col}_{value}\"] = df[col].map(\n",
    "            lambda v: value in v.split(\";\") if not pd.isna(v) else False\n",
    "        )\n",
    "# Filter the new columns with the pattern\n",
    "    new_columns = [new_col for new_col in df.columns if new_col.startswith(f\"{col}_\")]\n",
    "    expanded_columns_df = df[new_columns]\n",
    "    \n",
    "    return expanded_columns_df"
   ]
  },
  {
   "cell_type": "code",
   "execution_count": 57,
   "metadata": {},
   "outputs": [
    {
     "data": {
      "text/html": [
       "<div>\n",
       "<style scoped>\n",
       "    .dataframe tbody tr th:only-of-type {\n",
       "        vertical-align: middle;\n",
       "    }\n",
       "\n",
       "    .dataframe tbody tr th {\n",
       "        vertical-align: top;\n",
       "    }\n",
       "\n",
       "    .dataframe thead th {\n",
       "        text-align: right;\n",
       "    }\n",
       "</style>\n",
       "<table border=\"1\" class=\"dataframe\">\n",
       "  <thead>\n",
       "    <tr style=\"text-align: right;\">\n",
       "      <th></th>\n",
       "      <th>DatabaseHaveWorkedWith_Clickhouse</th>\n",
       "      <th>DatabaseHaveWorkedWith_SQLite</th>\n",
       "      <th>DatabaseHaveWorkedWith_Microsoft Access</th>\n",
       "      <th>DatabaseHaveWorkedWith_Microsoft SQL Server</th>\n",
       "      <th>DatabaseHaveWorkedWith_MongoDB</th>\n",
       "      <th>DatabaseHaveWorkedWith_PostgreSQL</th>\n",
       "      <th>DatabaseHaveWorkedWith_Neo4J</th>\n",
       "      <th>DatabaseHaveWorkedWith_DuckDB</th>\n",
       "      <th>DatabaseHaveWorkedWith_Firebird</th>\n",
       "      <th>DatabaseHaveWorkedWith_Oracle</th>\n",
       "      <th>...</th>\n",
       "      <th>DatabaseHaveWorkedWith_RavenDB</th>\n",
       "      <th>DatabaseHaveWorkedWith_MySQL</th>\n",
       "      <th>DatabaseHaveWorkedWith_Cockroachdb</th>\n",
       "      <th>DatabaseHaveWorkedWith_Cassandra</th>\n",
       "      <th>DatabaseHaveWorkedWith_InfluxDB</th>\n",
       "      <th>DatabaseHaveWorkedWith_Databricks SQL</th>\n",
       "      <th>DatabaseHaveWorkedWith_Firebase Realtime Database</th>\n",
       "      <th>DatabaseHaveWorkedWith_Dynamodb</th>\n",
       "      <th>DatabaseHaveWorkedWith_EventStoreDB</th>\n",
       "      <th>DatabaseHaveWorkedWith_H2</th>\n",
       "    </tr>\n",
       "  </thead>\n",
       "  <tbody>\n",
       "    <tr>\n",
       "      <th>0</th>\n",
       "      <td>False</td>\n",
       "      <td>False</td>\n",
       "      <td>False</td>\n",
       "      <td>False</td>\n",
       "      <td>False</td>\n",
       "      <td>False</td>\n",
       "      <td>False</td>\n",
       "      <td>False</td>\n",
       "      <td>False</td>\n",
       "      <td>False</td>\n",
       "      <td>...</td>\n",
       "      <td>False</td>\n",
       "      <td>False</td>\n",
       "      <td>False</td>\n",
       "      <td>False</td>\n",
       "      <td>False</td>\n",
       "      <td>False</td>\n",
       "      <td>False</td>\n",
       "      <td>False</td>\n",
       "      <td>False</td>\n",
       "      <td>False</td>\n",
       "    </tr>\n",
       "    <tr>\n",
       "      <th>1</th>\n",
       "      <td>False</td>\n",
       "      <td>False</td>\n",
       "      <td>False</td>\n",
       "      <td>False</td>\n",
       "      <td>True</td>\n",
       "      <td>True</td>\n",
       "      <td>False</td>\n",
       "      <td>False</td>\n",
       "      <td>False</td>\n",
       "      <td>False</td>\n",
       "      <td>...</td>\n",
       "      <td>False</td>\n",
       "      <td>False</td>\n",
       "      <td>False</td>\n",
       "      <td>False</td>\n",
       "      <td>False</td>\n",
       "      <td>False</td>\n",
       "      <td>False</td>\n",
       "      <td>True</td>\n",
       "      <td>False</td>\n",
       "      <td>False</td>\n",
       "    </tr>\n",
       "    <tr>\n",
       "      <th>2</th>\n",
       "      <td>False</td>\n",
       "      <td>False</td>\n",
       "      <td>False</td>\n",
       "      <td>False</td>\n",
       "      <td>False</td>\n",
       "      <td>False</td>\n",
       "      <td>False</td>\n",
       "      <td>False</td>\n",
       "      <td>False</td>\n",
       "      <td>False</td>\n",
       "      <td>...</td>\n",
       "      <td>False</td>\n",
       "      <td>False</td>\n",
       "      <td>False</td>\n",
       "      <td>False</td>\n",
       "      <td>False</td>\n",
       "      <td>False</td>\n",
       "      <td>True</td>\n",
       "      <td>False</td>\n",
       "      <td>False</td>\n",
       "      <td>False</td>\n",
       "    </tr>\n",
       "    <tr>\n",
       "      <th>3</th>\n",
       "      <td>False</td>\n",
       "      <td>True</td>\n",
       "      <td>False</td>\n",
       "      <td>False</td>\n",
       "      <td>True</td>\n",
       "      <td>True</td>\n",
       "      <td>False</td>\n",
       "      <td>False</td>\n",
       "      <td>False</td>\n",
       "      <td>False</td>\n",
       "      <td>...</td>\n",
       "      <td>False</td>\n",
       "      <td>True</td>\n",
       "      <td>False</td>\n",
       "      <td>False</td>\n",
       "      <td>False</td>\n",
       "      <td>False</td>\n",
       "      <td>False</td>\n",
       "      <td>False</td>\n",
       "      <td>False</td>\n",
       "      <td>False</td>\n",
       "    </tr>\n",
       "    <tr>\n",
       "      <th>4</th>\n",
       "      <td>False</td>\n",
       "      <td>True</td>\n",
       "      <td>False</td>\n",
       "      <td>False</td>\n",
       "      <td>False</td>\n",
       "      <td>True</td>\n",
       "      <td>False</td>\n",
       "      <td>False</td>\n",
       "      <td>False</td>\n",
       "      <td>False</td>\n",
       "      <td>...</td>\n",
       "      <td>False</td>\n",
       "      <td>False</td>\n",
       "      <td>False</td>\n",
       "      <td>False</td>\n",
       "      <td>False</td>\n",
       "      <td>False</td>\n",
       "      <td>False</td>\n",
       "      <td>False</td>\n",
       "      <td>False</td>\n",
       "      <td>False</td>\n",
       "    </tr>\n",
       "    <tr>\n",
       "      <th>...</th>\n",
       "      <td>...</td>\n",
       "      <td>...</td>\n",
       "      <td>...</td>\n",
       "      <td>...</td>\n",
       "      <td>...</td>\n",
       "      <td>...</td>\n",
       "      <td>...</td>\n",
       "      <td>...</td>\n",
       "      <td>...</td>\n",
       "      <td>...</td>\n",
       "      <td>...</td>\n",
       "      <td>...</td>\n",
       "      <td>...</td>\n",
       "      <td>...</td>\n",
       "      <td>...</td>\n",
       "      <td>...</td>\n",
       "      <td>...</td>\n",
       "      <td>...</td>\n",
       "      <td>...</td>\n",
       "      <td>...</td>\n",
       "      <td>...</td>\n",
       "    </tr>\n",
       "    <tr>\n",
       "      <th>65432</th>\n",
       "      <td>False</td>\n",
       "      <td>False</td>\n",
       "      <td>False</td>\n",
       "      <td>False</td>\n",
       "      <td>False</td>\n",
       "      <td>False</td>\n",
       "      <td>False</td>\n",
       "      <td>False</td>\n",
       "      <td>False</td>\n",
       "      <td>False</td>\n",
       "      <td>...</td>\n",
       "      <td>False</td>\n",
       "      <td>False</td>\n",
       "      <td>False</td>\n",
       "      <td>False</td>\n",
       "      <td>False</td>\n",
       "      <td>False</td>\n",
       "      <td>False</td>\n",
       "      <td>False</td>\n",
       "      <td>False</td>\n",
       "      <td>False</td>\n",
       "    </tr>\n",
       "    <tr>\n",
       "      <th>65433</th>\n",
       "      <td>False</td>\n",
       "      <td>False</td>\n",
       "      <td>False</td>\n",
       "      <td>False</td>\n",
       "      <td>False</td>\n",
       "      <td>False</td>\n",
       "      <td>False</td>\n",
       "      <td>False</td>\n",
       "      <td>False</td>\n",
       "      <td>False</td>\n",
       "      <td>...</td>\n",
       "      <td>False</td>\n",
       "      <td>False</td>\n",
       "      <td>False</td>\n",
       "      <td>False</td>\n",
       "      <td>False</td>\n",
       "      <td>False</td>\n",
       "      <td>False</td>\n",
       "      <td>False</td>\n",
       "      <td>False</td>\n",
       "      <td>False</td>\n",
       "    </tr>\n",
       "    <tr>\n",
       "      <th>65434</th>\n",
       "      <td>False</td>\n",
       "      <td>False</td>\n",
       "      <td>False</td>\n",
       "      <td>False</td>\n",
       "      <td>False</td>\n",
       "      <td>False</td>\n",
       "      <td>False</td>\n",
       "      <td>False</td>\n",
       "      <td>False</td>\n",
       "      <td>False</td>\n",
       "      <td>...</td>\n",
       "      <td>False</td>\n",
       "      <td>False</td>\n",
       "      <td>False</td>\n",
       "      <td>False</td>\n",
       "      <td>False</td>\n",
       "      <td>False</td>\n",
       "      <td>False</td>\n",
       "      <td>False</td>\n",
       "      <td>False</td>\n",
       "      <td>False</td>\n",
       "    </tr>\n",
       "    <tr>\n",
       "      <th>65435</th>\n",
       "      <td>False</td>\n",
       "      <td>True</td>\n",
       "      <td>False</td>\n",
       "      <td>False</td>\n",
       "      <td>False</td>\n",
       "      <td>True</td>\n",
       "      <td>False</td>\n",
       "      <td>False</td>\n",
       "      <td>False</td>\n",
       "      <td>False</td>\n",
       "      <td>...</td>\n",
       "      <td>False</td>\n",
       "      <td>False</td>\n",
       "      <td>False</td>\n",
       "      <td>False</td>\n",
       "      <td>False</td>\n",
       "      <td>False</td>\n",
       "      <td>False</td>\n",
       "      <td>False</td>\n",
       "      <td>False</td>\n",
       "      <td>False</td>\n",
       "    </tr>\n",
       "    <tr>\n",
       "      <th>65436</th>\n",
       "      <td>False</td>\n",
       "      <td>False</td>\n",
       "      <td>False</td>\n",
       "      <td>False</td>\n",
       "      <td>True</td>\n",
       "      <td>True</td>\n",
       "      <td>False</td>\n",
       "      <td>False</td>\n",
       "      <td>False</td>\n",
       "      <td>True</td>\n",
       "      <td>...</td>\n",
       "      <td>False</td>\n",
       "      <td>True</td>\n",
       "      <td>False</td>\n",
       "      <td>False</td>\n",
       "      <td>False</td>\n",
       "      <td>False</td>\n",
       "      <td>False</td>\n",
       "      <td>False</td>\n",
       "      <td>False</td>\n",
       "      <td>False</td>\n",
       "    </tr>\n",
       "  </tbody>\n",
       "</table>\n",
       "<p>65437 rows × 35 columns</p>\n",
       "</div>"
      ],
      "text/plain": [
       "       DatabaseHaveWorkedWith_Clickhouse  DatabaseHaveWorkedWith_SQLite  \\\n",
       "0                                  False                          False   \n",
       "1                                  False                          False   \n",
       "2                                  False                          False   \n",
       "3                                  False                           True   \n",
       "4                                  False                           True   \n",
       "...                                  ...                            ...   \n",
       "65432                              False                          False   \n",
       "65433                              False                          False   \n",
       "65434                              False                          False   \n",
       "65435                              False                           True   \n",
       "65436                              False                          False   \n",
       "\n",
       "       DatabaseHaveWorkedWith_Microsoft Access  \\\n",
       "0                                        False   \n",
       "1                                        False   \n",
       "2                                        False   \n",
       "3                                        False   \n",
       "4                                        False   \n",
       "...                                        ...   \n",
       "65432                                    False   \n",
       "65433                                    False   \n",
       "65434                                    False   \n",
       "65435                                    False   \n",
       "65436                                    False   \n",
       "\n",
       "       DatabaseHaveWorkedWith_Microsoft SQL Server  \\\n",
       "0                                            False   \n",
       "1                                            False   \n",
       "2                                            False   \n",
       "3                                            False   \n",
       "4                                            False   \n",
       "...                                            ...   \n",
       "65432                                        False   \n",
       "65433                                        False   \n",
       "65434                                        False   \n",
       "65435                                        False   \n",
       "65436                                        False   \n",
       "\n",
       "       DatabaseHaveWorkedWith_MongoDB  DatabaseHaveWorkedWith_PostgreSQL  \\\n",
       "0                               False                              False   \n",
       "1                                True                               True   \n",
       "2                               False                              False   \n",
       "3                                True                               True   \n",
       "4                               False                               True   \n",
       "...                               ...                                ...   \n",
       "65432                           False                              False   \n",
       "65433                           False                              False   \n",
       "65434                           False                              False   \n",
       "65435                           False                               True   \n",
       "65436                            True                               True   \n",
       "\n",
       "       DatabaseHaveWorkedWith_Neo4J  DatabaseHaveWorkedWith_DuckDB  \\\n",
       "0                             False                          False   \n",
       "1                             False                          False   \n",
       "2                             False                          False   \n",
       "3                             False                          False   \n",
       "4                             False                          False   \n",
       "...                             ...                            ...   \n",
       "65432                         False                          False   \n",
       "65433                         False                          False   \n",
       "65434                         False                          False   \n",
       "65435                         False                          False   \n",
       "65436                         False                          False   \n",
       "\n",
       "       DatabaseHaveWorkedWith_Firebird  DatabaseHaveWorkedWith_Oracle  ...  \\\n",
       "0                                False                          False  ...   \n",
       "1                                False                          False  ...   \n",
       "2                                False                          False  ...   \n",
       "3                                False                          False  ...   \n",
       "4                                False                          False  ...   \n",
       "...                                ...                            ...  ...   \n",
       "65432                            False                          False  ...   \n",
       "65433                            False                          False  ...   \n",
       "65434                            False                          False  ...   \n",
       "65435                            False                          False  ...   \n",
       "65436                            False                           True  ...   \n",
       "\n",
       "       DatabaseHaveWorkedWith_RavenDB  DatabaseHaveWorkedWith_MySQL  \\\n",
       "0                               False                         False   \n",
       "1                               False                         False   \n",
       "2                               False                         False   \n",
       "3                               False                          True   \n",
       "4                               False                         False   \n",
       "...                               ...                           ...   \n",
       "65432                           False                         False   \n",
       "65433                           False                         False   \n",
       "65434                           False                         False   \n",
       "65435                           False                         False   \n",
       "65436                           False                          True   \n",
       "\n",
       "       DatabaseHaveWorkedWith_Cockroachdb  DatabaseHaveWorkedWith_Cassandra  \\\n",
       "0                                   False                             False   \n",
       "1                                   False                             False   \n",
       "2                                   False                             False   \n",
       "3                                   False                             False   \n",
       "4                                   False                             False   \n",
       "...                                   ...                               ...   \n",
       "65432                               False                             False   \n",
       "65433                               False                             False   \n",
       "65434                               False                             False   \n",
       "65435                               False                             False   \n",
       "65436                               False                             False   \n",
       "\n",
       "       DatabaseHaveWorkedWith_InfluxDB  DatabaseHaveWorkedWith_Databricks SQL  \\\n",
       "0                                False                                  False   \n",
       "1                                False                                  False   \n",
       "2                                False                                  False   \n",
       "3                                False                                  False   \n",
       "4                                False                                  False   \n",
       "...                                ...                                    ...   \n",
       "65432                            False                                  False   \n",
       "65433                            False                                  False   \n",
       "65434                            False                                  False   \n",
       "65435                            False                                  False   \n",
       "65436                            False                                  False   \n",
       "\n",
       "       DatabaseHaveWorkedWith_Firebase Realtime Database  \\\n",
       "0                                                  False   \n",
       "1                                                  False   \n",
       "2                                                   True   \n",
       "3                                                  False   \n",
       "4                                                  False   \n",
       "...                                                  ...   \n",
       "65432                                              False   \n",
       "65433                                              False   \n",
       "65434                                              False   \n",
       "65435                                              False   \n",
       "65436                                              False   \n",
       "\n",
       "       DatabaseHaveWorkedWith_Dynamodb  DatabaseHaveWorkedWith_EventStoreDB  \\\n",
       "0                                False                                False   \n",
       "1                                 True                                False   \n",
       "2                                False                                False   \n",
       "3                                False                                False   \n",
       "4                                False                                False   \n",
       "...                                ...                                  ...   \n",
       "65432                            False                                False   \n",
       "65433                            False                                False   \n",
       "65434                            False                                False   \n",
       "65435                            False                                False   \n",
       "65436                            False                                False   \n",
       "\n",
       "       DatabaseHaveWorkedWith_H2  \n",
       "0                          False  \n",
       "1                          False  \n",
       "2                          False  \n",
       "3                          False  \n",
       "4                          False  \n",
       "...                          ...  \n",
       "65432                      False  \n",
       "65433                      False  \n",
       "65434                      False  \n",
       "65435                      False  \n",
       "65436                      False  \n",
       "\n",
       "[65437 rows x 35 columns]"
      ]
     },
     "execution_count": 57,
     "metadata": {},
     "output_type": "execute_result"
    }
   ],
   "source": [
    "expand_column(survey, \"DatabaseHaveWorkedWith\")"
   ]
  },
  {
   "cell_type": "code",
   "execution_count": 58,
   "metadata": {},
   "outputs": [
    {
     "name": "stdout",
     "output_type": "stream",
     "text": [
      "       DatabaseHaveWorkedWith_Clickhouse  DatabaseHaveWorkedWith_SQLite  \\\n",
      "0                                  False                          False   \n",
      "1                                  False                          False   \n",
      "2                                  False                          False   \n",
      "3                                  False                           True   \n",
      "4                                  False                           True   \n",
      "...                                  ...                            ...   \n",
      "65432                              False                          False   \n",
      "65433                              False                          False   \n",
      "65434                              False                          False   \n",
      "65435                              False                           True   \n",
      "65436                              False                          False   \n",
      "\n",
      "       DatabaseHaveWorkedWith_Microsoft Access  \\\n",
      "0                                        False   \n",
      "1                                        False   \n",
      "2                                        False   \n",
      "3                                        False   \n",
      "4                                        False   \n",
      "...                                        ...   \n",
      "65432                                    False   \n",
      "65433                                    False   \n",
      "65434                                    False   \n",
      "65435                                    False   \n",
      "65436                                    False   \n",
      "\n",
      "       DatabaseHaveWorkedWith_Microsoft SQL Server  \\\n",
      "0                                            False   \n",
      "1                                            False   \n",
      "2                                            False   \n",
      "3                                            False   \n",
      "4                                            False   \n",
      "...                                            ...   \n",
      "65432                                        False   \n",
      "65433                                        False   \n",
      "65434                                        False   \n",
      "65435                                        False   \n",
      "65436                                        False   \n",
      "\n",
      "       DatabaseHaveWorkedWith_MongoDB  DatabaseHaveWorkedWith_PostgreSQL  \\\n",
      "0                               False                              False   \n",
      "1                                True                               True   \n",
      "2                               False                              False   \n",
      "3                                True                               True   \n",
      "4                               False                               True   \n",
      "...                               ...                                ...   \n",
      "65432                           False                              False   \n",
      "65433                           False                              False   \n",
      "65434                           False                              False   \n",
      "65435                           False                               True   \n",
      "65436                            True                               True   \n",
      "\n",
      "       DatabaseHaveWorkedWith_Neo4J  DatabaseHaveWorkedWith_DuckDB  \\\n",
      "0                             False                          False   \n",
      "1                             False                          False   \n",
      "2                             False                          False   \n",
      "3                             False                          False   \n",
      "4                             False                          False   \n",
      "...                             ...                            ...   \n",
      "65432                         False                          False   \n",
      "65433                         False                          False   \n",
      "65434                         False                          False   \n",
      "65435                         False                          False   \n",
      "65436                         False                          False   \n",
      "\n",
      "       DatabaseHaveWorkedWith_Firebird  DatabaseHaveWorkedWith_Oracle  ...  \\\n",
      "0                                False                          False  ...   \n",
      "1                                False                          False  ...   \n",
      "2                                False                          False  ...   \n",
      "3                                False                          False  ...   \n",
      "4                                False                          False  ...   \n",
      "...                                ...                            ...  ...   \n",
      "65432                            False                          False  ...   \n",
      "65433                            False                          False  ...   \n",
      "65434                            False                          False  ...   \n",
      "65435                            False                          False  ...   \n",
      "65436                            False                           True  ...   \n",
      "\n",
      "       DatabaseHaveWorkedWith_RavenDB  DatabaseHaveWorkedWith_MySQL  \\\n",
      "0                               False                         False   \n",
      "1                               False                         False   \n",
      "2                               False                         False   \n",
      "3                               False                          True   \n",
      "4                               False                         False   \n",
      "...                               ...                           ...   \n",
      "65432                           False                         False   \n",
      "65433                           False                         False   \n",
      "65434                           False                         False   \n",
      "65435                           False                         False   \n",
      "65436                           False                          True   \n",
      "\n",
      "       DatabaseHaveWorkedWith_Cockroachdb  DatabaseHaveWorkedWith_Cassandra  \\\n",
      "0                                   False                             False   \n",
      "1                                   False                             False   \n",
      "2                                   False                             False   \n",
      "3                                   False                             False   \n",
      "4                                   False                             False   \n",
      "...                                   ...                               ...   \n",
      "65432                               False                             False   \n",
      "65433                               False                             False   \n",
      "65434                               False                             False   \n",
      "65435                               False                             False   \n",
      "65436                               False                             False   \n",
      "\n",
      "       DatabaseHaveWorkedWith_InfluxDB  DatabaseHaveWorkedWith_Databricks SQL  \\\n",
      "0                                False                                  False   \n",
      "1                                False                                  False   \n",
      "2                                False                                  False   \n",
      "3                                False                                  False   \n",
      "4                                False                                  False   \n",
      "...                                ...                                    ...   \n",
      "65432                            False                                  False   \n",
      "65433                            False                                  False   \n",
      "65434                            False                                  False   \n",
      "65435                            False                                  False   \n",
      "65436                            False                                  False   \n",
      "\n",
      "       DatabaseHaveWorkedWith_Firebase Realtime Database  \\\n",
      "0                                                  False   \n",
      "1                                                  False   \n",
      "2                                                   True   \n",
      "3                                                  False   \n",
      "4                                                  False   \n",
      "...                                                  ...   \n",
      "65432                                              False   \n",
      "65433                                              False   \n",
      "65434                                              False   \n",
      "65435                                              False   \n",
      "65436                                              False   \n",
      "\n",
      "       DatabaseHaveWorkedWith_Dynamodb  DatabaseHaveWorkedWith_EventStoreDB  \\\n",
      "0                                False                                False   \n",
      "1                                 True                                False   \n",
      "2                                False                                False   \n",
      "3                                False                                False   \n",
      "4                                False                                False   \n",
      "...                                ...                                  ...   \n",
      "65432                            False                                False   \n",
      "65433                            False                                False   \n",
      "65434                            False                                False   \n",
      "65435                            False                                False   \n",
      "65436                            False                                False   \n",
      "\n",
      "       DatabaseHaveWorkedWith_H2  \n",
      "0                          False  \n",
      "1                          False  \n",
      "2                          False  \n",
      "3                          False  \n",
      "4                          False  \n",
      "...                          ...  \n",
      "65432                      False  \n",
      "65433                      False  \n",
      "65434                      False  \n",
      "65435                      False  \n",
      "65436                      False  \n",
      "\n",
      "[65437 rows x 35 columns]\n"
     ]
    }
   ],
   "source": [
    "new_columns=expand_column(survey, \"DatabaseHaveWorkedWith\")\n",
    "print(new_columns)"
   ]
  },
  {
   "cell_type": "code",
   "execution_count": 59,
   "metadata": {},
   "outputs": [
    {
     "name": "stdout",
     "output_type": "stream",
     "text": [
      "DatabaseHaveWorkedWith_Clickhouse                      890\n",
      "DatabaseHaveWorkedWith_SQLite                        17365\n",
      "DatabaseHaveWorkedWith_Microsoft Access               2193\n",
      "DatabaseHaveWorkedWith_Microsoft SQL Server          13275\n",
      "DatabaseHaveWorkedWith_MongoDB                       13007\n",
      "DatabaseHaveWorkedWith_PostgreSQL                    25536\n",
      "DatabaseHaveWorkedWith_Neo4J                           998\n",
      "DatabaseHaveWorkedWith_DuckDB                          710\n",
      "DatabaseHaveWorkedWith_Firebird                        563\n",
      "DatabaseHaveWorkedWith_Oracle                         5273\n",
      "DatabaseHaveWorkedWith_Cosmos DB                      1746\n",
      "DatabaseHaveWorkedWith_TiDB                            127\n",
      "DatabaseHaveWorkedWith_Supabase                       2078\n",
      "DatabaseHaveWorkedWith_Couch DB                        534\n",
      "DatabaseHaveWorkedWith_Datomic                         184\n",
      "DatabaseHaveWorkedWith_BigQuery                       2531\n",
      "DatabaseHaveWorkedWith_IBM DB2                         914\n",
      "DatabaseHaveWorkedWith_Couchbase                       353\n",
      "DatabaseHaveWorkedWith_MariaDB                        8991\n",
      "DatabaseHaveWorkedWith_Redis                         10463\n",
      "DatabaseHaveWorkedWith_Solr                            766\n",
      "DatabaseHaveWorkedWith_Elasticsearch                  6533\n",
      "DatabaseHaveWorkedWith_Presto                          323\n",
      "DatabaseHaveWorkedWith_Cloud Firestore                2842\n",
      "DatabaseHaveWorkedWith_Snowflake                      1364\n",
      "DatabaseHaveWorkedWith_RavenDB                         159\n",
      "DatabaseHaveWorkedWith_MySQL                         21099\n",
      "DatabaseHaveWorkedWith_Cockroachdb                     507\n",
      "DatabaseHaveWorkedWith_Cassandra                      1268\n",
      "DatabaseHaveWorkedWith_InfluxDB                       1338\n",
      "DatabaseHaveWorkedWith_Databricks SQL                 1003\n",
      "DatabaseHaveWorkedWith_Firebase Realtime Database     3018\n",
      "DatabaseHaveWorkedWith_Dynamodb                       4138\n",
      "DatabaseHaveWorkedWith_EventStoreDB                    162\n",
      "DatabaseHaveWorkedWith_H2                             2006\n",
      "dtype: int64\n"
     ]
    }
   ],
   "source": [
    "# sum of each column. True counts as 1 and false counts as 0 automatically\n",
    "col_sums=new_columns.sum()\n",
    "print(col_sums)\n"
   ]
  },
  {
   "cell_type": "code",
   "execution_count": 60,
   "metadata": {},
   "outputs": [
    {
     "name": "stdout",
     "output_type": "stream",
     "text": [
      "The three most popular databases are: PostgreSQL, MySQL, SQLite.\n"
     ]
    }
   ],
   "source": [
    "#reorder the columns in ascending order to identify the top tree databases\n",
    "top_3_db=col_sums.sort_values(ascending=False).head(3)\n",
    "# Extract the simplified names (part after the \"_\") extracts the simplified name of each top database by splitting the column name on the _ and keeping the last part.\n",
    "top_3_db_names = [col.split('_')[-1] for col in top_3_db.index]\n",
    "# Print the result\n",
    "print(f\"The three most popular databases are: {', '.join(top_3_db_names)}.\")"
   ]
  },
  {
   "cell_type": "code",
   "execution_count": 61,
   "metadata": {},
   "outputs": [
    {
     "name": "stdout",
     "output_type": "stream",
     "text": [
      "DatabaseHaveWorkedWith_Clickhouse                      890\n",
      "DatabaseHaveWorkedWith_SQLite                        17365\n",
      "DatabaseHaveWorkedWith_Microsoft Access               2193\n",
      "DatabaseHaveWorkedWith_Microsoft SQL Server          13275\n",
      "DatabaseHaveWorkedWith_MongoDB                       13007\n",
      "DatabaseHaveWorkedWith_PostgreSQL                    25536\n",
      "DatabaseHaveWorkedWith_Neo4J                           998\n",
      "DatabaseHaveWorkedWith_DuckDB                          710\n",
      "DatabaseHaveWorkedWith_Firebird                        563\n",
      "DatabaseHaveWorkedWith_Oracle                         5273\n",
      "DatabaseHaveWorkedWith_Cosmos DB                      1746\n",
      "DatabaseHaveWorkedWith_TiDB                            127\n",
      "DatabaseHaveWorkedWith_Supabase                       2078\n",
      "DatabaseHaveWorkedWith_Couch DB                        534\n",
      "DatabaseHaveWorkedWith_Datomic                         184\n",
      "DatabaseHaveWorkedWith_BigQuery                       2531\n",
      "DatabaseHaveWorkedWith_IBM DB2                         914\n",
      "DatabaseHaveWorkedWith_Couchbase                       353\n",
      "DatabaseHaveWorkedWith_MariaDB                        8991\n",
      "DatabaseHaveWorkedWith_Redis                         10463\n",
      "DatabaseHaveWorkedWith_Solr                            766\n",
      "DatabaseHaveWorkedWith_Elasticsearch                  6533\n",
      "DatabaseHaveWorkedWith_Presto                          323\n",
      "DatabaseHaveWorkedWith_Cloud Firestore                2842\n",
      "DatabaseHaveWorkedWith_Snowflake                      1364\n",
      "DatabaseHaveWorkedWith_RavenDB                         159\n",
      "DatabaseHaveWorkedWith_MySQL                         21099\n",
      "DatabaseHaveWorkedWith_Cockroachdb                     507\n",
      "DatabaseHaveWorkedWith_Cassandra                      1268\n",
      "DatabaseHaveWorkedWith_InfluxDB                       1338\n",
      "DatabaseHaveWorkedWith_Databricks SQL                 1003\n",
      "DatabaseHaveWorkedWith_Firebase Realtime Database     3018\n",
      "DatabaseHaveWorkedWith_Dynamodb                       4138\n",
      "DatabaseHaveWorkedWith_EventStoreDB                    162\n",
      "DatabaseHaveWorkedWith_H2                             2006\n",
      "dtype: int64\n",
      "Index(['Clickhouse', 'SQLite', 'Microsoft Access', 'Microsoft SQL Server',\n",
      "       'MongoDB', 'PostgreSQL', 'Neo4J', 'DuckDB', 'Firebird', 'Oracle',\n",
      "       'Cosmos DB', 'TiDB', 'Supabase', 'Couch DB', 'Datomic', 'BigQuery',\n",
      "       'IBM DB2', 'Couchbase', 'MariaDB', 'Redis', 'Solr', 'Elasticsearch',\n",
      "       'Presto', 'Cloud Firestore', 'Snowflake', 'RavenDB', 'MySQL',\n",
      "       'Cockroachdb', 'Cassandra', 'InfluxDB', 'Databricks SQL',\n",
      "       'Firebase Realtime Database', 'Dynamodb', 'EventStoreDB', 'H2'],\n",
      "      dtype='object')\n",
      "       Clickhouse  SQLite  Microsoft Access  Microsoft SQL Server  MongoDB  \\\n",
      "0           False   False             False                 False    False   \n",
      "1           False   False             False                 False     True   \n",
      "2           False   False             False                 False    False   \n",
      "3           False    True             False                 False     True   \n",
      "4           False    True             False                 False    False   \n",
      "...           ...     ...               ...                   ...      ...   \n",
      "65432       False   False             False                 False    False   \n",
      "65433       False   False             False                 False    False   \n",
      "65434       False   False             False                 False    False   \n",
      "65435       False    True             False                 False    False   \n",
      "65436       False   False             False                 False     True   \n",
      "\n",
      "       PostgreSQL  Neo4J  DuckDB  Firebird  Oracle  ...  RavenDB  MySQL  \\\n",
      "0           False  False   False     False   False  ...    False  False   \n",
      "1            True  False   False     False   False  ...    False  False   \n",
      "2           False  False   False     False   False  ...    False  False   \n",
      "3            True  False   False     False   False  ...    False   True   \n",
      "4            True  False   False     False   False  ...    False  False   \n",
      "...           ...    ...     ...       ...     ...  ...      ...    ...   \n",
      "65432       False  False   False     False   False  ...    False  False   \n",
      "65433       False  False   False     False   False  ...    False  False   \n",
      "65434       False  False   False     False   False  ...    False  False   \n",
      "65435        True  False   False     False   False  ...    False  False   \n",
      "65436        True  False   False     False    True  ...    False   True   \n",
      "\n",
      "       Cockroachdb  Cassandra  InfluxDB  Databricks SQL  \\\n",
      "0            False      False     False           False   \n",
      "1            False      False     False           False   \n",
      "2            False      False     False           False   \n",
      "3            False      False     False           False   \n",
      "4            False      False     False           False   \n",
      "...            ...        ...       ...             ...   \n",
      "65432        False      False     False           False   \n",
      "65433        False      False     False           False   \n",
      "65434        False      False     False           False   \n",
      "65435        False      False     False           False   \n",
      "65436        False      False     False           False   \n",
      "\n",
      "       Firebase Realtime Database  Dynamodb  EventStoreDB     H2  \n",
      "0                           False     False         False  False  \n",
      "1                           False      True         False  False  \n",
      "2                            True     False         False  False  \n",
      "3                           False     False         False  False  \n",
      "4                           False     False         False  False  \n",
      "...                           ...       ...           ...    ...  \n",
      "65432                       False     False         False  False  \n",
      "65433                       False     False         False  False  \n",
      "65434                       False     False         False  False  \n",
      "65435                       False     False         False  False  \n",
      "65436                       False     False         False  False  \n",
      "\n",
      "[65437 rows x 35 columns]\n"
     ]
    }
   ],
   "source": [
    "col_sums2=new_columns.sum()\n",
    "print(col_sums2)\n",
    "\n",
    "# saving the columns excluding everything that is before the _\n",
    "# Rename the columns of new_columns dataframe\n",
    "new_columns.columns = new_columns.columns.str.split('_').str[-1]\n",
    "\n",
    "# Display the renamed columns\n",
    "print(new_columns.columns)\n",
    "print(new_columns)\n",
    "\n"
   ]
  },
  {
   "cell_type": "code",
   "execution_count": 62,
   "metadata": {},
   "outputs": [
    {
     "name": "stdout",
     "output_type": "stream",
     "text": [
      "                                             Database  Count\n",
      "0                   DatabaseHaveWorkedWith_Clickhouse    890\n",
      "1                       DatabaseHaveWorkedWith_SQLite  17365\n",
      "2             DatabaseHaveWorkedWith_Microsoft Access   2193\n",
      "3         DatabaseHaveWorkedWith_Microsoft SQL Server  13275\n",
      "4                      DatabaseHaveWorkedWith_MongoDB  13007\n",
      "5                   DatabaseHaveWorkedWith_PostgreSQL  25536\n",
      "6                        DatabaseHaveWorkedWith_Neo4J    998\n",
      "7                       DatabaseHaveWorkedWith_DuckDB    710\n",
      "8                     DatabaseHaveWorkedWith_Firebird    563\n",
      "9                       DatabaseHaveWorkedWith_Oracle   5273\n",
      "10                   DatabaseHaveWorkedWith_Cosmos DB   1746\n",
      "11                        DatabaseHaveWorkedWith_TiDB    127\n",
      "12                    DatabaseHaveWorkedWith_Supabase   2078\n",
      "13                    DatabaseHaveWorkedWith_Couch DB    534\n",
      "14                     DatabaseHaveWorkedWith_Datomic    184\n",
      "15                    DatabaseHaveWorkedWith_BigQuery   2531\n",
      "16                     DatabaseHaveWorkedWith_IBM DB2    914\n",
      "17                   DatabaseHaveWorkedWith_Couchbase    353\n",
      "18                     DatabaseHaveWorkedWith_MariaDB   8991\n",
      "19                       DatabaseHaveWorkedWith_Redis  10463\n",
      "20                        DatabaseHaveWorkedWith_Solr    766\n",
      "21               DatabaseHaveWorkedWith_Elasticsearch   6533\n",
      "22                      DatabaseHaveWorkedWith_Presto    323\n",
      "23             DatabaseHaveWorkedWith_Cloud Firestore   2842\n",
      "24                   DatabaseHaveWorkedWith_Snowflake   1364\n",
      "25                     DatabaseHaveWorkedWith_RavenDB    159\n",
      "26                       DatabaseHaveWorkedWith_MySQL  21099\n",
      "27                 DatabaseHaveWorkedWith_Cockroachdb    507\n",
      "28                   DatabaseHaveWorkedWith_Cassandra   1268\n",
      "29                    DatabaseHaveWorkedWith_InfluxDB   1338\n",
      "30              DatabaseHaveWorkedWith_Databricks SQL   1003\n",
      "31  DatabaseHaveWorkedWith_Firebase Realtime Database   3018\n",
      "32                    DatabaseHaveWorkedWith_Dynamodb   4138\n",
      "33                DatabaseHaveWorkedWith_EventStoreDB    162\n",
      "34                          DatabaseHaveWorkedWith_H2   2006\n"
     ]
    },
    {
     "data": {
      "application/vnd.plotly.v1+json": {
       "config": {
        "plotlyServerURL": "https://plot.ly"
       },
       "data": [
        {
         "alignmentgroup": "True",
         "hovertemplate": "Database=%{x}<br>Count=%{y}<extra></extra>",
         "legendgroup": "DatabaseHaveWorkedWith_Clickhouse",
         "marker": {
          "color": "#636efa",
          "pattern": {
           "shape": ""
          }
         },
         "name": "DatabaseHaveWorkedWith_Clickhouse",
         "offsetgroup": "DatabaseHaveWorkedWith_Clickhouse",
         "orientation": "v",
         "showlegend": true,
         "textposition": "auto",
         "type": "bar",
         "x": [
          "DatabaseHaveWorkedWith_Clickhouse"
         ],
         "xaxis": "x",
         "y": [
          890
         ],
         "yaxis": "y"
        },
        {
         "alignmentgroup": "True",
         "hovertemplate": "Database=%{x}<br>Count=%{y}<extra></extra>",
         "legendgroup": "DatabaseHaveWorkedWith_SQLite",
         "marker": {
          "color": "#EF553B",
          "pattern": {
           "shape": ""
          }
         },
         "name": "DatabaseHaveWorkedWith_SQLite",
         "offsetgroup": "DatabaseHaveWorkedWith_SQLite",
         "orientation": "v",
         "showlegend": true,
         "textposition": "auto",
         "type": "bar",
         "x": [
          "DatabaseHaveWorkedWith_SQLite"
         ],
         "xaxis": "x",
         "y": [
          17365
         ],
         "yaxis": "y"
        },
        {
         "alignmentgroup": "True",
         "hovertemplate": "Database=%{x}<br>Count=%{y}<extra></extra>",
         "legendgroup": "DatabaseHaveWorkedWith_Microsoft Access",
         "marker": {
          "color": "#00cc96",
          "pattern": {
           "shape": ""
          }
         },
         "name": "DatabaseHaveWorkedWith_Microsoft Access",
         "offsetgroup": "DatabaseHaveWorkedWith_Microsoft Access",
         "orientation": "v",
         "showlegend": true,
         "textposition": "auto",
         "type": "bar",
         "x": [
          "DatabaseHaveWorkedWith_Microsoft Access"
         ],
         "xaxis": "x",
         "y": [
          2193
         ],
         "yaxis": "y"
        },
        {
         "alignmentgroup": "True",
         "hovertemplate": "Database=%{x}<br>Count=%{y}<extra></extra>",
         "legendgroup": "DatabaseHaveWorkedWith_Microsoft SQL Server",
         "marker": {
          "color": "#ab63fa",
          "pattern": {
           "shape": ""
          }
         },
         "name": "DatabaseHaveWorkedWith_Microsoft SQL Server",
         "offsetgroup": "DatabaseHaveWorkedWith_Microsoft SQL Server",
         "orientation": "v",
         "showlegend": true,
         "textposition": "auto",
         "type": "bar",
         "x": [
          "DatabaseHaveWorkedWith_Microsoft SQL Server"
         ],
         "xaxis": "x",
         "y": [
          13275
         ],
         "yaxis": "y"
        },
        {
         "alignmentgroup": "True",
         "hovertemplate": "Database=%{x}<br>Count=%{y}<extra></extra>",
         "legendgroup": "DatabaseHaveWorkedWith_MongoDB",
         "marker": {
          "color": "#FFA15A",
          "pattern": {
           "shape": ""
          }
         },
         "name": "DatabaseHaveWorkedWith_MongoDB",
         "offsetgroup": "DatabaseHaveWorkedWith_MongoDB",
         "orientation": "v",
         "showlegend": true,
         "textposition": "auto",
         "type": "bar",
         "x": [
          "DatabaseHaveWorkedWith_MongoDB"
         ],
         "xaxis": "x",
         "y": [
          13007
         ],
         "yaxis": "y"
        },
        {
         "alignmentgroup": "True",
         "hovertemplate": "Database=%{x}<br>Count=%{y}<extra></extra>",
         "legendgroup": "DatabaseHaveWorkedWith_PostgreSQL",
         "marker": {
          "color": "#19d3f3",
          "pattern": {
           "shape": ""
          }
         },
         "name": "DatabaseHaveWorkedWith_PostgreSQL",
         "offsetgroup": "DatabaseHaveWorkedWith_PostgreSQL",
         "orientation": "v",
         "showlegend": true,
         "textposition": "auto",
         "type": "bar",
         "x": [
          "DatabaseHaveWorkedWith_PostgreSQL"
         ],
         "xaxis": "x",
         "y": [
          25536
         ],
         "yaxis": "y"
        },
        {
         "alignmentgroup": "True",
         "hovertemplate": "Database=%{x}<br>Count=%{y}<extra></extra>",
         "legendgroup": "DatabaseHaveWorkedWith_Neo4J",
         "marker": {
          "color": "#FF6692",
          "pattern": {
           "shape": ""
          }
         },
         "name": "DatabaseHaveWorkedWith_Neo4J",
         "offsetgroup": "DatabaseHaveWorkedWith_Neo4J",
         "orientation": "v",
         "showlegend": true,
         "textposition": "auto",
         "type": "bar",
         "x": [
          "DatabaseHaveWorkedWith_Neo4J"
         ],
         "xaxis": "x",
         "y": [
          998
         ],
         "yaxis": "y"
        },
        {
         "alignmentgroup": "True",
         "hovertemplate": "Database=%{x}<br>Count=%{y}<extra></extra>",
         "legendgroup": "DatabaseHaveWorkedWith_DuckDB",
         "marker": {
          "color": "#B6E880",
          "pattern": {
           "shape": ""
          }
         },
         "name": "DatabaseHaveWorkedWith_DuckDB",
         "offsetgroup": "DatabaseHaveWorkedWith_DuckDB",
         "orientation": "v",
         "showlegend": true,
         "textposition": "auto",
         "type": "bar",
         "x": [
          "DatabaseHaveWorkedWith_DuckDB"
         ],
         "xaxis": "x",
         "y": [
          710
         ],
         "yaxis": "y"
        },
        {
         "alignmentgroup": "True",
         "hovertemplate": "Database=%{x}<br>Count=%{y}<extra></extra>",
         "legendgroup": "DatabaseHaveWorkedWith_Firebird",
         "marker": {
          "color": "#FF97FF",
          "pattern": {
           "shape": ""
          }
         },
         "name": "DatabaseHaveWorkedWith_Firebird",
         "offsetgroup": "DatabaseHaveWorkedWith_Firebird",
         "orientation": "v",
         "showlegend": true,
         "textposition": "auto",
         "type": "bar",
         "x": [
          "DatabaseHaveWorkedWith_Firebird"
         ],
         "xaxis": "x",
         "y": [
          563
         ],
         "yaxis": "y"
        },
        {
         "alignmentgroup": "True",
         "hovertemplate": "Database=%{x}<br>Count=%{y}<extra></extra>",
         "legendgroup": "DatabaseHaveWorkedWith_Oracle",
         "marker": {
          "color": "#FECB52",
          "pattern": {
           "shape": ""
          }
         },
         "name": "DatabaseHaveWorkedWith_Oracle",
         "offsetgroup": "DatabaseHaveWorkedWith_Oracle",
         "orientation": "v",
         "showlegend": true,
         "textposition": "auto",
         "type": "bar",
         "x": [
          "DatabaseHaveWorkedWith_Oracle"
         ],
         "xaxis": "x",
         "y": [
          5273
         ],
         "yaxis": "y"
        },
        {
         "alignmentgroup": "True",
         "hovertemplate": "Database=%{x}<br>Count=%{y}<extra></extra>",
         "legendgroup": "DatabaseHaveWorkedWith_Cosmos DB",
         "marker": {
          "color": "#636efa",
          "pattern": {
           "shape": ""
          }
         },
         "name": "DatabaseHaveWorkedWith_Cosmos DB",
         "offsetgroup": "DatabaseHaveWorkedWith_Cosmos DB",
         "orientation": "v",
         "showlegend": true,
         "textposition": "auto",
         "type": "bar",
         "x": [
          "DatabaseHaveWorkedWith_Cosmos DB"
         ],
         "xaxis": "x",
         "y": [
          1746
         ],
         "yaxis": "y"
        },
        {
         "alignmentgroup": "True",
         "hovertemplate": "Database=%{x}<br>Count=%{y}<extra></extra>",
         "legendgroup": "DatabaseHaveWorkedWith_TiDB",
         "marker": {
          "color": "#EF553B",
          "pattern": {
           "shape": ""
          }
         },
         "name": "DatabaseHaveWorkedWith_TiDB",
         "offsetgroup": "DatabaseHaveWorkedWith_TiDB",
         "orientation": "v",
         "showlegend": true,
         "textposition": "auto",
         "type": "bar",
         "x": [
          "DatabaseHaveWorkedWith_TiDB"
         ],
         "xaxis": "x",
         "y": [
          127
         ],
         "yaxis": "y"
        },
        {
         "alignmentgroup": "True",
         "hovertemplate": "Database=%{x}<br>Count=%{y}<extra></extra>",
         "legendgroup": "DatabaseHaveWorkedWith_Supabase",
         "marker": {
          "color": "#00cc96",
          "pattern": {
           "shape": ""
          }
         },
         "name": "DatabaseHaveWorkedWith_Supabase",
         "offsetgroup": "DatabaseHaveWorkedWith_Supabase",
         "orientation": "v",
         "showlegend": true,
         "textposition": "auto",
         "type": "bar",
         "x": [
          "DatabaseHaveWorkedWith_Supabase"
         ],
         "xaxis": "x",
         "y": [
          2078
         ],
         "yaxis": "y"
        },
        {
         "alignmentgroup": "True",
         "hovertemplate": "Database=%{x}<br>Count=%{y}<extra></extra>",
         "legendgroup": "DatabaseHaveWorkedWith_Couch DB",
         "marker": {
          "color": "#ab63fa",
          "pattern": {
           "shape": ""
          }
         },
         "name": "DatabaseHaveWorkedWith_Couch DB",
         "offsetgroup": "DatabaseHaveWorkedWith_Couch DB",
         "orientation": "v",
         "showlegend": true,
         "textposition": "auto",
         "type": "bar",
         "x": [
          "DatabaseHaveWorkedWith_Couch DB"
         ],
         "xaxis": "x",
         "y": [
          534
         ],
         "yaxis": "y"
        },
        {
         "alignmentgroup": "True",
         "hovertemplate": "Database=%{x}<br>Count=%{y}<extra></extra>",
         "legendgroup": "DatabaseHaveWorkedWith_Datomic",
         "marker": {
          "color": "#FFA15A",
          "pattern": {
           "shape": ""
          }
         },
         "name": "DatabaseHaveWorkedWith_Datomic",
         "offsetgroup": "DatabaseHaveWorkedWith_Datomic",
         "orientation": "v",
         "showlegend": true,
         "textposition": "auto",
         "type": "bar",
         "x": [
          "DatabaseHaveWorkedWith_Datomic"
         ],
         "xaxis": "x",
         "y": [
          184
         ],
         "yaxis": "y"
        },
        {
         "alignmentgroup": "True",
         "hovertemplate": "Database=%{x}<br>Count=%{y}<extra></extra>",
         "legendgroup": "DatabaseHaveWorkedWith_BigQuery",
         "marker": {
          "color": "#19d3f3",
          "pattern": {
           "shape": ""
          }
         },
         "name": "DatabaseHaveWorkedWith_BigQuery",
         "offsetgroup": "DatabaseHaveWorkedWith_BigQuery",
         "orientation": "v",
         "showlegend": true,
         "textposition": "auto",
         "type": "bar",
         "x": [
          "DatabaseHaveWorkedWith_BigQuery"
         ],
         "xaxis": "x",
         "y": [
          2531
         ],
         "yaxis": "y"
        },
        {
         "alignmentgroup": "True",
         "hovertemplate": "Database=%{x}<br>Count=%{y}<extra></extra>",
         "legendgroup": "DatabaseHaveWorkedWith_IBM DB2",
         "marker": {
          "color": "#FF6692",
          "pattern": {
           "shape": ""
          }
         },
         "name": "DatabaseHaveWorkedWith_IBM DB2",
         "offsetgroup": "DatabaseHaveWorkedWith_IBM DB2",
         "orientation": "v",
         "showlegend": true,
         "textposition": "auto",
         "type": "bar",
         "x": [
          "DatabaseHaveWorkedWith_IBM DB2"
         ],
         "xaxis": "x",
         "y": [
          914
         ],
         "yaxis": "y"
        },
        {
         "alignmentgroup": "True",
         "hovertemplate": "Database=%{x}<br>Count=%{y}<extra></extra>",
         "legendgroup": "DatabaseHaveWorkedWith_Couchbase",
         "marker": {
          "color": "#B6E880",
          "pattern": {
           "shape": ""
          }
         },
         "name": "DatabaseHaveWorkedWith_Couchbase",
         "offsetgroup": "DatabaseHaveWorkedWith_Couchbase",
         "orientation": "v",
         "showlegend": true,
         "textposition": "auto",
         "type": "bar",
         "x": [
          "DatabaseHaveWorkedWith_Couchbase"
         ],
         "xaxis": "x",
         "y": [
          353
         ],
         "yaxis": "y"
        },
        {
         "alignmentgroup": "True",
         "hovertemplate": "Database=%{x}<br>Count=%{y}<extra></extra>",
         "legendgroup": "DatabaseHaveWorkedWith_MariaDB",
         "marker": {
          "color": "#FF97FF",
          "pattern": {
           "shape": ""
          }
         },
         "name": "DatabaseHaveWorkedWith_MariaDB",
         "offsetgroup": "DatabaseHaveWorkedWith_MariaDB",
         "orientation": "v",
         "showlegend": true,
         "textposition": "auto",
         "type": "bar",
         "x": [
          "DatabaseHaveWorkedWith_MariaDB"
         ],
         "xaxis": "x",
         "y": [
          8991
         ],
         "yaxis": "y"
        },
        {
         "alignmentgroup": "True",
         "hovertemplate": "Database=%{x}<br>Count=%{y}<extra></extra>",
         "legendgroup": "DatabaseHaveWorkedWith_Redis",
         "marker": {
          "color": "#FECB52",
          "pattern": {
           "shape": ""
          }
         },
         "name": "DatabaseHaveWorkedWith_Redis",
         "offsetgroup": "DatabaseHaveWorkedWith_Redis",
         "orientation": "v",
         "showlegend": true,
         "textposition": "auto",
         "type": "bar",
         "x": [
          "DatabaseHaveWorkedWith_Redis"
         ],
         "xaxis": "x",
         "y": [
          10463
         ],
         "yaxis": "y"
        },
        {
         "alignmentgroup": "True",
         "hovertemplate": "Database=%{x}<br>Count=%{y}<extra></extra>",
         "legendgroup": "DatabaseHaveWorkedWith_Solr",
         "marker": {
          "color": "#636efa",
          "pattern": {
           "shape": ""
          }
         },
         "name": "DatabaseHaveWorkedWith_Solr",
         "offsetgroup": "DatabaseHaveWorkedWith_Solr",
         "orientation": "v",
         "showlegend": true,
         "textposition": "auto",
         "type": "bar",
         "x": [
          "DatabaseHaveWorkedWith_Solr"
         ],
         "xaxis": "x",
         "y": [
          766
         ],
         "yaxis": "y"
        },
        {
         "alignmentgroup": "True",
         "hovertemplate": "Database=%{x}<br>Count=%{y}<extra></extra>",
         "legendgroup": "DatabaseHaveWorkedWith_Elasticsearch",
         "marker": {
          "color": "#EF553B",
          "pattern": {
           "shape": ""
          }
         },
         "name": "DatabaseHaveWorkedWith_Elasticsearch",
         "offsetgroup": "DatabaseHaveWorkedWith_Elasticsearch",
         "orientation": "v",
         "showlegend": true,
         "textposition": "auto",
         "type": "bar",
         "x": [
          "DatabaseHaveWorkedWith_Elasticsearch"
         ],
         "xaxis": "x",
         "y": [
          6533
         ],
         "yaxis": "y"
        },
        {
         "alignmentgroup": "True",
         "hovertemplate": "Database=%{x}<br>Count=%{y}<extra></extra>",
         "legendgroup": "DatabaseHaveWorkedWith_Presto",
         "marker": {
          "color": "#00cc96",
          "pattern": {
           "shape": ""
          }
         },
         "name": "DatabaseHaveWorkedWith_Presto",
         "offsetgroup": "DatabaseHaveWorkedWith_Presto",
         "orientation": "v",
         "showlegend": true,
         "textposition": "auto",
         "type": "bar",
         "x": [
          "DatabaseHaveWorkedWith_Presto"
         ],
         "xaxis": "x",
         "y": [
          323
         ],
         "yaxis": "y"
        },
        {
         "alignmentgroup": "True",
         "hovertemplate": "Database=%{x}<br>Count=%{y}<extra></extra>",
         "legendgroup": "DatabaseHaveWorkedWith_Cloud Firestore",
         "marker": {
          "color": "#ab63fa",
          "pattern": {
           "shape": ""
          }
         },
         "name": "DatabaseHaveWorkedWith_Cloud Firestore",
         "offsetgroup": "DatabaseHaveWorkedWith_Cloud Firestore",
         "orientation": "v",
         "showlegend": true,
         "textposition": "auto",
         "type": "bar",
         "x": [
          "DatabaseHaveWorkedWith_Cloud Firestore"
         ],
         "xaxis": "x",
         "y": [
          2842
         ],
         "yaxis": "y"
        },
        {
         "alignmentgroup": "True",
         "hovertemplate": "Database=%{x}<br>Count=%{y}<extra></extra>",
         "legendgroup": "DatabaseHaveWorkedWith_Snowflake",
         "marker": {
          "color": "#FFA15A",
          "pattern": {
           "shape": ""
          }
         },
         "name": "DatabaseHaveWorkedWith_Snowflake",
         "offsetgroup": "DatabaseHaveWorkedWith_Snowflake",
         "orientation": "v",
         "showlegend": true,
         "textposition": "auto",
         "type": "bar",
         "x": [
          "DatabaseHaveWorkedWith_Snowflake"
         ],
         "xaxis": "x",
         "y": [
          1364
         ],
         "yaxis": "y"
        },
        {
         "alignmentgroup": "True",
         "hovertemplate": "Database=%{x}<br>Count=%{y}<extra></extra>",
         "legendgroup": "DatabaseHaveWorkedWith_RavenDB",
         "marker": {
          "color": "#19d3f3",
          "pattern": {
           "shape": ""
          }
         },
         "name": "DatabaseHaveWorkedWith_RavenDB",
         "offsetgroup": "DatabaseHaveWorkedWith_RavenDB",
         "orientation": "v",
         "showlegend": true,
         "textposition": "auto",
         "type": "bar",
         "x": [
          "DatabaseHaveWorkedWith_RavenDB"
         ],
         "xaxis": "x",
         "y": [
          159
         ],
         "yaxis": "y"
        },
        {
         "alignmentgroup": "True",
         "hovertemplate": "Database=%{x}<br>Count=%{y}<extra></extra>",
         "legendgroup": "DatabaseHaveWorkedWith_MySQL",
         "marker": {
          "color": "#FF6692",
          "pattern": {
           "shape": ""
          }
         },
         "name": "DatabaseHaveWorkedWith_MySQL",
         "offsetgroup": "DatabaseHaveWorkedWith_MySQL",
         "orientation": "v",
         "showlegend": true,
         "textposition": "auto",
         "type": "bar",
         "x": [
          "DatabaseHaveWorkedWith_MySQL"
         ],
         "xaxis": "x",
         "y": [
          21099
         ],
         "yaxis": "y"
        },
        {
         "alignmentgroup": "True",
         "hovertemplate": "Database=%{x}<br>Count=%{y}<extra></extra>",
         "legendgroup": "DatabaseHaveWorkedWith_Cockroachdb",
         "marker": {
          "color": "#B6E880",
          "pattern": {
           "shape": ""
          }
         },
         "name": "DatabaseHaveWorkedWith_Cockroachdb",
         "offsetgroup": "DatabaseHaveWorkedWith_Cockroachdb",
         "orientation": "v",
         "showlegend": true,
         "textposition": "auto",
         "type": "bar",
         "x": [
          "DatabaseHaveWorkedWith_Cockroachdb"
         ],
         "xaxis": "x",
         "y": [
          507
         ],
         "yaxis": "y"
        },
        {
         "alignmentgroup": "True",
         "hovertemplate": "Database=%{x}<br>Count=%{y}<extra></extra>",
         "legendgroup": "DatabaseHaveWorkedWith_Cassandra",
         "marker": {
          "color": "#FF97FF",
          "pattern": {
           "shape": ""
          }
         },
         "name": "DatabaseHaveWorkedWith_Cassandra",
         "offsetgroup": "DatabaseHaveWorkedWith_Cassandra",
         "orientation": "v",
         "showlegend": true,
         "textposition": "auto",
         "type": "bar",
         "x": [
          "DatabaseHaveWorkedWith_Cassandra"
         ],
         "xaxis": "x",
         "y": [
          1268
         ],
         "yaxis": "y"
        },
        {
         "alignmentgroup": "True",
         "hovertemplate": "Database=%{x}<br>Count=%{y}<extra></extra>",
         "legendgroup": "DatabaseHaveWorkedWith_InfluxDB",
         "marker": {
          "color": "#FECB52",
          "pattern": {
           "shape": ""
          }
         },
         "name": "DatabaseHaveWorkedWith_InfluxDB",
         "offsetgroup": "DatabaseHaveWorkedWith_InfluxDB",
         "orientation": "v",
         "showlegend": true,
         "textposition": "auto",
         "type": "bar",
         "x": [
          "DatabaseHaveWorkedWith_InfluxDB"
         ],
         "xaxis": "x",
         "y": [
          1338
         ],
         "yaxis": "y"
        },
        {
         "alignmentgroup": "True",
         "hovertemplate": "Database=%{x}<br>Count=%{y}<extra></extra>",
         "legendgroup": "DatabaseHaveWorkedWith_Databricks SQL",
         "marker": {
          "color": "#636efa",
          "pattern": {
           "shape": ""
          }
         },
         "name": "DatabaseHaveWorkedWith_Databricks SQL",
         "offsetgroup": "DatabaseHaveWorkedWith_Databricks SQL",
         "orientation": "v",
         "showlegend": true,
         "textposition": "auto",
         "type": "bar",
         "x": [
          "DatabaseHaveWorkedWith_Databricks SQL"
         ],
         "xaxis": "x",
         "y": [
          1003
         ],
         "yaxis": "y"
        },
        {
         "alignmentgroup": "True",
         "hovertemplate": "Database=%{x}<br>Count=%{y}<extra></extra>",
         "legendgroup": "DatabaseHaveWorkedWith_Firebase Realtime Database",
         "marker": {
          "color": "#EF553B",
          "pattern": {
           "shape": ""
          }
         },
         "name": "DatabaseHaveWorkedWith_Firebase Realtime Database",
         "offsetgroup": "DatabaseHaveWorkedWith_Firebase Realtime Database",
         "orientation": "v",
         "showlegend": true,
         "textposition": "auto",
         "type": "bar",
         "x": [
          "DatabaseHaveWorkedWith_Firebase Realtime Database"
         ],
         "xaxis": "x",
         "y": [
          3018
         ],
         "yaxis": "y"
        },
        {
         "alignmentgroup": "True",
         "hovertemplate": "Database=%{x}<br>Count=%{y}<extra></extra>",
         "legendgroup": "DatabaseHaveWorkedWith_Dynamodb",
         "marker": {
          "color": "#00cc96",
          "pattern": {
           "shape": ""
          }
         },
         "name": "DatabaseHaveWorkedWith_Dynamodb",
         "offsetgroup": "DatabaseHaveWorkedWith_Dynamodb",
         "orientation": "v",
         "showlegend": true,
         "textposition": "auto",
         "type": "bar",
         "x": [
          "DatabaseHaveWorkedWith_Dynamodb"
         ],
         "xaxis": "x",
         "y": [
          4138
         ],
         "yaxis": "y"
        },
        {
         "alignmentgroup": "True",
         "hovertemplate": "Database=%{x}<br>Count=%{y}<extra></extra>",
         "legendgroup": "DatabaseHaveWorkedWith_EventStoreDB",
         "marker": {
          "color": "#ab63fa",
          "pattern": {
           "shape": ""
          }
         },
         "name": "DatabaseHaveWorkedWith_EventStoreDB",
         "offsetgroup": "DatabaseHaveWorkedWith_EventStoreDB",
         "orientation": "v",
         "showlegend": true,
         "textposition": "auto",
         "type": "bar",
         "x": [
          "DatabaseHaveWorkedWith_EventStoreDB"
         ],
         "xaxis": "x",
         "y": [
          162
         ],
         "yaxis": "y"
        },
        {
         "alignmentgroup": "True",
         "hovertemplate": "Database=%{x}<br>Count=%{y}<extra></extra>",
         "legendgroup": "DatabaseHaveWorkedWith_H2",
         "marker": {
          "color": "#FFA15A",
          "pattern": {
           "shape": ""
          }
         },
         "name": "DatabaseHaveWorkedWith_H2",
         "offsetgroup": "DatabaseHaveWorkedWith_H2",
         "orientation": "v",
         "showlegend": true,
         "textposition": "auto",
         "type": "bar",
         "x": [
          "DatabaseHaveWorkedWith_H2"
         ],
         "xaxis": "x",
         "y": [
          2006
         ],
         "yaxis": "y"
        }
       ],
       "layout": {
        "barmode": "relative",
        "legend": {
         "title": {
          "text": "Database"
         },
         "tracegroupgap": 0
        },
        "showlegend": false,
        "template": {
         "data": {
          "bar": [
           {
            "error_x": {
             "color": "#2a3f5f"
            },
            "error_y": {
             "color": "#2a3f5f"
            },
            "marker": {
             "line": {
              "color": "white",
              "width": 0.5
             },
             "pattern": {
              "fillmode": "overlay",
              "size": 10,
              "solidity": 0.2
             }
            },
            "type": "bar"
           }
          ],
          "barpolar": [
           {
            "marker": {
             "line": {
              "color": "white",
              "width": 0.5
             },
             "pattern": {
              "fillmode": "overlay",
              "size": 10,
              "solidity": 0.2
             }
            },
            "type": "barpolar"
           }
          ],
          "carpet": [
           {
            "aaxis": {
             "endlinecolor": "#2a3f5f",
             "gridcolor": "#C8D4E3",
             "linecolor": "#C8D4E3",
             "minorgridcolor": "#C8D4E3",
             "startlinecolor": "#2a3f5f"
            },
            "baxis": {
             "endlinecolor": "#2a3f5f",
             "gridcolor": "#C8D4E3",
             "linecolor": "#C8D4E3",
             "minorgridcolor": "#C8D4E3",
             "startlinecolor": "#2a3f5f"
            },
            "type": "carpet"
           }
          ],
          "choropleth": [
           {
            "colorbar": {
             "outlinewidth": 0,
             "ticks": ""
            },
            "type": "choropleth"
           }
          ],
          "contour": [
           {
            "colorbar": {
             "outlinewidth": 0,
             "ticks": ""
            },
            "colorscale": [
             [
              0,
              "#0d0887"
             ],
             [
              0.1111111111111111,
              "#46039f"
             ],
             [
              0.2222222222222222,
              "#7201a8"
             ],
             [
              0.3333333333333333,
              "#9c179e"
             ],
             [
              0.4444444444444444,
              "#bd3786"
             ],
             [
              0.5555555555555556,
              "#d8576b"
             ],
             [
              0.6666666666666666,
              "#ed7953"
             ],
             [
              0.7777777777777778,
              "#fb9f3a"
             ],
             [
              0.8888888888888888,
              "#fdca26"
             ],
             [
              1,
              "#f0f921"
             ]
            ],
            "type": "contour"
           }
          ],
          "contourcarpet": [
           {
            "colorbar": {
             "outlinewidth": 0,
             "ticks": ""
            },
            "type": "contourcarpet"
           }
          ],
          "heatmap": [
           {
            "colorbar": {
             "outlinewidth": 0,
             "ticks": ""
            },
            "colorscale": [
             [
              0,
              "#0d0887"
             ],
             [
              0.1111111111111111,
              "#46039f"
             ],
             [
              0.2222222222222222,
              "#7201a8"
             ],
             [
              0.3333333333333333,
              "#9c179e"
             ],
             [
              0.4444444444444444,
              "#bd3786"
             ],
             [
              0.5555555555555556,
              "#d8576b"
             ],
             [
              0.6666666666666666,
              "#ed7953"
             ],
             [
              0.7777777777777778,
              "#fb9f3a"
             ],
             [
              0.8888888888888888,
              "#fdca26"
             ],
             [
              1,
              "#f0f921"
             ]
            ],
            "type": "heatmap"
           }
          ],
          "heatmapgl": [
           {
            "colorbar": {
             "outlinewidth": 0,
             "ticks": ""
            },
            "colorscale": [
             [
              0,
              "#0d0887"
             ],
             [
              0.1111111111111111,
              "#46039f"
             ],
             [
              0.2222222222222222,
              "#7201a8"
             ],
             [
              0.3333333333333333,
              "#9c179e"
             ],
             [
              0.4444444444444444,
              "#bd3786"
             ],
             [
              0.5555555555555556,
              "#d8576b"
             ],
             [
              0.6666666666666666,
              "#ed7953"
             ],
             [
              0.7777777777777778,
              "#fb9f3a"
             ],
             [
              0.8888888888888888,
              "#fdca26"
             ],
             [
              1,
              "#f0f921"
             ]
            ],
            "type": "heatmapgl"
           }
          ],
          "histogram": [
           {
            "marker": {
             "pattern": {
              "fillmode": "overlay",
              "size": 10,
              "solidity": 0.2
             }
            },
            "type": "histogram"
           }
          ],
          "histogram2d": [
           {
            "colorbar": {
             "outlinewidth": 0,
             "ticks": ""
            },
            "colorscale": [
             [
              0,
              "#0d0887"
             ],
             [
              0.1111111111111111,
              "#46039f"
             ],
             [
              0.2222222222222222,
              "#7201a8"
             ],
             [
              0.3333333333333333,
              "#9c179e"
             ],
             [
              0.4444444444444444,
              "#bd3786"
             ],
             [
              0.5555555555555556,
              "#d8576b"
             ],
             [
              0.6666666666666666,
              "#ed7953"
             ],
             [
              0.7777777777777778,
              "#fb9f3a"
             ],
             [
              0.8888888888888888,
              "#fdca26"
             ],
             [
              1,
              "#f0f921"
             ]
            ],
            "type": "histogram2d"
           }
          ],
          "histogram2dcontour": [
           {
            "colorbar": {
             "outlinewidth": 0,
             "ticks": ""
            },
            "colorscale": [
             [
              0,
              "#0d0887"
             ],
             [
              0.1111111111111111,
              "#46039f"
             ],
             [
              0.2222222222222222,
              "#7201a8"
             ],
             [
              0.3333333333333333,
              "#9c179e"
             ],
             [
              0.4444444444444444,
              "#bd3786"
             ],
             [
              0.5555555555555556,
              "#d8576b"
             ],
             [
              0.6666666666666666,
              "#ed7953"
             ],
             [
              0.7777777777777778,
              "#fb9f3a"
             ],
             [
              0.8888888888888888,
              "#fdca26"
             ],
             [
              1,
              "#f0f921"
             ]
            ],
            "type": "histogram2dcontour"
           }
          ],
          "mesh3d": [
           {
            "colorbar": {
             "outlinewidth": 0,
             "ticks": ""
            },
            "type": "mesh3d"
           }
          ],
          "parcoords": [
           {
            "line": {
             "colorbar": {
              "outlinewidth": 0,
              "ticks": ""
             }
            },
            "type": "parcoords"
           }
          ],
          "pie": [
           {
            "automargin": true,
            "type": "pie"
           }
          ],
          "scatter": [
           {
            "fillpattern": {
             "fillmode": "overlay",
             "size": 10,
             "solidity": 0.2
            },
            "type": "scatter"
           }
          ],
          "scatter3d": [
           {
            "line": {
             "colorbar": {
              "outlinewidth": 0,
              "ticks": ""
             }
            },
            "marker": {
             "colorbar": {
              "outlinewidth": 0,
              "ticks": ""
             }
            },
            "type": "scatter3d"
           }
          ],
          "scattercarpet": [
           {
            "marker": {
             "colorbar": {
              "outlinewidth": 0,
              "ticks": ""
             }
            },
            "type": "scattercarpet"
           }
          ],
          "scattergeo": [
           {
            "marker": {
             "colorbar": {
              "outlinewidth": 0,
              "ticks": ""
             }
            },
            "type": "scattergeo"
           }
          ],
          "scattergl": [
           {
            "marker": {
             "colorbar": {
              "outlinewidth": 0,
              "ticks": ""
             }
            },
            "type": "scattergl"
           }
          ],
          "scattermapbox": [
           {
            "marker": {
             "colorbar": {
              "outlinewidth": 0,
              "ticks": ""
             }
            },
            "type": "scattermapbox"
           }
          ],
          "scatterpolar": [
           {
            "marker": {
             "colorbar": {
              "outlinewidth": 0,
              "ticks": ""
             }
            },
            "type": "scatterpolar"
           }
          ],
          "scatterpolargl": [
           {
            "marker": {
             "colorbar": {
              "outlinewidth": 0,
              "ticks": ""
             }
            },
            "type": "scatterpolargl"
           }
          ],
          "scatterternary": [
           {
            "marker": {
             "colorbar": {
              "outlinewidth": 0,
              "ticks": ""
             }
            },
            "type": "scatterternary"
           }
          ],
          "surface": [
           {
            "colorbar": {
             "outlinewidth": 0,
             "ticks": ""
            },
            "colorscale": [
             [
              0,
              "#0d0887"
             ],
             [
              0.1111111111111111,
              "#46039f"
             ],
             [
              0.2222222222222222,
              "#7201a8"
             ],
             [
              0.3333333333333333,
              "#9c179e"
             ],
             [
              0.4444444444444444,
              "#bd3786"
             ],
             [
              0.5555555555555556,
              "#d8576b"
             ],
             [
              0.6666666666666666,
              "#ed7953"
             ],
             [
              0.7777777777777778,
              "#fb9f3a"
             ],
             [
              0.8888888888888888,
              "#fdca26"
             ],
             [
              1,
              "#f0f921"
             ]
            ],
            "type": "surface"
           }
          ],
          "table": [
           {
            "cells": {
             "fill": {
              "color": "#EBF0F8"
             },
             "line": {
              "color": "white"
             }
            },
            "header": {
             "fill": {
              "color": "#C8D4E3"
             },
             "line": {
              "color": "white"
             }
            },
            "type": "table"
           }
          ]
         },
         "layout": {
          "annotationdefaults": {
           "arrowcolor": "#2a3f5f",
           "arrowhead": 0,
           "arrowwidth": 1
          },
          "autotypenumbers": "strict",
          "coloraxis": {
           "colorbar": {
            "outlinewidth": 0,
            "ticks": ""
           }
          },
          "colorscale": {
           "diverging": [
            [
             0,
             "#8e0152"
            ],
            [
             0.1,
             "#c51b7d"
            ],
            [
             0.2,
             "#de77ae"
            ],
            [
             0.3,
             "#f1b6da"
            ],
            [
             0.4,
             "#fde0ef"
            ],
            [
             0.5,
             "#f7f7f7"
            ],
            [
             0.6,
             "#e6f5d0"
            ],
            [
             0.7,
             "#b8e186"
            ],
            [
             0.8,
             "#7fbc41"
            ],
            [
             0.9,
             "#4d9221"
            ],
            [
             1,
             "#276419"
            ]
           ],
           "sequential": [
            [
             0,
             "#0d0887"
            ],
            [
             0.1111111111111111,
             "#46039f"
            ],
            [
             0.2222222222222222,
             "#7201a8"
            ],
            [
             0.3333333333333333,
             "#9c179e"
            ],
            [
             0.4444444444444444,
             "#bd3786"
            ],
            [
             0.5555555555555556,
             "#d8576b"
            ],
            [
             0.6666666666666666,
             "#ed7953"
            ],
            [
             0.7777777777777778,
             "#fb9f3a"
            ],
            [
             0.8888888888888888,
             "#fdca26"
            ],
            [
             1,
             "#f0f921"
            ]
           ],
           "sequentialminus": [
            [
             0,
             "#0d0887"
            ],
            [
             0.1111111111111111,
             "#46039f"
            ],
            [
             0.2222222222222222,
             "#7201a8"
            ],
            [
             0.3333333333333333,
             "#9c179e"
            ],
            [
             0.4444444444444444,
             "#bd3786"
            ],
            [
             0.5555555555555556,
             "#d8576b"
            ],
            [
             0.6666666666666666,
             "#ed7953"
            ],
            [
             0.7777777777777778,
             "#fb9f3a"
            ],
            [
             0.8888888888888888,
             "#fdca26"
            ],
            [
             1,
             "#f0f921"
            ]
           ]
          },
          "colorway": [
           "#636efa",
           "#EF553B",
           "#00cc96",
           "#ab63fa",
           "#FFA15A",
           "#19d3f3",
           "#FF6692",
           "#B6E880",
           "#FF97FF",
           "#FECB52"
          ],
          "font": {
           "color": "#2a3f5f"
          },
          "geo": {
           "bgcolor": "white",
           "lakecolor": "white",
           "landcolor": "white",
           "showlakes": true,
           "showland": true,
           "subunitcolor": "#C8D4E3"
          },
          "hoverlabel": {
           "align": "left"
          },
          "hovermode": "closest",
          "mapbox": {
           "style": "light"
          },
          "paper_bgcolor": "white",
          "plot_bgcolor": "white",
          "polar": {
           "angularaxis": {
            "gridcolor": "#EBF0F8",
            "linecolor": "#EBF0F8",
            "ticks": ""
           },
           "bgcolor": "white",
           "radialaxis": {
            "gridcolor": "#EBF0F8",
            "linecolor": "#EBF0F8",
            "ticks": ""
           }
          },
          "scene": {
           "xaxis": {
            "backgroundcolor": "white",
            "gridcolor": "#DFE8F3",
            "gridwidth": 2,
            "linecolor": "#EBF0F8",
            "showbackground": true,
            "ticks": "",
            "zerolinecolor": "#EBF0F8"
           },
           "yaxis": {
            "backgroundcolor": "white",
            "gridcolor": "#DFE8F3",
            "gridwidth": 2,
            "linecolor": "#EBF0F8",
            "showbackground": true,
            "ticks": "",
            "zerolinecolor": "#EBF0F8"
           },
           "zaxis": {
            "backgroundcolor": "white",
            "gridcolor": "#DFE8F3",
            "gridwidth": 2,
            "linecolor": "#EBF0F8",
            "showbackground": true,
            "ticks": "",
            "zerolinecolor": "#EBF0F8"
           }
          },
          "shapedefaults": {
           "line": {
            "color": "#2a3f5f"
           }
          },
          "ternary": {
           "aaxis": {
            "gridcolor": "#DFE8F3",
            "linecolor": "#A2B1C6",
            "ticks": ""
           },
           "baxis": {
            "gridcolor": "#DFE8F3",
            "linecolor": "#A2B1C6",
            "ticks": ""
           },
           "bgcolor": "white",
           "caxis": {
            "gridcolor": "#DFE8F3",
            "linecolor": "#A2B1C6",
            "ticks": ""
           }
          },
          "title": {
           "x": 0.05
          },
          "xaxis": {
           "automargin": true,
           "gridcolor": "#EBF0F8",
           "linecolor": "#EBF0F8",
           "ticks": "",
           "title": {
            "standoff": 15
           },
           "zerolinecolor": "#EBF0F8",
           "zerolinewidth": 2
          },
          "yaxis": {
           "automargin": true,
           "gridcolor": "#EBF0F8",
           "linecolor": "#EBF0F8",
           "ticks": "",
           "title": {
            "standoff": 15
           },
           "zerolinecolor": "#EBF0F8",
           "zerolinewidth": 2
          }
         }
        },
        "title": {
         "text": "Number of users using each Database",
         "x": 0.5
        },
        "xaxis": {
         "anchor": "y",
         "categoryarray": [
          "DatabaseHaveWorkedWith_Clickhouse",
          "DatabaseHaveWorkedWith_SQLite",
          "DatabaseHaveWorkedWith_Microsoft Access",
          "DatabaseHaveWorkedWith_Microsoft SQL Server",
          "DatabaseHaveWorkedWith_MongoDB",
          "DatabaseHaveWorkedWith_PostgreSQL",
          "DatabaseHaveWorkedWith_Neo4J",
          "DatabaseHaveWorkedWith_DuckDB",
          "DatabaseHaveWorkedWith_Firebird",
          "DatabaseHaveWorkedWith_Oracle",
          "DatabaseHaveWorkedWith_Cosmos DB",
          "DatabaseHaveWorkedWith_TiDB",
          "DatabaseHaveWorkedWith_Supabase",
          "DatabaseHaveWorkedWith_Couch DB",
          "DatabaseHaveWorkedWith_Datomic",
          "DatabaseHaveWorkedWith_BigQuery",
          "DatabaseHaveWorkedWith_IBM DB2",
          "DatabaseHaveWorkedWith_Couchbase",
          "DatabaseHaveWorkedWith_MariaDB",
          "DatabaseHaveWorkedWith_Redis",
          "DatabaseHaveWorkedWith_Solr",
          "DatabaseHaveWorkedWith_Elasticsearch",
          "DatabaseHaveWorkedWith_Presto",
          "DatabaseHaveWorkedWith_Cloud Firestore",
          "DatabaseHaveWorkedWith_Snowflake",
          "DatabaseHaveWorkedWith_RavenDB",
          "DatabaseHaveWorkedWith_MySQL",
          "DatabaseHaveWorkedWith_Cockroachdb",
          "DatabaseHaveWorkedWith_Cassandra",
          "DatabaseHaveWorkedWith_InfluxDB",
          "DatabaseHaveWorkedWith_Databricks SQL",
          "DatabaseHaveWorkedWith_Firebase Realtime Database",
          "DatabaseHaveWorkedWith_Dynamodb",
          "DatabaseHaveWorkedWith_EventStoreDB",
          "DatabaseHaveWorkedWith_H2"
         ],
         "categoryorder": "array",
         "domain": [
          0,
          1
         ],
         "title": {
          "text": "Database"
         }
        },
        "yaxis": {
         "anchor": "x",
         "domain": [
          0,
          1
         ],
         "title": {
          "text": "Number of users"
         }
        }
       }
      }
     },
     "metadata": {},
     "output_type": "display_data"
    }
   ],
   "source": [
    "#transform the output into  dataframe\n",
    "col_sums_df = pd.DataFrame(col_sums2).reset_index()\n",
    "\n",
    "# Rename the columns for clarity\n",
    "col_sums_df.columns = ['Database', 'Count']\n",
    "print(col_sums_df)\n",
    "\n",
    "\n",
    "\n",
    "fig_db= px.bar(\n",
    "    col_sums_df, \n",
    "    x='Database', \n",
    "    y='Count', \n",
    "    title='Number of users using each Database',\n",
    "    labels={'Database': 'Database', 'Count': 'Count'},\n",
    "    color='Database',  # Optional: adds different colors to the bars\n",
    "    \n",
    ")\n",
    "# Update layout for better appearance\n",
    "fig_db.update_layout(\n",
    "    xaxis_title='Database',\n",
    "    yaxis_title='Number of users',\n",
    "    title_x=0.5,  # Center the title\n",
    "    template='plotly_white',\n",
    "    showlegend=False  # Use a clean white background\n",
    ")\n",
    "# Show the plot\n",
    "fig_db.show()"
   ]
  },
  {
   "cell_type": "markdown",
   "metadata": {},
   "source": [
    "9. Is there a difference between programming languages when it comes to job satisfaction?\n",
    "\n",
    "In this task we want to calculate the mean job satisfaction for each programming language.\n",
    "\n",
    "    9.1 Check out the column LanguageWorkedWith and expand it as you did in question 8.\n",
    "    9.2 Check out the column JobSat: What values does it have?\n",
    "    9.3 Map the values of the column JobSat to numerical values from 1 to 5 (with 5 being the highest job satisfaction).\n",
    "        9.3.1 Write a function that gets a job satisfaction string as its input and returns the according number.\n",
    "        9.3.2 Create a new column JobSatNum in the dataframe, which contains the numerical job satisfaction value. Hint: df['JobSatNum'] = df['JobSat'].map(<your mapping function>)\n",
    "    9.4 Print the mean numerical job satisfaction for each programming language. Hint: Loop through the column names of the programming language columns you created in 9.1. For each programming language, filter the dataframe, to only contain the rows where the programming language column has the value True. From the filtered dataframe, select the column containing the numerical job satisfaction value and compute the mean (pandas Series have a method mean).\n"
   ]
  },
  {
   "cell_type": "code",
   "execution_count": 63,
   "metadata": {},
   "outputs": [],
   "source": [
    "def expand_column1(df, col):\n",
    "    \n",
    "    df = df.copy()\n",
    "\n",
    "    if col not in df.columns:\n",
    "        raise ValueError(f\"Column {col} not found in DataFrame\")\n",
    "\n",
    "    values = set()\n",
    "    for row in df[col]:\n",
    "        if not pd.isna(row):\n",
    "            for value in row.split(\";\"):\n",
    "                values.add(value)\n",
    "\n",
    "    for value in values:\n",
    "        df[f\"{col}_{value}\"] = df[col].map(\n",
    "            lambda v: value in v.split(\";\") if not pd.isna(v) else False\n",
    "        )\n",
    "    return df"
   ]
  },
  {
   "cell_type": "code",
   "execution_count": 64,
   "metadata": {},
   "outputs": [
    {
     "data": {
      "text/html": [
       "<div>\n",
       "<style scoped>\n",
       "    .dataframe tbody tr th:only-of-type {\n",
       "        vertical-align: middle;\n",
       "    }\n",
       "\n",
       "    .dataframe tbody tr th {\n",
       "        vertical-align: top;\n",
       "    }\n",
       "\n",
       "    .dataframe thead th {\n",
       "        text-align: right;\n",
       "    }\n",
       "</style>\n",
       "<table border=\"1\" class=\"dataframe\">\n",
       "  <thead>\n",
       "    <tr style=\"text-align: right;\">\n",
       "      <th></th>\n",
       "      <th>ResponseId</th>\n",
       "      <th>MainBranch</th>\n",
       "      <th>Age</th>\n",
       "      <th>Employment</th>\n",
       "      <th>RemoteWork</th>\n",
       "      <th>Check</th>\n",
       "      <th>CodingActivities</th>\n",
       "      <th>EdLevel</th>\n",
       "      <th>LearnCode</th>\n",
       "      <th>LearnCodeOnline</th>\n",
       "      <th>...</th>\n",
       "      <th>LanguageHaveWorkedWith_GDScript</th>\n",
       "      <th>LanguageHaveWorkedWith_Python</th>\n",
       "      <th>LanguageHaveWorkedWith_Elixir</th>\n",
       "      <th>LanguageHaveWorkedWith_Lisp</th>\n",
       "      <th>LanguageHaveWorkedWith_Solidity</th>\n",
       "      <th>LanguageHaveWorkedWith_Haskell</th>\n",
       "      <th>LanguageHaveWorkedWith_Assembly</th>\n",
       "      <th>LanguageHaveWorkedWith_Zig</th>\n",
       "      <th>LanguageHaveWorkedWith_Fortran</th>\n",
       "      <th>LanguageHaveWorkedWith_Perl</th>\n",
       "    </tr>\n",
       "  </thead>\n",
       "  <tbody>\n",
       "    <tr>\n",
       "      <th>0</th>\n",
       "      <td>1</td>\n",
       "      <td>I am a developer by profession</td>\n",
       "      <td>Under 18 years old</td>\n",
       "      <td>Employed, full-time</td>\n",
       "      <td>Remote</td>\n",
       "      <td>Apples</td>\n",
       "      <td>Hobby</td>\n",
       "      <td>Primary/elementary school</td>\n",
       "      <td>Books / Physical media</td>\n",
       "      <td>NaN</td>\n",
       "      <td>...</td>\n",
       "      <td>False</td>\n",
       "      <td>False</td>\n",
       "      <td>False</td>\n",
       "      <td>False</td>\n",
       "      <td>False</td>\n",
       "      <td>False</td>\n",
       "      <td>False</td>\n",
       "      <td>False</td>\n",
       "      <td>False</td>\n",
       "      <td>False</td>\n",
       "    </tr>\n",
       "    <tr>\n",
       "      <th>1</th>\n",
       "      <td>2</td>\n",
       "      <td>I am a developer by profession</td>\n",
       "      <td>35-44 years old</td>\n",
       "      <td>Employed, full-time</td>\n",
       "      <td>Remote</td>\n",
       "      <td>Apples</td>\n",
       "      <td>Hobby;Contribute to open-source projects;Other...</td>\n",
       "      <td>Bachelor’s degree (B.A., B.S., B.Eng., etc.)</td>\n",
       "      <td>Books / Physical media;Colleague;On the job tr...</td>\n",
       "      <td>Technical documentation;Blogs;Books;Written Tu...</td>\n",
       "      <td>...</td>\n",
       "      <td>False</td>\n",
       "      <td>True</td>\n",
       "      <td>False</td>\n",
       "      <td>False</td>\n",
       "      <td>False</td>\n",
       "      <td>False</td>\n",
       "      <td>False</td>\n",
       "      <td>False</td>\n",
       "      <td>False</td>\n",
       "      <td>False</td>\n",
       "    </tr>\n",
       "    <tr>\n",
       "      <th>2</th>\n",
       "      <td>3</td>\n",
       "      <td>I am a developer by profession</td>\n",
       "      <td>45-54 years old</td>\n",
       "      <td>Employed, full-time</td>\n",
       "      <td>Remote</td>\n",
       "      <td>Apples</td>\n",
       "      <td>Hobby;Contribute to open-source projects;Other...</td>\n",
       "      <td>Master’s degree (M.A., M.S., M.Eng., MBA, etc.)</td>\n",
       "      <td>Books / Physical media;Colleague;On the job tr...</td>\n",
       "      <td>Technical documentation;Blogs;Books;Written Tu...</td>\n",
       "      <td>...</td>\n",
       "      <td>False</td>\n",
       "      <td>False</td>\n",
       "      <td>False</td>\n",
       "      <td>False</td>\n",
       "      <td>False</td>\n",
       "      <td>False</td>\n",
       "      <td>False</td>\n",
       "      <td>False</td>\n",
       "      <td>False</td>\n",
       "      <td>False</td>\n",
       "    </tr>\n",
       "    <tr>\n",
       "      <th>3</th>\n",
       "      <td>4</td>\n",
       "      <td>I am learning to code</td>\n",
       "      <td>18-24 years old</td>\n",
       "      <td>Student, full-time</td>\n",
       "      <td>NaN</td>\n",
       "      <td>Apples</td>\n",
       "      <td>NaN</td>\n",
       "      <td>Some college/university study without earning ...</td>\n",
       "      <td>Other online resources (e.g., videos, blogs, f...</td>\n",
       "      <td>Stack Overflow;How-to videos;Interactive tutorial</td>\n",
       "      <td>...</td>\n",
       "      <td>False</td>\n",
       "      <td>True</td>\n",
       "      <td>False</td>\n",
       "      <td>False</td>\n",
       "      <td>False</td>\n",
       "      <td>False</td>\n",
       "      <td>False</td>\n",
       "      <td>False</td>\n",
       "      <td>False</td>\n",
       "      <td>False</td>\n",
       "    </tr>\n",
       "    <tr>\n",
       "      <th>4</th>\n",
       "      <td>5</td>\n",
       "      <td>I am a developer by profession</td>\n",
       "      <td>18-24 years old</td>\n",
       "      <td>Student, full-time</td>\n",
       "      <td>NaN</td>\n",
       "      <td>Apples</td>\n",
       "      <td>NaN</td>\n",
       "      <td>Secondary school (e.g. American high school, G...</td>\n",
       "      <td>Other online resources (e.g., videos, blogs, f...</td>\n",
       "      <td>Technical documentation;Blogs;Written Tutorial...</td>\n",
       "      <td>...</td>\n",
       "      <td>False</td>\n",
       "      <td>True</td>\n",
       "      <td>False</td>\n",
       "      <td>False</td>\n",
       "      <td>False</td>\n",
       "      <td>False</td>\n",
       "      <td>False</td>\n",
       "      <td>False</td>\n",
       "      <td>False</td>\n",
       "      <td>False</td>\n",
       "    </tr>\n",
       "    <tr>\n",
       "      <th>...</th>\n",
       "      <td>...</td>\n",
       "      <td>...</td>\n",
       "      <td>...</td>\n",
       "      <td>...</td>\n",
       "      <td>...</td>\n",
       "      <td>...</td>\n",
       "      <td>...</td>\n",
       "      <td>...</td>\n",
       "      <td>...</td>\n",
       "      <td>...</td>\n",
       "      <td>...</td>\n",
       "      <td>...</td>\n",
       "      <td>...</td>\n",
       "      <td>...</td>\n",
       "      <td>...</td>\n",
       "      <td>...</td>\n",
       "      <td>...</td>\n",
       "      <td>...</td>\n",
       "      <td>...</td>\n",
       "      <td>...</td>\n",
       "      <td>...</td>\n",
       "    </tr>\n",
       "    <tr>\n",
       "      <th>65432</th>\n",
       "      <td>65433</td>\n",
       "      <td>I am a developer by profession</td>\n",
       "      <td>18-24 years old</td>\n",
       "      <td>Employed, full-time</td>\n",
       "      <td>Remote</td>\n",
       "      <td>Apples</td>\n",
       "      <td>Hobby;School or academic work</td>\n",
       "      <td>Bachelor’s degree (B.A., B.S., B.Eng., etc.)</td>\n",
       "      <td>On the job training;School (i.e., University, ...</td>\n",
       "      <td>NaN</td>\n",
       "      <td>...</td>\n",
       "      <td>False</td>\n",
       "      <td>False</td>\n",
       "      <td>False</td>\n",
       "      <td>False</td>\n",
       "      <td>False</td>\n",
       "      <td>False</td>\n",
       "      <td>False</td>\n",
       "      <td>False</td>\n",
       "      <td>False</td>\n",
       "      <td>False</td>\n",
       "    </tr>\n",
       "    <tr>\n",
       "      <th>65433</th>\n",
       "      <td>65434</td>\n",
       "      <td>I am a developer by profession</td>\n",
       "      <td>25-34 years old</td>\n",
       "      <td>Employed, full-time</td>\n",
       "      <td>Remote</td>\n",
       "      <td>Apples</td>\n",
       "      <td>Hobby;Contribute to open-source projects</td>\n",
       "      <td>NaN</td>\n",
       "      <td>NaN</td>\n",
       "      <td>NaN</td>\n",
       "      <td>...</td>\n",
       "      <td>False</td>\n",
       "      <td>False</td>\n",
       "      <td>False</td>\n",
       "      <td>False</td>\n",
       "      <td>False</td>\n",
       "      <td>False</td>\n",
       "      <td>False</td>\n",
       "      <td>False</td>\n",
       "      <td>False</td>\n",
       "      <td>False</td>\n",
       "    </tr>\n",
       "    <tr>\n",
       "      <th>65434</th>\n",
       "      <td>65435</td>\n",
       "      <td>I am a developer by profession</td>\n",
       "      <td>25-34 years old</td>\n",
       "      <td>Employed, full-time</td>\n",
       "      <td>In-person</td>\n",
       "      <td>Apples</td>\n",
       "      <td>Hobby</td>\n",
       "      <td>Bachelor’s degree (B.A., B.S., B.Eng., etc.)</td>\n",
       "      <td>Other online resources (e.g., videos, blogs, f...</td>\n",
       "      <td>Technical documentation;Stack Overflow;Social ...</td>\n",
       "      <td>...</td>\n",
       "      <td>False</td>\n",
       "      <td>False</td>\n",
       "      <td>False</td>\n",
       "      <td>False</td>\n",
       "      <td>False</td>\n",
       "      <td>False</td>\n",
       "      <td>False</td>\n",
       "      <td>False</td>\n",
       "      <td>False</td>\n",
       "      <td>False</td>\n",
       "    </tr>\n",
       "    <tr>\n",
       "      <th>65435</th>\n",
       "      <td>65436</td>\n",
       "      <td>I am a developer by profession</td>\n",
       "      <td>18-24 years old</td>\n",
       "      <td>Employed, full-time</td>\n",
       "      <td>Hybrid (some remote, some in-person)</td>\n",
       "      <td>Apples</td>\n",
       "      <td>Hobby;Contribute to open-source projects;Profe...</td>\n",
       "      <td>Secondary school (e.g. American high school, G...</td>\n",
       "      <td>On the job training;Other online resources (e....</td>\n",
       "      <td>Technical documentation;Blogs;Written Tutorial...</td>\n",
       "      <td>...</td>\n",
       "      <td>False</td>\n",
       "      <td>True</td>\n",
       "      <td>False</td>\n",
       "      <td>False</td>\n",
       "      <td>False</td>\n",
       "      <td>False</td>\n",
       "      <td>False</td>\n",
       "      <td>False</td>\n",
       "      <td>False</td>\n",
       "      <td>False</td>\n",
       "    </tr>\n",
       "    <tr>\n",
       "      <th>65436</th>\n",
       "      <td>65437</td>\n",
       "      <td>I code primarily as a hobby</td>\n",
       "      <td>18-24 years old</td>\n",
       "      <td>Student, full-time</td>\n",
       "      <td>NaN</td>\n",
       "      <td>Apples</td>\n",
       "      <td>NaN</td>\n",
       "      <td>NaN</td>\n",
       "      <td>NaN</td>\n",
       "      <td>NaN</td>\n",
       "      <td>...</td>\n",
       "      <td>False</td>\n",
       "      <td>True</td>\n",
       "      <td>False</td>\n",
       "      <td>False</td>\n",
       "      <td>False</td>\n",
       "      <td>False</td>\n",
       "      <td>False</td>\n",
       "      <td>False</td>\n",
       "      <td>False</td>\n",
       "      <td>False</td>\n",
       "    </tr>\n",
       "  </tbody>\n",
       "</table>\n",
       "<p>65437 rows × 163 columns</p>\n",
       "</div>"
      ],
      "text/plain": [
       "       ResponseId                      MainBranch                 Age  \\\n",
       "0               1  I am a developer by profession  Under 18 years old   \n",
       "1               2  I am a developer by profession     35-44 years old   \n",
       "2               3  I am a developer by profession     45-54 years old   \n",
       "3               4           I am learning to code     18-24 years old   \n",
       "4               5  I am a developer by profession     18-24 years old   \n",
       "...           ...                             ...                 ...   \n",
       "65432       65433  I am a developer by profession     18-24 years old   \n",
       "65433       65434  I am a developer by profession     25-34 years old   \n",
       "65434       65435  I am a developer by profession     25-34 years old   \n",
       "65435       65436  I am a developer by profession     18-24 years old   \n",
       "65436       65437     I code primarily as a hobby     18-24 years old   \n",
       "\n",
       "                Employment                            RemoteWork   Check  \\\n",
       "0      Employed, full-time                                Remote  Apples   \n",
       "1      Employed, full-time                                Remote  Apples   \n",
       "2      Employed, full-time                                Remote  Apples   \n",
       "3       Student, full-time                                   NaN  Apples   \n",
       "4       Student, full-time                                   NaN  Apples   \n",
       "...                    ...                                   ...     ...   \n",
       "65432  Employed, full-time                                Remote  Apples   \n",
       "65433  Employed, full-time                                Remote  Apples   \n",
       "65434  Employed, full-time                             In-person  Apples   \n",
       "65435  Employed, full-time  Hybrid (some remote, some in-person)  Apples   \n",
       "65436   Student, full-time                                   NaN  Apples   \n",
       "\n",
       "                                        CodingActivities  \\\n",
       "0                                                  Hobby   \n",
       "1      Hobby;Contribute to open-source projects;Other...   \n",
       "2      Hobby;Contribute to open-source projects;Other...   \n",
       "3                                                    NaN   \n",
       "4                                                    NaN   \n",
       "...                                                  ...   \n",
       "65432                      Hobby;School or academic work   \n",
       "65433           Hobby;Contribute to open-source projects   \n",
       "65434                                              Hobby   \n",
       "65435  Hobby;Contribute to open-source projects;Profe...   \n",
       "65436                                                NaN   \n",
       "\n",
       "                                                 EdLevel  \\\n",
       "0                              Primary/elementary school   \n",
       "1           Bachelor’s degree (B.A., B.S., B.Eng., etc.)   \n",
       "2        Master’s degree (M.A., M.S., M.Eng., MBA, etc.)   \n",
       "3      Some college/university study without earning ...   \n",
       "4      Secondary school (e.g. American high school, G...   \n",
       "...                                                  ...   \n",
       "65432       Bachelor’s degree (B.A., B.S., B.Eng., etc.)   \n",
       "65433                                                NaN   \n",
       "65434       Bachelor’s degree (B.A., B.S., B.Eng., etc.)   \n",
       "65435  Secondary school (e.g. American high school, G...   \n",
       "65436                                                NaN   \n",
       "\n",
       "                                               LearnCode  \\\n",
       "0                                 Books / Physical media   \n",
       "1      Books / Physical media;Colleague;On the job tr...   \n",
       "2      Books / Physical media;Colleague;On the job tr...   \n",
       "3      Other online resources (e.g., videos, blogs, f...   \n",
       "4      Other online resources (e.g., videos, blogs, f...   \n",
       "...                                                  ...   \n",
       "65432  On the job training;School (i.e., University, ...   \n",
       "65433                                                NaN   \n",
       "65434  Other online resources (e.g., videos, blogs, f...   \n",
       "65435  On the job training;Other online resources (e....   \n",
       "65436                                                NaN   \n",
       "\n",
       "                                         LearnCodeOnline  ...  \\\n",
       "0                                                    NaN  ...   \n",
       "1      Technical documentation;Blogs;Books;Written Tu...  ...   \n",
       "2      Technical documentation;Blogs;Books;Written Tu...  ...   \n",
       "3      Stack Overflow;How-to videos;Interactive tutorial  ...   \n",
       "4      Technical documentation;Blogs;Written Tutorial...  ...   \n",
       "...                                                  ...  ...   \n",
       "65432                                                NaN  ...   \n",
       "65433                                                NaN  ...   \n",
       "65434  Technical documentation;Stack Overflow;Social ...  ...   \n",
       "65435  Technical documentation;Blogs;Written Tutorial...  ...   \n",
       "65436                                                NaN  ...   \n",
       "\n",
       "      LanguageHaveWorkedWith_GDScript LanguageHaveWorkedWith_Python  \\\n",
       "0                               False                         False   \n",
       "1                               False                          True   \n",
       "2                               False                         False   \n",
       "3                               False                          True   \n",
       "4                               False                          True   \n",
       "...                               ...                           ...   \n",
       "65432                           False                         False   \n",
       "65433                           False                         False   \n",
       "65434                           False                         False   \n",
       "65435                           False                          True   \n",
       "65436                           False                          True   \n",
       "\n",
       "      LanguageHaveWorkedWith_Elixir LanguageHaveWorkedWith_Lisp  \\\n",
       "0                             False                       False   \n",
       "1                             False                       False   \n",
       "2                             False                       False   \n",
       "3                             False                       False   \n",
       "4                             False                       False   \n",
       "...                             ...                         ...   \n",
       "65432                         False                       False   \n",
       "65433                         False                       False   \n",
       "65434                         False                       False   \n",
       "65435                         False                       False   \n",
       "65436                         False                       False   \n",
       "\n",
       "      LanguageHaveWorkedWith_Solidity LanguageHaveWorkedWith_Haskell  \\\n",
       "0                               False                          False   \n",
       "1                               False                          False   \n",
       "2                               False                          False   \n",
       "3                               False                          False   \n",
       "4                               False                          False   \n",
       "...                               ...                            ...   \n",
       "65432                           False                          False   \n",
       "65433                           False                          False   \n",
       "65434                           False                          False   \n",
       "65435                           False                          False   \n",
       "65436                           False                          False   \n",
       "\n",
       "      LanguageHaveWorkedWith_Assembly LanguageHaveWorkedWith_Zig  \\\n",
       "0                               False                      False   \n",
       "1                               False                      False   \n",
       "2                               False                      False   \n",
       "3                               False                      False   \n",
       "4                               False                      False   \n",
       "...                               ...                        ...   \n",
       "65432                           False                      False   \n",
       "65433                           False                      False   \n",
       "65434                           False                      False   \n",
       "65435                           False                      False   \n",
       "65436                           False                      False   \n",
       "\n",
       "      LanguageHaveWorkedWith_Fortran LanguageHaveWorkedWith_Perl  \n",
       "0                              False                       False  \n",
       "1                              False                       False  \n",
       "2                              False                       False  \n",
       "3                              False                       False  \n",
       "4                              False                       False  \n",
       "...                              ...                         ...  \n",
       "65432                          False                       False  \n",
       "65433                          False                       False  \n",
       "65434                          False                       False  \n",
       "65435                          False                       False  \n",
       "65436                          False                       False  \n",
       "\n",
       "[65437 rows x 163 columns]"
      ]
     },
     "execution_count": 64,
     "metadata": {},
     "output_type": "execute_result"
    }
   ],
   "source": [
    "expand_column1(survey, \"LanguageHaveWorkedWith\")"
   ]
  },
  {
   "cell_type": "code",
   "execution_count": 65,
   "metadata": {},
   "outputs": [
    {
     "name": "stdout",
     "output_type": "stream",
     "text": [
      "JobSat\n",
      "8.0     7509\n",
      "7.0     6379\n",
      "6.0     3751\n",
      "9.0     3626\n",
      "10.0    2251\n",
      "5.0     1956\n",
      "3.0     1165\n",
      "4.0     1130\n",
      "2.0      772\n",
      "0.0      311\n",
      "1.0      276\n",
      "Name: count, dtype: int64\n"
     ]
    }
   ],
   "source": [
    "#9.2 What values does the column JobSat have?\n",
    "#checking value counts\n",
    "\n",
    "jobsat_counts= survey['JobSat'].value_counts()\n",
    "print(jobsat_counts)\n"
   ]
  },
  {
   "cell_type": "code",
   "execution_count": 66,
   "metadata": {},
   "outputs": [
    {
     "name": "stdout",
     "output_type": "stream",
     "text": [
      "[nan  8.  5. 10.  6.  9.  4.  7.  3.  2.  1.  0.]\n"
     ]
    }
   ],
   "source": [
    "#it is also possibel to retrieve the values with the function unique\n",
    "# Retrieving unique values\n",
    "unique_values = survey['JobSat'].unique()\n",
    "\n",
    "# Display the result\n",
    "print(unique_values)"
   ]
  },
  {
   "cell_type": "code",
   "execution_count": 67,
   "metadata": {},
   "outputs": [
    {
     "name": "stdout",
     "output_type": "stream",
     "text": [
      "the values range between 0.0 and 10.0\n"
     ]
    }
   ],
   "source": [
    "#9.3 Map the values of the column JobSat to numerical values from 1 to 5 (with 5 being the highest job satisfaction).\n",
    "print(\"the values range between\", survey['JobSat'].min(), \"and\", survey['JobSat'].max())"
   ]
  },
  {
   "cell_type": "code",
   "execution_count": 68,
   "metadata": {},
   "outputs": [
    {
     "name": "stdout",
     "output_type": "stream",
     "text": [
      "0       NaN\n",
      "1       NaN\n",
      "2       NaN\n",
      "3       NaN\n",
      "4       NaN\n",
      "         ..\n",
      "65432   NaN\n",
      "65433   NaN\n",
      "65434   NaN\n",
      "65435   NaN\n",
      "65436   NaN\n",
      "Name: JobSat, Length: 65437, dtype: float64\n"
     ]
    }
   ],
   "source": [
    "#9.3 Map the values of the column JobSat to numerical values from 1 to 5 (with 5 being the highest job satisfaction).\n",
    "satisfaction = survey['JobSat'].apply(\n",
    "    lambda x: 5 if x >= 9 else \n",
    "              (4 if 7 <= x < 9 else \n",
    "               (3 if 5 <= x < 7 else \n",
    "                (2 if 3 <= x < 5 else \n",
    "                 1)))  if pd.notna(x) else None\n",
    ")\n",
    "print(satisfaction)"
   ]
  },
  {
   "cell_type": "code",
   "execution_count": 69,
   "metadata": {},
   "outputs": [],
   "source": [
    "def sat_score(string):\n",
    "    # Defining the score for the string through a dictionary\n",
    "    rating = {\n",
    "        \"Very Low\": 1,\n",
    "        \"Low\": 2,\n",
    "        \"Neutral\": 3,\n",
    "        \"High\": 4,\n",
    "        \"Very High\": 5\n",
    "    }\n",
    "    \n",
    "    # Use .get() to safely get the corresponding score\n",
    "    score = rating.get(string, None)\n",
    "    \n",
    "    if score is None:\n",
    "        print(\"This is not a valid string. Please, enter one of the following options: Very Low, Low, Neutral, High or Very High\")\n",
    "        return None  # Return None if the string is invalid\n",
    "    \n",
    "    # If the string is valid, print the corresponding score\n",
    "    print(f\"The score for '{string}' is {score}.\")\n",
    "    return score  # Return the score"
   ]
  },
  {
   "cell_type": "code",
   "execution_count": 70,
   "metadata": {},
   "outputs": [
    {
     "name": "stdout",
     "output_type": "stream",
     "text": [
      "The score for 'Neutral' is 3.\n",
      "3\n"
     ]
    }
   ],
   "source": [
    "print(sat_score(\"Neutral\"))\n"
   ]
  },
  {
   "cell_type": "code",
   "execution_count": 71,
   "metadata": {},
   "outputs": [
    {
     "name": "stdout",
     "output_type": "stream",
     "text": [
      "This is not a valid string. Please, enter one of the following options: Very Low, Low, Neutral, High or Very High\n",
      "None\n"
     ]
    }
   ],
   "source": [
    "print(sat_score(\"Excellent\"))"
   ]
  },
  {
   "cell_type": "code",
   "execution_count": 72,
   "metadata": {},
   "outputs": [
    {
     "name": "stdout",
     "output_type": "stream",
     "text": [
      "0       NaN\n",
      "1       NaN\n",
      "2       NaN\n",
      "3       NaN\n",
      "4       NaN\n",
      "         ..\n",
      "65432   NaN\n",
      "65433   NaN\n",
      "65434   NaN\n",
      "65435   NaN\n",
      "65436   NaN\n",
      "Name: JobSat_scaled, Length: 65437, dtype: float64\n"
     ]
    }
   ],
   "source": [
    "#9.3.2 Create a new column JobSatNum in the dataframe, which contains the numerical job satisfaction value. \n",
    "# Hint: df['JobSatNum'] = df['JobSat'].map(<your mapping function>)\n",
    "\n",
    "survey['JobSat_scaled'] = survey['JobSat'].map(\n",
    "    lambda x: 5 if x >= 9 else \n",
    "              (4 if 7 <= x < 9 else \n",
    "               (3 if 5 <= x < 7 else \n",
    "                (2 if 3 <= x < 5 else \n",
    "                 1)))  if pd.notna(x) else None\n",
    ")\n",
    "\n",
    "print(survey['JobSat_scaled'])\n"
   ]
  },
  {
   "cell_type": "code",
   "execution_count": 73,
   "metadata": {},
   "outputs": [
    {
     "name": "stdout",
     "output_type": "stream",
     "text": [
      "JobSat_scaled\n",
      "4.0    13888\n",
      "5.0     5877\n",
      "3.0     5707\n",
      "2.0     2295\n",
      "1.0     1359\n",
      "Name: count, dtype: int64\n"
     ]
    }
   ],
   "source": [
    "jobsatscaled_counts=survey['JobSat_scaled'].value_counts()\n",
    "print(jobsatscaled_counts)"
   ]
  },
  {
   "cell_type": "code",
   "execution_count": 74,
   "metadata": {},
   "outputs": [
    {
     "data": {
      "application/vnd.plotly.v1+json": {
       "config": {
        "plotlyServerURL": "https://plot.ly"
       },
       "data": [
        {
         "domain": {
          "x": [
           0,
           1
          ],
          "y": [
           0,
           1
          ]
         },
         "hovertemplate": "label=%{label}<br>value=%{value}<extra></extra>",
         "labels": [
          4,
          5,
          3,
          2,
          1
         ],
         "legendgroup": "",
         "name": "",
         "showlegend": true,
         "textinfo": "value",
         "type": "pie",
         "values": [
          13888,
          5877,
          5707,
          2295,
          1359
         ]
        }
       ],
       "layout": {
        "legend": {
         "tracegroupgap": 0
        },
        "template": {
         "data": {
          "bar": [
           {
            "error_x": {
             "color": "#2a3f5f"
            },
            "error_y": {
             "color": "#2a3f5f"
            },
            "marker": {
             "line": {
              "color": "#E5ECF6",
              "width": 0.5
             },
             "pattern": {
              "fillmode": "overlay",
              "size": 10,
              "solidity": 0.2
             }
            },
            "type": "bar"
           }
          ],
          "barpolar": [
           {
            "marker": {
             "line": {
              "color": "#E5ECF6",
              "width": 0.5
             },
             "pattern": {
              "fillmode": "overlay",
              "size": 10,
              "solidity": 0.2
             }
            },
            "type": "barpolar"
           }
          ],
          "carpet": [
           {
            "aaxis": {
             "endlinecolor": "#2a3f5f",
             "gridcolor": "white",
             "linecolor": "white",
             "minorgridcolor": "white",
             "startlinecolor": "#2a3f5f"
            },
            "baxis": {
             "endlinecolor": "#2a3f5f",
             "gridcolor": "white",
             "linecolor": "white",
             "minorgridcolor": "white",
             "startlinecolor": "#2a3f5f"
            },
            "type": "carpet"
           }
          ],
          "choropleth": [
           {
            "colorbar": {
             "outlinewidth": 0,
             "ticks": ""
            },
            "type": "choropleth"
           }
          ],
          "contour": [
           {
            "colorbar": {
             "outlinewidth": 0,
             "ticks": ""
            },
            "colorscale": [
             [
              0,
              "#0d0887"
             ],
             [
              0.1111111111111111,
              "#46039f"
             ],
             [
              0.2222222222222222,
              "#7201a8"
             ],
             [
              0.3333333333333333,
              "#9c179e"
             ],
             [
              0.4444444444444444,
              "#bd3786"
             ],
             [
              0.5555555555555556,
              "#d8576b"
             ],
             [
              0.6666666666666666,
              "#ed7953"
             ],
             [
              0.7777777777777778,
              "#fb9f3a"
             ],
             [
              0.8888888888888888,
              "#fdca26"
             ],
             [
              1,
              "#f0f921"
             ]
            ],
            "type": "contour"
           }
          ],
          "contourcarpet": [
           {
            "colorbar": {
             "outlinewidth": 0,
             "ticks": ""
            },
            "type": "contourcarpet"
           }
          ],
          "heatmap": [
           {
            "colorbar": {
             "outlinewidth": 0,
             "ticks": ""
            },
            "colorscale": [
             [
              0,
              "#0d0887"
             ],
             [
              0.1111111111111111,
              "#46039f"
             ],
             [
              0.2222222222222222,
              "#7201a8"
             ],
             [
              0.3333333333333333,
              "#9c179e"
             ],
             [
              0.4444444444444444,
              "#bd3786"
             ],
             [
              0.5555555555555556,
              "#d8576b"
             ],
             [
              0.6666666666666666,
              "#ed7953"
             ],
             [
              0.7777777777777778,
              "#fb9f3a"
             ],
             [
              0.8888888888888888,
              "#fdca26"
             ],
             [
              1,
              "#f0f921"
             ]
            ],
            "type": "heatmap"
           }
          ],
          "heatmapgl": [
           {
            "colorbar": {
             "outlinewidth": 0,
             "ticks": ""
            },
            "colorscale": [
             [
              0,
              "#0d0887"
             ],
             [
              0.1111111111111111,
              "#46039f"
             ],
             [
              0.2222222222222222,
              "#7201a8"
             ],
             [
              0.3333333333333333,
              "#9c179e"
             ],
             [
              0.4444444444444444,
              "#bd3786"
             ],
             [
              0.5555555555555556,
              "#d8576b"
             ],
             [
              0.6666666666666666,
              "#ed7953"
             ],
             [
              0.7777777777777778,
              "#fb9f3a"
             ],
             [
              0.8888888888888888,
              "#fdca26"
             ],
             [
              1,
              "#f0f921"
             ]
            ],
            "type": "heatmapgl"
           }
          ],
          "histogram": [
           {
            "marker": {
             "pattern": {
              "fillmode": "overlay",
              "size": 10,
              "solidity": 0.2
             }
            },
            "type": "histogram"
           }
          ],
          "histogram2d": [
           {
            "colorbar": {
             "outlinewidth": 0,
             "ticks": ""
            },
            "colorscale": [
             [
              0,
              "#0d0887"
             ],
             [
              0.1111111111111111,
              "#46039f"
             ],
             [
              0.2222222222222222,
              "#7201a8"
             ],
             [
              0.3333333333333333,
              "#9c179e"
             ],
             [
              0.4444444444444444,
              "#bd3786"
             ],
             [
              0.5555555555555556,
              "#d8576b"
             ],
             [
              0.6666666666666666,
              "#ed7953"
             ],
             [
              0.7777777777777778,
              "#fb9f3a"
             ],
             [
              0.8888888888888888,
              "#fdca26"
             ],
             [
              1,
              "#f0f921"
             ]
            ],
            "type": "histogram2d"
           }
          ],
          "histogram2dcontour": [
           {
            "colorbar": {
             "outlinewidth": 0,
             "ticks": ""
            },
            "colorscale": [
             [
              0,
              "#0d0887"
             ],
             [
              0.1111111111111111,
              "#46039f"
             ],
             [
              0.2222222222222222,
              "#7201a8"
             ],
             [
              0.3333333333333333,
              "#9c179e"
             ],
             [
              0.4444444444444444,
              "#bd3786"
             ],
             [
              0.5555555555555556,
              "#d8576b"
             ],
             [
              0.6666666666666666,
              "#ed7953"
             ],
             [
              0.7777777777777778,
              "#fb9f3a"
             ],
             [
              0.8888888888888888,
              "#fdca26"
             ],
             [
              1,
              "#f0f921"
             ]
            ],
            "type": "histogram2dcontour"
           }
          ],
          "mesh3d": [
           {
            "colorbar": {
             "outlinewidth": 0,
             "ticks": ""
            },
            "type": "mesh3d"
           }
          ],
          "parcoords": [
           {
            "line": {
             "colorbar": {
              "outlinewidth": 0,
              "ticks": ""
             }
            },
            "type": "parcoords"
           }
          ],
          "pie": [
           {
            "automargin": true,
            "type": "pie"
           }
          ],
          "scatter": [
           {
            "fillpattern": {
             "fillmode": "overlay",
             "size": 10,
             "solidity": 0.2
            },
            "type": "scatter"
           }
          ],
          "scatter3d": [
           {
            "line": {
             "colorbar": {
              "outlinewidth": 0,
              "ticks": ""
             }
            },
            "marker": {
             "colorbar": {
              "outlinewidth": 0,
              "ticks": ""
             }
            },
            "type": "scatter3d"
           }
          ],
          "scattercarpet": [
           {
            "marker": {
             "colorbar": {
              "outlinewidth": 0,
              "ticks": ""
             }
            },
            "type": "scattercarpet"
           }
          ],
          "scattergeo": [
           {
            "marker": {
             "colorbar": {
              "outlinewidth": 0,
              "ticks": ""
             }
            },
            "type": "scattergeo"
           }
          ],
          "scattergl": [
           {
            "marker": {
             "colorbar": {
              "outlinewidth": 0,
              "ticks": ""
             }
            },
            "type": "scattergl"
           }
          ],
          "scattermapbox": [
           {
            "marker": {
             "colorbar": {
              "outlinewidth": 0,
              "ticks": ""
             }
            },
            "type": "scattermapbox"
           }
          ],
          "scatterpolar": [
           {
            "marker": {
             "colorbar": {
              "outlinewidth": 0,
              "ticks": ""
             }
            },
            "type": "scatterpolar"
           }
          ],
          "scatterpolargl": [
           {
            "marker": {
             "colorbar": {
              "outlinewidth": 0,
              "ticks": ""
             }
            },
            "type": "scatterpolargl"
           }
          ],
          "scatterternary": [
           {
            "marker": {
             "colorbar": {
              "outlinewidth": 0,
              "ticks": ""
             }
            },
            "type": "scatterternary"
           }
          ],
          "surface": [
           {
            "colorbar": {
             "outlinewidth": 0,
             "ticks": ""
            },
            "colorscale": [
             [
              0,
              "#0d0887"
             ],
             [
              0.1111111111111111,
              "#46039f"
             ],
             [
              0.2222222222222222,
              "#7201a8"
             ],
             [
              0.3333333333333333,
              "#9c179e"
             ],
             [
              0.4444444444444444,
              "#bd3786"
             ],
             [
              0.5555555555555556,
              "#d8576b"
             ],
             [
              0.6666666666666666,
              "#ed7953"
             ],
             [
              0.7777777777777778,
              "#fb9f3a"
             ],
             [
              0.8888888888888888,
              "#fdca26"
             ],
             [
              1,
              "#f0f921"
             ]
            ],
            "type": "surface"
           }
          ],
          "table": [
           {
            "cells": {
             "fill": {
              "color": "#EBF0F8"
             },
             "line": {
              "color": "white"
             }
            },
            "header": {
             "fill": {
              "color": "#C8D4E3"
             },
             "line": {
              "color": "white"
             }
            },
            "type": "table"
           }
          ]
         },
         "layout": {
          "annotationdefaults": {
           "arrowcolor": "#2a3f5f",
           "arrowhead": 0,
           "arrowwidth": 1
          },
          "autotypenumbers": "strict",
          "coloraxis": {
           "colorbar": {
            "outlinewidth": 0,
            "ticks": ""
           }
          },
          "colorscale": {
           "diverging": [
            [
             0,
             "#8e0152"
            ],
            [
             0.1,
             "#c51b7d"
            ],
            [
             0.2,
             "#de77ae"
            ],
            [
             0.3,
             "#f1b6da"
            ],
            [
             0.4,
             "#fde0ef"
            ],
            [
             0.5,
             "#f7f7f7"
            ],
            [
             0.6,
             "#e6f5d0"
            ],
            [
             0.7,
             "#b8e186"
            ],
            [
             0.8,
             "#7fbc41"
            ],
            [
             0.9,
             "#4d9221"
            ],
            [
             1,
             "#276419"
            ]
           ],
           "sequential": [
            [
             0,
             "#0d0887"
            ],
            [
             0.1111111111111111,
             "#46039f"
            ],
            [
             0.2222222222222222,
             "#7201a8"
            ],
            [
             0.3333333333333333,
             "#9c179e"
            ],
            [
             0.4444444444444444,
             "#bd3786"
            ],
            [
             0.5555555555555556,
             "#d8576b"
            ],
            [
             0.6666666666666666,
             "#ed7953"
            ],
            [
             0.7777777777777778,
             "#fb9f3a"
            ],
            [
             0.8888888888888888,
             "#fdca26"
            ],
            [
             1,
             "#f0f921"
            ]
           ],
           "sequentialminus": [
            [
             0,
             "#0d0887"
            ],
            [
             0.1111111111111111,
             "#46039f"
            ],
            [
             0.2222222222222222,
             "#7201a8"
            ],
            [
             0.3333333333333333,
             "#9c179e"
            ],
            [
             0.4444444444444444,
             "#bd3786"
            ],
            [
             0.5555555555555556,
             "#d8576b"
            ],
            [
             0.6666666666666666,
             "#ed7953"
            ],
            [
             0.7777777777777778,
             "#fb9f3a"
            ],
            [
             0.8888888888888888,
             "#fdca26"
            ],
            [
             1,
             "#f0f921"
            ]
           ]
          },
          "colorway": [
           "#636efa",
           "#EF553B",
           "#00cc96",
           "#ab63fa",
           "#FFA15A",
           "#19d3f3",
           "#FF6692",
           "#B6E880",
           "#FF97FF",
           "#FECB52"
          ],
          "font": {
           "color": "#2a3f5f"
          },
          "geo": {
           "bgcolor": "white",
           "lakecolor": "white",
           "landcolor": "#E5ECF6",
           "showlakes": true,
           "showland": true,
           "subunitcolor": "white"
          },
          "hoverlabel": {
           "align": "left"
          },
          "hovermode": "closest",
          "mapbox": {
           "style": "light"
          },
          "paper_bgcolor": "white",
          "plot_bgcolor": "#E5ECF6",
          "polar": {
           "angularaxis": {
            "gridcolor": "white",
            "linecolor": "white",
            "ticks": ""
           },
           "bgcolor": "#E5ECF6",
           "radialaxis": {
            "gridcolor": "white",
            "linecolor": "white",
            "ticks": ""
           }
          },
          "scene": {
           "xaxis": {
            "backgroundcolor": "#E5ECF6",
            "gridcolor": "white",
            "gridwidth": 2,
            "linecolor": "white",
            "showbackground": true,
            "ticks": "",
            "zerolinecolor": "white"
           },
           "yaxis": {
            "backgroundcolor": "#E5ECF6",
            "gridcolor": "white",
            "gridwidth": 2,
            "linecolor": "white",
            "showbackground": true,
            "ticks": "",
            "zerolinecolor": "white"
           },
           "zaxis": {
            "backgroundcolor": "#E5ECF6",
            "gridcolor": "white",
            "gridwidth": 2,
            "linecolor": "white",
            "showbackground": true,
            "ticks": "",
            "zerolinecolor": "white"
           }
          },
          "shapedefaults": {
           "line": {
            "color": "#2a3f5f"
           }
          },
          "ternary": {
           "aaxis": {
            "gridcolor": "white",
            "linecolor": "white",
            "ticks": ""
           },
           "baxis": {
            "gridcolor": "white",
            "linecolor": "white",
            "ticks": ""
           },
           "bgcolor": "#E5ECF6",
           "caxis": {
            "gridcolor": "white",
            "linecolor": "white",
            "ticks": ""
           }
          },
          "title": {
           "x": 0.05
          },
          "xaxis": {
           "automargin": true,
           "gridcolor": "white",
           "linecolor": "white",
           "ticks": "",
           "title": {
            "standoff": 15
           },
           "zerolinecolor": "white",
           "zerolinewidth": 2
          },
          "yaxis": {
           "automargin": true,
           "gridcolor": "white",
           "linecolor": "white",
           "ticks": "",
           "title": {
            "standoff": 15
           },
           "zerolinecolor": "white",
           "zerolinewidth": 2
          }
         }
        },
        "title": {
         "text": "Distribution of Job Satisfaction"
        }
       }
      }
     },
     "metadata": {},
     "output_type": "display_data"
    }
   ],
   "source": [
    "fig_pie = px.pie(\n",
    "    names=jobsatscaled_counts.index,  # Categories from the index of the value_counts\n",
    "    values=jobsatscaled_counts.values,  # Values from the value_counts\n",
    "    title='Distribution of Job Satisfaction',\n",
    "    labels={'value': 'Job Satisfaction Level', 'count': 'Count'},\n",
    "    \n",
    ")\n",
    "\n",
    "fig_pie.update_traces(textinfo='value')\n",
    "# Show the pie chart\n",
    "fig_pie.show()"
   ]
  },
  {
   "cell_type": "markdown",
   "metadata": {},
   "source": [
    "9.4 Print the mean numerical job satisfaction for each programming language. Hint: Loop through the column names of the programming language columns you created in 9.1. For each programming language, filter the dataframe, to only contain the rows where the programming language column has the value True. From the filtered dataframe, select the column containing the numerical job satisfaction value and compute the mean (pandas Series have a method mean)."
   ]
  },
  {
   "cell_type": "code",
   "execution_count": 75,
   "metadata": {},
   "outputs": [
    {
     "name": "stdout",
     "output_type": "stream",
     "text": [
      "       ResponseId                      MainBranch                 Age  \\\n",
      "0               1  I am a developer by profession  Under 18 years old   \n",
      "1               2  I am a developer by profession     35-44 years old   \n",
      "2               3  I am a developer by profession     45-54 years old   \n",
      "3               4           I am learning to code     18-24 years old   \n",
      "4               5  I am a developer by profession     18-24 years old   \n",
      "...           ...                             ...                 ...   \n",
      "65432       65433  I am a developer by profession     18-24 years old   \n",
      "65433       65434  I am a developer by profession     25-34 years old   \n",
      "65434       65435  I am a developer by profession     25-34 years old   \n",
      "65435       65436  I am a developer by profession     18-24 years old   \n",
      "65436       65437     I code primarily as a hobby     18-24 years old   \n",
      "\n",
      "                Employment                            RemoteWork   Check  \\\n",
      "0      Employed, full-time                                Remote  Apples   \n",
      "1      Employed, full-time                                Remote  Apples   \n",
      "2      Employed, full-time                                Remote  Apples   \n",
      "3       Student, full-time                                   NaN  Apples   \n",
      "4       Student, full-time                                   NaN  Apples   \n",
      "...                    ...                                   ...     ...   \n",
      "65432  Employed, full-time                                Remote  Apples   \n",
      "65433  Employed, full-time                                Remote  Apples   \n",
      "65434  Employed, full-time                             In-person  Apples   \n",
      "65435  Employed, full-time  Hybrid (some remote, some in-person)  Apples   \n",
      "65436   Student, full-time                                   NaN  Apples   \n",
      "\n",
      "                                        CodingActivities  \\\n",
      "0                                                  Hobby   \n",
      "1      Hobby;Contribute to open-source projects;Other...   \n",
      "2      Hobby;Contribute to open-source projects;Other...   \n",
      "3                                                    NaN   \n",
      "4                                                    NaN   \n",
      "...                                                  ...   \n",
      "65432                      Hobby;School or academic work   \n",
      "65433           Hobby;Contribute to open-source projects   \n",
      "65434                                              Hobby   \n",
      "65435  Hobby;Contribute to open-source projects;Profe...   \n",
      "65436                                                NaN   \n",
      "\n",
      "                                                 EdLevel  \\\n",
      "0                              Primary/elementary school   \n",
      "1           Bachelor’s degree (B.A., B.S., B.Eng., etc.)   \n",
      "2        Master’s degree (M.A., M.S., M.Eng., MBA, etc.)   \n",
      "3      Some college/university study without earning ...   \n",
      "4      Secondary school (e.g. American high school, G...   \n",
      "...                                                  ...   \n",
      "65432       Bachelor’s degree (B.A., B.S., B.Eng., etc.)   \n",
      "65433                                                NaN   \n",
      "65434       Bachelor’s degree (B.A., B.S., B.Eng., etc.)   \n",
      "65435  Secondary school (e.g. American high school, G...   \n",
      "65436                                                NaN   \n",
      "\n",
      "                                               LearnCode  \\\n",
      "0                                 Books / Physical media   \n",
      "1      Books / Physical media;Colleague;On the job tr...   \n",
      "2      Books / Physical media;Colleague;On the job tr...   \n",
      "3      Other online resources (e.g., videos, blogs, f...   \n",
      "4      Other online resources (e.g., videos, blogs, f...   \n",
      "...                                                  ...   \n",
      "65432  On the job training;School (i.e., University, ...   \n",
      "65433                                                NaN   \n",
      "65434  Other online resources (e.g., videos, blogs, f...   \n",
      "65435  On the job training;Other online resources (e....   \n",
      "65436                                                NaN   \n",
      "\n",
      "                                         LearnCodeOnline  ...  \\\n",
      "0                                                    NaN  ...   \n",
      "1      Technical documentation;Blogs;Books;Written Tu...  ...   \n",
      "2      Technical documentation;Blogs;Books;Written Tu...  ...   \n",
      "3      Stack Overflow;How-to videos;Interactive tutorial  ...   \n",
      "4      Technical documentation;Blogs;Written Tutorial...  ...   \n",
      "...                                                  ...  ...   \n",
      "65432                                                NaN  ...   \n",
      "65433                                                NaN  ...   \n",
      "65434  Technical documentation;Stack Overflow;Social ...  ...   \n",
      "65435  Technical documentation;Blogs;Written Tutorial...  ...   \n",
      "65436                                                NaN  ...   \n",
      "\n",
      "      LanguageHaveWorkedWith_GDScript LanguageHaveWorkedWith_Python  \\\n",
      "0                               False                         False   \n",
      "1                               False                          True   \n",
      "2                               False                         False   \n",
      "3                               False                          True   \n",
      "4                               False                          True   \n",
      "...                               ...                           ...   \n",
      "65432                           False                         False   \n",
      "65433                           False                         False   \n",
      "65434                           False                         False   \n",
      "65435                           False                          True   \n",
      "65436                           False                          True   \n",
      "\n",
      "      LanguageHaveWorkedWith_Elixir LanguageHaveWorkedWith_Lisp  \\\n",
      "0                             False                       False   \n",
      "1                             False                       False   \n",
      "2                             False                       False   \n",
      "3                             False                       False   \n",
      "4                             False                       False   \n",
      "...                             ...                         ...   \n",
      "65432                         False                       False   \n",
      "65433                         False                       False   \n",
      "65434                         False                       False   \n",
      "65435                         False                       False   \n",
      "65436                         False                       False   \n",
      "\n",
      "      LanguageHaveWorkedWith_Solidity LanguageHaveWorkedWith_Haskell  \\\n",
      "0                               False                          False   \n",
      "1                               False                          False   \n",
      "2                               False                          False   \n",
      "3                               False                          False   \n",
      "4                               False                          False   \n",
      "...                               ...                            ...   \n",
      "65432                           False                          False   \n",
      "65433                           False                          False   \n",
      "65434                           False                          False   \n",
      "65435                           False                          False   \n",
      "65436                           False                          False   \n",
      "\n",
      "      LanguageHaveWorkedWith_Assembly LanguageHaveWorkedWith_Zig  \\\n",
      "0                               False                      False   \n",
      "1                               False                      False   \n",
      "2                               False                      False   \n",
      "3                               False                      False   \n",
      "4                               False                      False   \n",
      "...                               ...                        ...   \n",
      "65432                           False                      False   \n",
      "65433                           False                      False   \n",
      "65434                           False                      False   \n",
      "65435                           False                      False   \n",
      "65436                           False                      False   \n",
      "\n",
      "      LanguageHaveWorkedWith_Fortran LanguageHaveWorkedWith_Perl  \n",
      "0                              False                       False  \n",
      "1                              False                       False  \n",
      "2                              False                       False  \n",
      "3                              False                       False  \n",
      "4                              False                       False  \n",
      "...                              ...                         ...  \n",
      "65432                          False                       False  \n",
      "65433                          False                       False  \n",
      "65434                          False                       False  \n",
      "65435                          False                       False  \n",
      "65436                          False                       False  \n",
      "\n",
      "[65437 rows x 164 columns]\n"
     ]
    }
   ],
   "source": [
    "#new df with expanded columns\n",
    "lang_df=expand_column1(survey, \"LanguageHaveWorkedWith\")\n",
    "print(lang_df)"
   ]
  },
  {
   "cell_type": "code",
   "execution_count": 76,
   "metadata": {},
   "outputs": [
    {
     "name": "stdout",
     "output_type": "stream",
     "text": [
      "['LanguageHaveWorkedWith_VBA', 'LanguageHaveWorkedWith_Julia', 'LanguageHaveWorkedWith_Clojure', 'LanguageHaveWorkedWith_Kotlin', 'LanguageHaveWorkedWith_Apex', 'LanguageHaveWorkedWith_R', 'LanguageHaveWorkedWith_JavaScript', 'LanguageHaveWorkedWith_Ada', 'LanguageHaveWorkedWith_Swift', 'LanguageHaveWorkedWith_MATLAB', 'LanguageHaveWorkedWith_PHP', 'LanguageHaveWorkedWith_F#', 'LanguageHaveWorkedWith_Visual Basic (.Net)', 'LanguageHaveWorkedWith_Scala', 'LanguageHaveWorkedWith_Go', 'LanguageHaveWorkedWith_TypeScript', 'LanguageHaveWorkedWith_Erlang', 'LanguageHaveWorkedWith_Delphi', 'LanguageHaveWorkedWith_Cobol', 'LanguageHaveWorkedWith_Ruby', 'LanguageHaveWorkedWith_Zephyr', 'LanguageHaveWorkedWith_Groovy', 'LanguageHaveWorkedWith_Objective-C', 'LanguageHaveWorkedWith_PowerShell', 'LanguageHaveWorkedWith_HTML/CSS', 'LanguageHaveWorkedWith_Lua', 'LanguageHaveWorkedWith_SQL', 'LanguageHaveWorkedWith_Prolog', 'LanguageHaveWorkedWith_C', 'LanguageHaveWorkedWith_C++', 'LanguageHaveWorkedWith_Dart', 'LanguageHaveWorkedWith_MicroPython', 'LanguageHaveWorkedWith_Rust', 'LanguageHaveWorkedWith_Java', 'LanguageHaveWorkedWith_C#', 'LanguageHaveWorkedWith_OCaml', 'LanguageHaveWorkedWith_Bash/Shell (all shells)', 'LanguageHaveWorkedWith_Crystal', 'LanguageHaveWorkedWith_Nim', 'LanguageHaveWorkedWith_GDScript', 'LanguageHaveWorkedWith_Python', 'LanguageHaveWorkedWith_Elixir', 'LanguageHaveWorkedWith_Lisp', 'LanguageHaveWorkedWith_Solidity', 'LanguageHaveWorkedWith_Haskell', 'LanguageHaveWorkedWith_Assembly', 'LanguageHaveWorkedWith_Zig', 'LanguageHaveWorkedWith_Fortran', 'LanguageHaveWorkedWith_Perl']\n"
     ]
    }
   ],
   "source": [
    "#find the programming language columns\n",
    "lang_columns = [col for col in lang_df.columns if col.startswith(\"LanguageHaveWorkedWith_\")]\n",
    "print(lang_columns) #a list with the column names from the lang_df"
   ]
  },
  {
   "cell_type": "code",
   "execution_count": 77,
   "metadata": {},
   "outputs": [
    {
     "name": "stdout",
     "output_type": "stream",
     "text": [
      "Mean Job Satisfaction for Each Programming Language:\n",
      "VBA: 3.642156862745098\n",
      "Julia: 3.667924528301887\n",
      "Clojure: 3.747967479674797\n",
      "Kotlin: 3.7759094028826357\n",
      "Apex: 3.7254098360655736\n",
      "R: 3.6871455576559544\n",
      "JavaScript: 3.7189393939393938\n",
      "Ada: 3.7058823529411766\n",
      "Swift: 3.8092526690391457\n",
      "MATLAB: 3.6351063829787233\n",
      "PHP: 3.7127458396369137\n",
      "F#: 3.8838951310861423\n",
      "Visual Basic (.Net): 3.7031118587047938\n",
      "Scala: 3.764218009478673\n",
      "Go: 3.7337931034482756\n",
      "TypeScript: 3.7526076916951987\n",
      "Erlang: 3.710526315789474\n",
      "Delphi: 3.8090128755364807\n",
      "Cobol: 3.6685082872928176\n",
      "Ruby: 3.7983963344788085\n",
      "Zephyr: 3.7875\n",
      "Groovy: 3.7587681779298547\n",
      "Objective-C: 3.8315467075038283\n",
      "PowerShell: 3.697492163009404\n",
      "HTML/CSS: 3.7097781536659946\n",
      "Lua: 3.661697990926766\n",
      "SQL: 3.7106308991554893\n",
      "Prolog: 3.6149068322981366\n",
      "C: 3.7104183757178015\n",
      "C++: 3.7113100361508007\n",
      "Dart: 3.7474566128067024\n",
      "MicroPython: 3.691011235955056\n",
      "Rust: 3.686681844052362\n",
      "Java: 3.702427295626288\n",
      "C#: 3.728036401820091\n",
      "OCaml: 3.8092105263157894\n",
      "Bash/Shell (all shells): 3.705623654907832\n",
      "Crystal: 3.7358490566037736\n",
      "Nim: 3.5945945945945947\n",
      "GDScript: 3.726923076923077\n",
      "Python: 3.68892154804395\n",
      "Elixir: 3.8068350668647843\n",
      "Lisp: 3.685483870967742\n",
      "Solidity: 3.797427652733119\n",
      "Haskell: 3.748235294117647\n",
      "Assembly: 3.7417391304347825\n",
      "Zig: 3.710204081632653\n",
      "Fortran: 3.68796992481203\n",
      "Perl: 3.718926553672316\n"
     ]
    }
   ],
   "source": [
    "mean_job_satisfaction = {} #create an empty list to save results\n",
    "\n",
    "for lang_col in lang_columns:\n",
    "    # Filter rows where the language column is True\n",
    "    filtered_rows = lang_df[lang_df[lang_col] == True]\n",
    "    \n",
    "    # Compute the mean of the job satisfaction column\n",
    "    mean_satisfaction = filtered_rows['JobSat_scaled'].mean()\n",
    "    \n",
    "    # Extract the programming language name from the column name\n",
    "    lang_name = lang_col.replace(\"LanguageHaveWorkedWith_\", \"\")\n",
    "    \n",
    "    # Store the result in the dictionary\n",
    "    mean_job_satisfaction[lang_name] = mean_satisfaction\n",
    "\n",
    "    # saving resultsto a DataFrame\n",
    "    mean_job_satisfaction_df = pd.DataFrame(\n",
    "    list(mean_job_satisfaction.items()), columns=[\"Programming Language\", \"Mean Job Satisfaction\"]\n",
    "    )\n",
    "\n",
    "# Step 3: Print the results\n",
    "print(\"Mean Job Satisfaction for Each Programming Language:\")\n",
    "for lang_name, mean in mean_job_satisfaction.items():\n",
    "    print(f\"{lang_name}: {mean}\")"
   ]
  },
  {
   "cell_type": "code",
   "execution_count": 78,
   "metadata": {},
   "outputs": [
    {
     "name": "stdout",
     "output_type": "stream",
     "text": [
      "       Programming Language  Mean Job Satisfaction\n",
      "0                       VBA               3.642157\n",
      "1                     Julia               3.667925\n",
      "2                   Clojure               3.747967\n",
      "3                    Kotlin               3.775909\n",
      "4                      Apex               3.725410\n",
      "5                         R               3.687146\n",
      "6                JavaScript               3.718939\n",
      "7                       Ada               3.705882\n",
      "8                     Swift               3.809253\n",
      "9                    MATLAB               3.635106\n",
      "10                      PHP               3.712746\n",
      "11                       F#               3.883895\n",
      "12      Visual Basic (.Net)               3.703112\n",
      "13                    Scala               3.764218\n",
      "14                       Go               3.733793\n",
      "15               TypeScript               3.752608\n",
      "16                   Erlang               3.710526\n",
      "17                   Delphi               3.809013\n",
      "18                    Cobol               3.668508\n",
      "19                     Ruby               3.798396\n",
      "20                   Zephyr               3.787500\n",
      "21                   Groovy               3.758768\n",
      "22              Objective-C               3.831547\n",
      "23               PowerShell               3.697492\n",
      "24                 HTML/CSS               3.709778\n",
      "25                      Lua               3.661698\n",
      "26                      SQL               3.710631\n",
      "27                   Prolog               3.614907\n",
      "28                        C               3.710418\n",
      "29                      C++               3.711310\n",
      "30                     Dart               3.747457\n",
      "31              MicroPython               3.691011\n",
      "32                     Rust               3.686682\n",
      "33                     Java               3.702427\n",
      "34                       C#               3.728036\n",
      "35                    OCaml               3.809211\n",
      "36  Bash/Shell (all shells)               3.705624\n",
      "37                  Crystal               3.735849\n",
      "38                      Nim               3.594595\n",
      "39                 GDScript               3.726923\n",
      "40                   Python               3.688922\n",
      "41                   Elixir               3.806835\n",
      "42                     Lisp               3.685484\n",
      "43                 Solidity               3.797428\n",
      "44                  Haskell               3.748235\n",
      "45                 Assembly               3.741739\n",
      "46                      Zig               3.710204\n",
      "47                  Fortran               3.687970\n",
      "48                     Perl               3.718927\n"
     ]
    }
   ],
   "source": [
    "print(mean_job_satisfaction_df)"
   ]
  },
  {
   "cell_type": "code",
   "execution_count": 79,
   "metadata": {},
   "outputs": [
    {
     "data": {
      "application/vnd.plotly.v1+json": {
       "config": {
        "plotlyServerURL": "https://plot.ly"
       },
       "data": [
        {
         "alignmentgroup": "True",
         "hovertemplate": "Programming Language=%{x}<br>Mean Job Satisfaction=%{text}<extra></extra>",
         "legendgroup": "VBA",
         "marker": {
          "color": "#636efa",
          "pattern": {
           "shape": ""
          }
         },
         "name": "VBA",
         "offsetgroup": "VBA",
         "orientation": "v",
         "showlegend": true,
         "text": [
          3.642156862745098
         ],
         "textposition": "auto",
         "type": "bar",
         "x": [
          "VBA"
         ],
         "xaxis": "x",
         "y": [
          3.642156862745098
         ],
         "yaxis": "y"
        },
        {
         "alignmentgroup": "True",
         "hovertemplate": "Programming Language=%{x}<br>Mean Job Satisfaction=%{text}<extra></extra>",
         "legendgroup": "Julia",
         "marker": {
          "color": "#EF553B",
          "pattern": {
           "shape": ""
          }
         },
         "name": "Julia",
         "offsetgroup": "Julia",
         "orientation": "v",
         "showlegend": true,
         "text": [
          3.667924528301887
         ],
         "textposition": "auto",
         "type": "bar",
         "x": [
          "Julia"
         ],
         "xaxis": "x",
         "y": [
          3.667924528301887
         ],
         "yaxis": "y"
        },
        {
         "alignmentgroup": "True",
         "hovertemplate": "Programming Language=%{x}<br>Mean Job Satisfaction=%{text}<extra></extra>",
         "legendgroup": "Clojure",
         "marker": {
          "color": "#00cc96",
          "pattern": {
           "shape": ""
          }
         },
         "name": "Clojure",
         "offsetgroup": "Clojure",
         "orientation": "v",
         "showlegend": true,
         "text": [
          3.747967479674797
         ],
         "textposition": "auto",
         "type": "bar",
         "x": [
          "Clojure"
         ],
         "xaxis": "x",
         "y": [
          3.747967479674797
         ],
         "yaxis": "y"
        },
        {
         "alignmentgroup": "True",
         "hovertemplate": "Programming Language=%{x}<br>Mean Job Satisfaction=%{text}<extra></extra>",
         "legendgroup": "Kotlin",
         "marker": {
          "color": "#ab63fa",
          "pattern": {
           "shape": ""
          }
         },
         "name": "Kotlin",
         "offsetgroup": "Kotlin",
         "orientation": "v",
         "showlegend": true,
         "text": [
          3.7759094028826357
         ],
         "textposition": "auto",
         "type": "bar",
         "x": [
          "Kotlin"
         ],
         "xaxis": "x",
         "y": [
          3.7759094028826357
         ],
         "yaxis": "y"
        },
        {
         "alignmentgroup": "True",
         "hovertemplate": "Programming Language=%{x}<br>Mean Job Satisfaction=%{text}<extra></extra>",
         "legendgroup": "Apex",
         "marker": {
          "color": "#FFA15A",
          "pattern": {
           "shape": ""
          }
         },
         "name": "Apex",
         "offsetgroup": "Apex",
         "orientation": "v",
         "showlegend": true,
         "text": [
          3.7254098360655736
         ],
         "textposition": "auto",
         "type": "bar",
         "x": [
          "Apex"
         ],
         "xaxis": "x",
         "y": [
          3.7254098360655736
         ],
         "yaxis": "y"
        },
        {
         "alignmentgroup": "True",
         "hovertemplate": "Programming Language=%{x}<br>Mean Job Satisfaction=%{text}<extra></extra>",
         "legendgroup": "R",
         "marker": {
          "color": "#19d3f3",
          "pattern": {
           "shape": ""
          }
         },
         "name": "R",
         "offsetgroup": "R",
         "orientation": "v",
         "showlegend": true,
         "text": [
          3.6871455576559544
         ],
         "textposition": "auto",
         "type": "bar",
         "x": [
          "R"
         ],
         "xaxis": "x",
         "y": [
          3.6871455576559544
         ],
         "yaxis": "y"
        },
        {
         "alignmentgroup": "True",
         "hovertemplate": "Programming Language=%{x}<br>Mean Job Satisfaction=%{text}<extra></extra>",
         "legendgroup": "JavaScript",
         "marker": {
          "color": "#FF6692",
          "pattern": {
           "shape": ""
          }
         },
         "name": "JavaScript",
         "offsetgroup": "JavaScript",
         "orientation": "v",
         "showlegend": true,
         "text": [
          3.7189393939393938
         ],
         "textposition": "auto",
         "type": "bar",
         "x": [
          "JavaScript"
         ],
         "xaxis": "x",
         "y": [
          3.7189393939393938
         ],
         "yaxis": "y"
        },
        {
         "alignmentgroup": "True",
         "hovertemplate": "Programming Language=%{x}<br>Mean Job Satisfaction=%{text}<extra></extra>",
         "legendgroup": "Ada",
         "marker": {
          "color": "#B6E880",
          "pattern": {
           "shape": ""
          }
         },
         "name": "Ada",
         "offsetgroup": "Ada",
         "orientation": "v",
         "showlegend": true,
         "text": [
          3.7058823529411766
         ],
         "textposition": "auto",
         "type": "bar",
         "x": [
          "Ada"
         ],
         "xaxis": "x",
         "y": [
          3.7058823529411766
         ],
         "yaxis": "y"
        },
        {
         "alignmentgroup": "True",
         "hovertemplate": "Programming Language=%{x}<br>Mean Job Satisfaction=%{text}<extra></extra>",
         "legendgroup": "Swift",
         "marker": {
          "color": "#FF97FF",
          "pattern": {
           "shape": ""
          }
         },
         "name": "Swift",
         "offsetgroup": "Swift",
         "orientation": "v",
         "showlegend": true,
         "text": [
          3.8092526690391457
         ],
         "textposition": "auto",
         "type": "bar",
         "x": [
          "Swift"
         ],
         "xaxis": "x",
         "y": [
          3.8092526690391457
         ],
         "yaxis": "y"
        },
        {
         "alignmentgroup": "True",
         "hovertemplate": "Programming Language=%{x}<br>Mean Job Satisfaction=%{text}<extra></extra>",
         "legendgroup": "MATLAB",
         "marker": {
          "color": "#FECB52",
          "pattern": {
           "shape": ""
          }
         },
         "name": "MATLAB",
         "offsetgroup": "MATLAB",
         "orientation": "v",
         "showlegend": true,
         "text": [
          3.6351063829787233
         ],
         "textposition": "auto",
         "type": "bar",
         "x": [
          "MATLAB"
         ],
         "xaxis": "x",
         "y": [
          3.6351063829787233
         ],
         "yaxis": "y"
        },
        {
         "alignmentgroup": "True",
         "hovertemplate": "Programming Language=%{x}<br>Mean Job Satisfaction=%{text}<extra></extra>",
         "legendgroup": "PHP",
         "marker": {
          "color": "#636efa",
          "pattern": {
           "shape": ""
          }
         },
         "name": "PHP",
         "offsetgroup": "PHP",
         "orientation": "v",
         "showlegend": true,
         "text": [
          3.7127458396369137
         ],
         "textposition": "auto",
         "type": "bar",
         "x": [
          "PHP"
         ],
         "xaxis": "x",
         "y": [
          3.7127458396369137
         ],
         "yaxis": "y"
        },
        {
         "alignmentgroup": "True",
         "hovertemplate": "Programming Language=%{x}<br>Mean Job Satisfaction=%{text}<extra></extra>",
         "legendgroup": "F#",
         "marker": {
          "color": "#EF553B",
          "pattern": {
           "shape": ""
          }
         },
         "name": "F#",
         "offsetgroup": "F#",
         "orientation": "v",
         "showlegend": true,
         "text": [
          3.8838951310861423
         ],
         "textposition": "auto",
         "type": "bar",
         "x": [
          "F#"
         ],
         "xaxis": "x",
         "y": [
          3.8838951310861423
         ],
         "yaxis": "y"
        },
        {
         "alignmentgroup": "True",
         "hovertemplate": "Programming Language=%{x}<br>Mean Job Satisfaction=%{text}<extra></extra>",
         "legendgroup": "Visual Basic (.Net)",
         "marker": {
          "color": "#00cc96",
          "pattern": {
           "shape": ""
          }
         },
         "name": "Visual Basic (.Net)",
         "offsetgroup": "Visual Basic (.Net)",
         "orientation": "v",
         "showlegend": true,
         "text": [
          3.7031118587047938
         ],
         "textposition": "auto",
         "type": "bar",
         "x": [
          "Visual Basic (.Net)"
         ],
         "xaxis": "x",
         "y": [
          3.7031118587047938
         ],
         "yaxis": "y"
        },
        {
         "alignmentgroup": "True",
         "hovertemplate": "Programming Language=%{x}<br>Mean Job Satisfaction=%{text}<extra></extra>",
         "legendgroup": "Scala",
         "marker": {
          "color": "#ab63fa",
          "pattern": {
           "shape": ""
          }
         },
         "name": "Scala",
         "offsetgroup": "Scala",
         "orientation": "v",
         "showlegend": true,
         "text": [
          3.764218009478673
         ],
         "textposition": "auto",
         "type": "bar",
         "x": [
          "Scala"
         ],
         "xaxis": "x",
         "y": [
          3.764218009478673
         ],
         "yaxis": "y"
        },
        {
         "alignmentgroup": "True",
         "hovertemplate": "Programming Language=%{x}<br>Mean Job Satisfaction=%{text}<extra></extra>",
         "legendgroup": "Go",
         "marker": {
          "color": "#FFA15A",
          "pattern": {
           "shape": ""
          }
         },
         "name": "Go",
         "offsetgroup": "Go",
         "orientation": "v",
         "showlegend": true,
         "text": [
          3.7337931034482756
         ],
         "textposition": "auto",
         "type": "bar",
         "x": [
          "Go"
         ],
         "xaxis": "x",
         "y": [
          3.7337931034482756
         ],
         "yaxis": "y"
        },
        {
         "alignmentgroup": "True",
         "hovertemplate": "Programming Language=%{x}<br>Mean Job Satisfaction=%{text}<extra></extra>",
         "legendgroup": "TypeScript",
         "marker": {
          "color": "#19d3f3",
          "pattern": {
           "shape": ""
          }
         },
         "name": "TypeScript",
         "offsetgroup": "TypeScript",
         "orientation": "v",
         "showlegend": true,
         "text": [
          3.7526076916951987
         ],
         "textposition": "auto",
         "type": "bar",
         "x": [
          "TypeScript"
         ],
         "xaxis": "x",
         "y": [
          3.7526076916951987
         ],
         "yaxis": "y"
        },
        {
         "alignmentgroup": "True",
         "hovertemplate": "Programming Language=%{x}<br>Mean Job Satisfaction=%{text}<extra></extra>",
         "legendgroup": "Erlang",
         "marker": {
          "color": "#FF6692",
          "pattern": {
           "shape": ""
          }
         },
         "name": "Erlang",
         "offsetgroup": "Erlang",
         "orientation": "v",
         "showlegend": true,
         "text": [
          3.710526315789474
         ],
         "textposition": "auto",
         "type": "bar",
         "x": [
          "Erlang"
         ],
         "xaxis": "x",
         "y": [
          3.710526315789474
         ],
         "yaxis": "y"
        },
        {
         "alignmentgroup": "True",
         "hovertemplate": "Programming Language=%{x}<br>Mean Job Satisfaction=%{text}<extra></extra>",
         "legendgroup": "Delphi",
         "marker": {
          "color": "#B6E880",
          "pattern": {
           "shape": ""
          }
         },
         "name": "Delphi",
         "offsetgroup": "Delphi",
         "orientation": "v",
         "showlegend": true,
         "text": [
          3.8090128755364807
         ],
         "textposition": "auto",
         "type": "bar",
         "x": [
          "Delphi"
         ],
         "xaxis": "x",
         "y": [
          3.8090128755364807
         ],
         "yaxis": "y"
        },
        {
         "alignmentgroup": "True",
         "hovertemplate": "Programming Language=%{x}<br>Mean Job Satisfaction=%{text}<extra></extra>",
         "legendgroup": "Cobol",
         "marker": {
          "color": "#FF97FF",
          "pattern": {
           "shape": ""
          }
         },
         "name": "Cobol",
         "offsetgroup": "Cobol",
         "orientation": "v",
         "showlegend": true,
         "text": [
          3.6685082872928176
         ],
         "textposition": "auto",
         "type": "bar",
         "x": [
          "Cobol"
         ],
         "xaxis": "x",
         "y": [
          3.6685082872928176
         ],
         "yaxis": "y"
        },
        {
         "alignmentgroup": "True",
         "hovertemplate": "Programming Language=%{x}<br>Mean Job Satisfaction=%{text}<extra></extra>",
         "legendgroup": "Ruby",
         "marker": {
          "color": "#FECB52",
          "pattern": {
           "shape": ""
          }
         },
         "name": "Ruby",
         "offsetgroup": "Ruby",
         "orientation": "v",
         "showlegend": true,
         "text": [
          3.7983963344788085
         ],
         "textposition": "auto",
         "type": "bar",
         "x": [
          "Ruby"
         ],
         "xaxis": "x",
         "y": [
          3.7983963344788085
         ],
         "yaxis": "y"
        },
        {
         "alignmentgroup": "True",
         "hovertemplate": "Programming Language=%{x}<br>Mean Job Satisfaction=%{text}<extra></extra>",
         "legendgroup": "Zephyr",
         "marker": {
          "color": "#636efa",
          "pattern": {
           "shape": ""
          }
         },
         "name": "Zephyr",
         "offsetgroup": "Zephyr",
         "orientation": "v",
         "showlegend": true,
         "text": [
          3.7875
         ],
         "textposition": "auto",
         "type": "bar",
         "x": [
          "Zephyr"
         ],
         "xaxis": "x",
         "y": [
          3.7875
         ],
         "yaxis": "y"
        },
        {
         "alignmentgroup": "True",
         "hovertemplate": "Programming Language=%{x}<br>Mean Job Satisfaction=%{text}<extra></extra>",
         "legendgroup": "Groovy",
         "marker": {
          "color": "#EF553B",
          "pattern": {
           "shape": ""
          }
         },
         "name": "Groovy",
         "offsetgroup": "Groovy",
         "orientation": "v",
         "showlegend": true,
         "text": [
          3.7587681779298547
         ],
         "textposition": "auto",
         "type": "bar",
         "x": [
          "Groovy"
         ],
         "xaxis": "x",
         "y": [
          3.7587681779298547
         ],
         "yaxis": "y"
        },
        {
         "alignmentgroup": "True",
         "hovertemplate": "Programming Language=%{x}<br>Mean Job Satisfaction=%{text}<extra></extra>",
         "legendgroup": "Objective-C",
         "marker": {
          "color": "#00cc96",
          "pattern": {
           "shape": ""
          }
         },
         "name": "Objective-C",
         "offsetgroup": "Objective-C",
         "orientation": "v",
         "showlegend": true,
         "text": [
          3.8315467075038283
         ],
         "textposition": "auto",
         "type": "bar",
         "x": [
          "Objective-C"
         ],
         "xaxis": "x",
         "y": [
          3.8315467075038283
         ],
         "yaxis": "y"
        },
        {
         "alignmentgroup": "True",
         "hovertemplate": "Programming Language=%{x}<br>Mean Job Satisfaction=%{text}<extra></extra>",
         "legendgroup": "PowerShell",
         "marker": {
          "color": "#ab63fa",
          "pattern": {
           "shape": ""
          }
         },
         "name": "PowerShell",
         "offsetgroup": "PowerShell",
         "orientation": "v",
         "showlegend": true,
         "text": [
          3.697492163009404
         ],
         "textposition": "auto",
         "type": "bar",
         "x": [
          "PowerShell"
         ],
         "xaxis": "x",
         "y": [
          3.697492163009404
         ],
         "yaxis": "y"
        },
        {
         "alignmentgroup": "True",
         "hovertemplate": "Programming Language=%{x}<br>Mean Job Satisfaction=%{text}<extra></extra>",
         "legendgroup": "HTML/CSS",
         "marker": {
          "color": "#FFA15A",
          "pattern": {
           "shape": ""
          }
         },
         "name": "HTML/CSS",
         "offsetgroup": "HTML/CSS",
         "orientation": "v",
         "showlegend": true,
         "text": [
          3.7097781536659946
         ],
         "textposition": "auto",
         "type": "bar",
         "x": [
          "HTML/CSS"
         ],
         "xaxis": "x",
         "y": [
          3.7097781536659946
         ],
         "yaxis": "y"
        },
        {
         "alignmentgroup": "True",
         "hovertemplate": "Programming Language=%{x}<br>Mean Job Satisfaction=%{text}<extra></extra>",
         "legendgroup": "Lua",
         "marker": {
          "color": "#19d3f3",
          "pattern": {
           "shape": ""
          }
         },
         "name": "Lua",
         "offsetgroup": "Lua",
         "orientation": "v",
         "showlegend": true,
         "text": [
          3.661697990926766
         ],
         "textposition": "auto",
         "type": "bar",
         "x": [
          "Lua"
         ],
         "xaxis": "x",
         "y": [
          3.661697990926766
         ],
         "yaxis": "y"
        },
        {
         "alignmentgroup": "True",
         "hovertemplate": "Programming Language=%{x}<br>Mean Job Satisfaction=%{text}<extra></extra>",
         "legendgroup": "SQL",
         "marker": {
          "color": "#FF6692",
          "pattern": {
           "shape": ""
          }
         },
         "name": "SQL",
         "offsetgroup": "SQL",
         "orientation": "v",
         "showlegend": true,
         "text": [
          3.7106308991554893
         ],
         "textposition": "auto",
         "type": "bar",
         "x": [
          "SQL"
         ],
         "xaxis": "x",
         "y": [
          3.7106308991554893
         ],
         "yaxis": "y"
        },
        {
         "alignmentgroup": "True",
         "hovertemplate": "Programming Language=%{x}<br>Mean Job Satisfaction=%{text}<extra></extra>",
         "legendgroup": "Prolog",
         "marker": {
          "color": "#B6E880",
          "pattern": {
           "shape": ""
          }
         },
         "name": "Prolog",
         "offsetgroup": "Prolog",
         "orientation": "v",
         "showlegend": true,
         "text": [
          3.6149068322981366
         ],
         "textposition": "auto",
         "type": "bar",
         "x": [
          "Prolog"
         ],
         "xaxis": "x",
         "y": [
          3.6149068322981366
         ],
         "yaxis": "y"
        },
        {
         "alignmentgroup": "True",
         "hovertemplate": "Programming Language=%{x}<br>Mean Job Satisfaction=%{text}<extra></extra>",
         "legendgroup": "C",
         "marker": {
          "color": "#FF97FF",
          "pattern": {
           "shape": ""
          }
         },
         "name": "C",
         "offsetgroup": "C",
         "orientation": "v",
         "showlegend": true,
         "text": [
          3.7104183757178015
         ],
         "textposition": "auto",
         "type": "bar",
         "x": [
          "C"
         ],
         "xaxis": "x",
         "y": [
          3.7104183757178015
         ],
         "yaxis": "y"
        },
        {
         "alignmentgroup": "True",
         "hovertemplate": "Programming Language=%{x}<br>Mean Job Satisfaction=%{text}<extra></extra>",
         "legendgroup": "C++",
         "marker": {
          "color": "#FECB52",
          "pattern": {
           "shape": ""
          }
         },
         "name": "C++",
         "offsetgroup": "C++",
         "orientation": "v",
         "showlegend": true,
         "text": [
          3.7113100361508007
         ],
         "textposition": "auto",
         "type": "bar",
         "x": [
          "C++"
         ],
         "xaxis": "x",
         "y": [
          3.7113100361508007
         ],
         "yaxis": "y"
        },
        {
         "alignmentgroup": "True",
         "hovertemplate": "Programming Language=%{x}<br>Mean Job Satisfaction=%{text}<extra></extra>",
         "legendgroup": "Dart",
         "marker": {
          "color": "#636efa",
          "pattern": {
           "shape": ""
          }
         },
         "name": "Dart",
         "offsetgroup": "Dart",
         "orientation": "v",
         "showlegend": true,
         "text": [
          3.7474566128067024
         ],
         "textposition": "auto",
         "type": "bar",
         "x": [
          "Dart"
         ],
         "xaxis": "x",
         "y": [
          3.7474566128067024
         ],
         "yaxis": "y"
        },
        {
         "alignmentgroup": "True",
         "hovertemplate": "Programming Language=%{x}<br>Mean Job Satisfaction=%{text}<extra></extra>",
         "legendgroup": "MicroPython",
         "marker": {
          "color": "#EF553B",
          "pattern": {
           "shape": ""
          }
         },
         "name": "MicroPython",
         "offsetgroup": "MicroPython",
         "orientation": "v",
         "showlegend": true,
         "text": [
          3.691011235955056
         ],
         "textposition": "auto",
         "type": "bar",
         "x": [
          "MicroPython"
         ],
         "xaxis": "x",
         "y": [
          3.691011235955056
         ],
         "yaxis": "y"
        },
        {
         "alignmentgroup": "True",
         "hovertemplate": "Programming Language=%{x}<br>Mean Job Satisfaction=%{text}<extra></extra>",
         "legendgroup": "Rust",
         "marker": {
          "color": "#00cc96",
          "pattern": {
           "shape": ""
          }
         },
         "name": "Rust",
         "offsetgroup": "Rust",
         "orientation": "v",
         "showlegend": true,
         "text": [
          3.686681844052362
         ],
         "textposition": "auto",
         "type": "bar",
         "x": [
          "Rust"
         ],
         "xaxis": "x",
         "y": [
          3.686681844052362
         ],
         "yaxis": "y"
        },
        {
         "alignmentgroup": "True",
         "hovertemplate": "Programming Language=%{x}<br>Mean Job Satisfaction=%{text}<extra></extra>",
         "legendgroup": "Java",
         "marker": {
          "color": "#ab63fa",
          "pattern": {
           "shape": ""
          }
         },
         "name": "Java",
         "offsetgroup": "Java",
         "orientation": "v",
         "showlegend": true,
         "text": [
          3.702427295626288
         ],
         "textposition": "auto",
         "type": "bar",
         "x": [
          "Java"
         ],
         "xaxis": "x",
         "y": [
          3.702427295626288
         ],
         "yaxis": "y"
        },
        {
         "alignmentgroup": "True",
         "hovertemplate": "Programming Language=%{x}<br>Mean Job Satisfaction=%{text}<extra></extra>",
         "legendgroup": "C#",
         "marker": {
          "color": "#FFA15A",
          "pattern": {
           "shape": ""
          }
         },
         "name": "C#",
         "offsetgroup": "C#",
         "orientation": "v",
         "showlegend": true,
         "text": [
          3.728036401820091
         ],
         "textposition": "auto",
         "type": "bar",
         "x": [
          "C#"
         ],
         "xaxis": "x",
         "y": [
          3.728036401820091
         ],
         "yaxis": "y"
        },
        {
         "alignmentgroup": "True",
         "hovertemplate": "Programming Language=%{x}<br>Mean Job Satisfaction=%{text}<extra></extra>",
         "legendgroup": "OCaml",
         "marker": {
          "color": "#19d3f3",
          "pattern": {
           "shape": ""
          }
         },
         "name": "OCaml",
         "offsetgroup": "OCaml",
         "orientation": "v",
         "showlegend": true,
         "text": [
          3.8092105263157894
         ],
         "textposition": "auto",
         "type": "bar",
         "x": [
          "OCaml"
         ],
         "xaxis": "x",
         "y": [
          3.8092105263157894
         ],
         "yaxis": "y"
        },
        {
         "alignmentgroup": "True",
         "hovertemplate": "Programming Language=%{x}<br>Mean Job Satisfaction=%{text}<extra></extra>",
         "legendgroup": "Bash/Shell (all shells)",
         "marker": {
          "color": "#FF6692",
          "pattern": {
           "shape": ""
          }
         },
         "name": "Bash/Shell (all shells)",
         "offsetgroup": "Bash/Shell (all shells)",
         "orientation": "v",
         "showlegend": true,
         "text": [
          3.705623654907832
         ],
         "textposition": "auto",
         "type": "bar",
         "x": [
          "Bash/Shell (all shells)"
         ],
         "xaxis": "x",
         "y": [
          3.705623654907832
         ],
         "yaxis": "y"
        },
        {
         "alignmentgroup": "True",
         "hovertemplate": "Programming Language=%{x}<br>Mean Job Satisfaction=%{text}<extra></extra>",
         "legendgroup": "Crystal",
         "marker": {
          "color": "#B6E880",
          "pattern": {
           "shape": ""
          }
         },
         "name": "Crystal",
         "offsetgroup": "Crystal",
         "orientation": "v",
         "showlegend": true,
         "text": [
          3.7358490566037736
         ],
         "textposition": "auto",
         "type": "bar",
         "x": [
          "Crystal"
         ],
         "xaxis": "x",
         "y": [
          3.7358490566037736
         ],
         "yaxis": "y"
        },
        {
         "alignmentgroup": "True",
         "hovertemplate": "Programming Language=%{x}<br>Mean Job Satisfaction=%{text}<extra></extra>",
         "legendgroup": "Nim",
         "marker": {
          "color": "#FF97FF",
          "pattern": {
           "shape": ""
          }
         },
         "name": "Nim",
         "offsetgroup": "Nim",
         "orientation": "v",
         "showlegend": true,
         "text": [
          3.5945945945945947
         ],
         "textposition": "auto",
         "type": "bar",
         "x": [
          "Nim"
         ],
         "xaxis": "x",
         "y": [
          3.5945945945945947
         ],
         "yaxis": "y"
        },
        {
         "alignmentgroup": "True",
         "hovertemplate": "Programming Language=%{x}<br>Mean Job Satisfaction=%{text}<extra></extra>",
         "legendgroup": "GDScript",
         "marker": {
          "color": "#FECB52",
          "pattern": {
           "shape": ""
          }
         },
         "name": "GDScript",
         "offsetgroup": "GDScript",
         "orientation": "v",
         "showlegend": true,
         "text": [
          3.726923076923077
         ],
         "textposition": "auto",
         "type": "bar",
         "x": [
          "GDScript"
         ],
         "xaxis": "x",
         "y": [
          3.726923076923077
         ],
         "yaxis": "y"
        },
        {
         "alignmentgroup": "True",
         "hovertemplate": "Programming Language=%{x}<br>Mean Job Satisfaction=%{text}<extra></extra>",
         "legendgroup": "Python",
         "marker": {
          "color": "#636efa",
          "pattern": {
           "shape": ""
          }
         },
         "name": "Python",
         "offsetgroup": "Python",
         "orientation": "v",
         "showlegend": true,
         "text": [
          3.68892154804395
         ],
         "textposition": "auto",
         "type": "bar",
         "x": [
          "Python"
         ],
         "xaxis": "x",
         "y": [
          3.68892154804395
         ],
         "yaxis": "y"
        },
        {
         "alignmentgroup": "True",
         "hovertemplate": "Programming Language=%{x}<br>Mean Job Satisfaction=%{text}<extra></extra>",
         "legendgroup": "Elixir",
         "marker": {
          "color": "#EF553B",
          "pattern": {
           "shape": ""
          }
         },
         "name": "Elixir",
         "offsetgroup": "Elixir",
         "orientation": "v",
         "showlegend": true,
         "text": [
          3.8068350668647843
         ],
         "textposition": "auto",
         "type": "bar",
         "x": [
          "Elixir"
         ],
         "xaxis": "x",
         "y": [
          3.8068350668647843
         ],
         "yaxis": "y"
        },
        {
         "alignmentgroup": "True",
         "hovertemplate": "Programming Language=%{x}<br>Mean Job Satisfaction=%{text}<extra></extra>",
         "legendgroup": "Lisp",
         "marker": {
          "color": "#00cc96",
          "pattern": {
           "shape": ""
          }
         },
         "name": "Lisp",
         "offsetgroup": "Lisp",
         "orientation": "v",
         "showlegend": true,
         "text": [
          3.685483870967742
         ],
         "textposition": "auto",
         "type": "bar",
         "x": [
          "Lisp"
         ],
         "xaxis": "x",
         "y": [
          3.685483870967742
         ],
         "yaxis": "y"
        },
        {
         "alignmentgroup": "True",
         "hovertemplate": "Programming Language=%{x}<br>Mean Job Satisfaction=%{text}<extra></extra>",
         "legendgroup": "Solidity",
         "marker": {
          "color": "#ab63fa",
          "pattern": {
           "shape": ""
          }
         },
         "name": "Solidity",
         "offsetgroup": "Solidity",
         "orientation": "v",
         "showlegend": true,
         "text": [
          3.797427652733119
         ],
         "textposition": "auto",
         "type": "bar",
         "x": [
          "Solidity"
         ],
         "xaxis": "x",
         "y": [
          3.797427652733119
         ],
         "yaxis": "y"
        },
        {
         "alignmentgroup": "True",
         "hovertemplate": "Programming Language=%{x}<br>Mean Job Satisfaction=%{text}<extra></extra>",
         "legendgroup": "Haskell",
         "marker": {
          "color": "#FFA15A",
          "pattern": {
           "shape": ""
          }
         },
         "name": "Haskell",
         "offsetgroup": "Haskell",
         "orientation": "v",
         "showlegend": true,
         "text": [
          3.748235294117647
         ],
         "textposition": "auto",
         "type": "bar",
         "x": [
          "Haskell"
         ],
         "xaxis": "x",
         "y": [
          3.748235294117647
         ],
         "yaxis": "y"
        },
        {
         "alignmentgroup": "True",
         "hovertemplate": "Programming Language=%{x}<br>Mean Job Satisfaction=%{text}<extra></extra>",
         "legendgroup": "Assembly",
         "marker": {
          "color": "#19d3f3",
          "pattern": {
           "shape": ""
          }
         },
         "name": "Assembly",
         "offsetgroup": "Assembly",
         "orientation": "v",
         "showlegend": true,
         "text": [
          3.7417391304347825
         ],
         "textposition": "auto",
         "type": "bar",
         "x": [
          "Assembly"
         ],
         "xaxis": "x",
         "y": [
          3.7417391304347825
         ],
         "yaxis": "y"
        },
        {
         "alignmentgroup": "True",
         "hovertemplate": "Programming Language=%{x}<br>Mean Job Satisfaction=%{text}<extra></extra>",
         "legendgroup": "Zig",
         "marker": {
          "color": "#FF6692",
          "pattern": {
           "shape": ""
          }
         },
         "name": "Zig",
         "offsetgroup": "Zig",
         "orientation": "v",
         "showlegend": true,
         "text": [
          3.710204081632653
         ],
         "textposition": "auto",
         "type": "bar",
         "x": [
          "Zig"
         ],
         "xaxis": "x",
         "y": [
          3.710204081632653
         ],
         "yaxis": "y"
        },
        {
         "alignmentgroup": "True",
         "hovertemplate": "Programming Language=%{x}<br>Mean Job Satisfaction=%{text}<extra></extra>",
         "legendgroup": "Fortran",
         "marker": {
          "color": "#B6E880",
          "pattern": {
           "shape": ""
          }
         },
         "name": "Fortran",
         "offsetgroup": "Fortran",
         "orientation": "v",
         "showlegend": true,
         "text": [
          3.68796992481203
         ],
         "textposition": "auto",
         "type": "bar",
         "x": [
          "Fortran"
         ],
         "xaxis": "x",
         "y": [
          3.68796992481203
         ],
         "yaxis": "y"
        },
        {
         "alignmentgroup": "True",
         "hovertemplate": "Programming Language=%{x}<br>Mean Job Satisfaction=%{text}<extra></extra>",
         "legendgroup": "Perl",
         "marker": {
          "color": "#FF97FF",
          "pattern": {
           "shape": ""
          }
         },
         "name": "Perl",
         "offsetgroup": "Perl",
         "orientation": "v",
         "showlegend": true,
         "text": [
          3.718926553672316
         ],
         "textposition": "auto",
         "type": "bar",
         "x": [
          "Perl"
         ],
         "xaxis": "x",
         "y": [
          3.718926553672316
         ],
         "yaxis": "y"
        }
       ],
       "layout": {
        "barmode": "relative",
        "legend": {
         "title": {
          "text": "Programming Language"
         },
         "tracegroupgap": 0
        },
        "showlegend": false,
        "template": {
         "data": {
          "bar": [
           {
            "error_x": {
             "color": "#2a3f5f"
            },
            "error_y": {
             "color": "#2a3f5f"
            },
            "marker": {
             "line": {
              "color": "white",
              "width": 0.5
             },
             "pattern": {
              "fillmode": "overlay",
              "size": 10,
              "solidity": 0.2
             }
            },
            "type": "bar"
           }
          ],
          "barpolar": [
           {
            "marker": {
             "line": {
              "color": "white",
              "width": 0.5
             },
             "pattern": {
              "fillmode": "overlay",
              "size": 10,
              "solidity": 0.2
             }
            },
            "type": "barpolar"
           }
          ],
          "carpet": [
           {
            "aaxis": {
             "endlinecolor": "#2a3f5f",
             "gridcolor": "#C8D4E3",
             "linecolor": "#C8D4E3",
             "minorgridcolor": "#C8D4E3",
             "startlinecolor": "#2a3f5f"
            },
            "baxis": {
             "endlinecolor": "#2a3f5f",
             "gridcolor": "#C8D4E3",
             "linecolor": "#C8D4E3",
             "minorgridcolor": "#C8D4E3",
             "startlinecolor": "#2a3f5f"
            },
            "type": "carpet"
           }
          ],
          "choropleth": [
           {
            "colorbar": {
             "outlinewidth": 0,
             "ticks": ""
            },
            "type": "choropleth"
           }
          ],
          "contour": [
           {
            "colorbar": {
             "outlinewidth": 0,
             "ticks": ""
            },
            "colorscale": [
             [
              0,
              "#0d0887"
             ],
             [
              0.1111111111111111,
              "#46039f"
             ],
             [
              0.2222222222222222,
              "#7201a8"
             ],
             [
              0.3333333333333333,
              "#9c179e"
             ],
             [
              0.4444444444444444,
              "#bd3786"
             ],
             [
              0.5555555555555556,
              "#d8576b"
             ],
             [
              0.6666666666666666,
              "#ed7953"
             ],
             [
              0.7777777777777778,
              "#fb9f3a"
             ],
             [
              0.8888888888888888,
              "#fdca26"
             ],
             [
              1,
              "#f0f921"
             ]
            ],
            "type": "contour"
           }
          ],
          "contourcarpet": [
           {
            "colorbar": {
             "outlinewidth": 0,
             "ticks": ""
            },
            "type": "contourcarpet"
           }
          ],
          "heatmap": [
           {
            "colorbar": {
             "outlinewidth": 0,
             "ticks": ""
            },
            "colorscale": [
             [
              0,
              "#0d0887"
             ],
             [
              0.1111111111111111,
              "#46039f"
             ],
             [
              0.2222222222222222,
              "#7201a8"
             ],
             [
              0.3333333333333333,
              "#9c179e"
             ],
             [
              0.4444444444444444,
              "#bd3786"
             ],
             [
              0.5555555555555556,
              "#d8576b"
             ],
             [
              0.6666666666666666,
              "#ed7953"
             ],
             [
              0.7777777777777778,
              "#fb9f3a"
             ],
             [
              0.8888888888888888,
              "#fdca26"
             ],
             [
              1,
              "#f0f921"
             ]
            ],
            "type": "heatmap"
           }
          ],
          "heatmapgl": [
           {
            "colorbar": {
             "outlinewidth": 0,
             "ticks": ""
            },
            "colorscale": [
             [
              0,
              "#0d0887"
             ],
             [
              0.1111111111111111,
              "#46039f"
             ],
             [
              0.2222222222222222,
              "#7201a8"
             ],
             [
              0.3333333333333333,
              "#9c179e"
             ],
             [
              0.4444444444444444,
              "#bd3786"
             ],
             [
              0.5555555555555556,
              "#d8576b"
             ],
             [
              0.6666666666666666,
              "#ed7953"
             ],
             [
              0.7777777777777778,
              "#fb9f3a"
             ],
             [
              0.8888888888888888,
              "#fdca26"
             ],
             [
              1,
              "#f0f921"
             ]
            ],
            "type": "heatmapgl"
           }
          ],
          "histogram": [
           {
            "marker": {
             "pattern": {
              "fillmode": "overlay",
              "size": 10,
              "solidity": 0.2
             }
            },
            "type": "histogram"
           }
          ],
          "histogram2d": [
           {
            "colorbar": {
             "outlinewidth": 0,
             "ticks": ""
            },
            "colorscale": [
             [
              0,
              "#0d0887"
             ],
             [
              0.1111111111111111,
              "#46039f"
             ],
             [
              0.2222222222222222,
              "#7201a8"
             ],
             [
              0.3333333333333333,
              "#9c179e"
             ],
             [
              0.4444444444444444,
              "#bd3786"
             ],
             [
              0.5555555555555556,
              "#d8576b"
             ],
             [
              0.6666666666666666,
              "#ed7953"
             ],
             [
              0.7777777777777778,
              "#fb9f3a"
             ],
             [
              0.8888888888888888,
              "#fdca26"
             ],
             [
              1,
              "#f0f921"
             ]
            ],
            "type": "histogram2d"
           }
          ],
          "histogram2dcontour": [
           {
            "colorbar": {
             "outlinewidth": 0,
             "ticks": ""
            },
            "colorscale": [
             [
              0,
              "#0d0887"
             ],
             [
              0.1111111111111111,
              "#46039f"
             ],
             [
              0.2222222222222222,
              "#7201a8"
             ],
             [
              0.3333333333333333,
              "#9c179e"
             ],
             [
              0.4444444444444444,
              "#bd3786"
             ],
             [
              0.5555555555555556,
              "#d8576b"
             ],
             [
              0.6666666666666666,
              "#ed7953"
             ],
             [
              0.7777777777777778,
              "#fb9f3a"
             ],
             [
              0.8888888888888888,
              "#fdca26"
             ],
             [
              1,
              "#f0f921"
             ]
            ],
            "type": "histogram2dcontour"
           }
          ],
          "mesh3d": [
           {
            "colorbar": {
             "outlinewidth": 0,
             "ticks": ""
            },
            "type": "mesh3d"
           }
          ],
          "parcoords": [
           {
            "line": {
             "colorbar": {
              "outlinewidth": 0,
              "ticks": ""
             }
            },
            "type": "parcoords"
           }
          ],
          "pie": [
           {
            "automargin": true,
            "type": "pie"
           }
          ],
          "scatter": [
           {
            "fillpattern": {
             "fillmode": "overlay",
             "size": 10,
             "solidity": 0.2
            },
            "type": "scatter"
           }
          ],
          "scatter3d": [
           {
            "line": {
             "colorbar": {
              "outlinewidth": 0,
              "ticks": ""
             }
            },
            "marker": {
             "colorbar": {
              "outlinewidth": 0,
              "ticks": ""
             }
            },
            "type": "scatter3d"
           }
          ],
          "scattercarpet": [
           {
            "marker": {
             "colorbar": {
              "outlinewidth": 0,
              "ticks": ""
             }
            },
            "type": "scattercarpet"
           }
          ],
          "scattergeo": [
           {
            "marker": {
             "colorbar": {
              "outlinewidth": 0,
              "ticks": ""
             }
            },
            "type": "scattergeo"
           }
          ],
          "scattergl": [
           {
            "marker": {
             "colorbar": {
              "outlinewidth": 0,
              "ticks": ""
             }
            },
            "type": "scattergl"
           }
          ],
          "scattermapbox": [
           {
            "marker": {
             "colorbar": {
              "outlinewidth": 0,
              "ticks": ""
             }
            },
            "type": "scattermapbox"
           }
          ],
          "scatterpolar": [
           {
            "marker": {
             "colorbar": {
              "outlinewidth": 0,
              "ticks": ""
             }
            },
            "type": "scatterpolar"
           }
          ],
          "scatterpolargl": [
           {
            "marker": {
             "colorbar": {
              "outlinewidth": 0,
              "ticks": ""
             }
            },
            "type": "scatterpolargl"
           }
          ],
          "scatterternary": [
           {
            "marker": {
             "colorbar": {
              "outlinewidth": 0,
              "ticks": ""
             }
            },
            "type": "scatterternary"
           }
          ],
          "surface": [
           {
            "colorbar": {
             "outlinewidth": 0,
             "ticks": ""
            },
            "colorscale": [
             [
              0,
              "#0d0887"
             ],
             [
              0.1111111111111111,
              "#46039f"
             ],
             [
              0.2222222222222222,
              "#7201a8"
             ],
             [
              0.3333333333333333,
              "#9c179e"
             ],
             [
              0.4444444444444444,
              "#bd3786"
             ],
             [
              0.5555555555555556,
              "#d8576b"
             ],
             [
              0.6666666666666666,
              "#ed7953"
             ],
             [
              0.7777777777777778,
              "#fb9f3a"
             ],
             [
              0.8888888888888888,
              "#fdca26"
             ],
             [
              1,
              "#f0f921"
             ]
            ],
            "type": "surface"
           }
          ],
          "table": [
           {
            "cells": {
             "fill": {
              "color": "#EBF0F8"
             },
             "line": {
              "color": "white"
             }
            },
            "header": {
             "fill": {
              "color": "#C8D4E3"
             },
             "line": {
              "color": "white"
             }
            },
            "type": "table"
           }
          ]
         },
         "layout": {
          "annotationdefaults": {
           "arrowcolor": "#2a3f5f",
           "arrowhead": 0,
           "arrowwidth": 1
          },
          "autotypenumbers": "strict",
          "coloraxis": {
           "colorbar": {
            "outlinewidth": 0,
            "ticks": ""
           }
          },
          "colorscale": {
           "diverging": [
            [
             0,
             "#8e0152"
            ],
            [
             0.1,
             "#c51b7d"
            ],
            [
             0.2,
             "#de77ae"
            ],
            [
             0.3,
             "#f1b6da"
            ],
            [
             0.4,
             "#fde0ef"
            ],
            [
             0.5,
             "#f7f7f7"
            ],
            [
             0.6,
             "#e6f5d0"
            ],
            [
             0.7,
             "#b8e186"
            ],
            [
             0.8,
             "#7fbc41"
            ],
            [
             0.9,
             "#4d9221"
            ],
            [
             1,
             "#276419"
            ]
           ],
           "sequential": [
            [
             0,
             "#0d0887"
            ],
            [
             0.1111111111111111,
             "#46039f"
            ],
            [
             0.2222222222222222,
             "#7201a8"
            ],
            [
             0.3333333333333333,
             "#9c179e"
            ],
            [
             0.4444444444444444,
             "#bd3786"
            ],
            [
             0.5555555555555556,
             "#d8576b"
            ],
            [
             0.6666666666666666,
             "#ed7953"
            ],
            [
             0.7777777777777778,
             "#fb9f3a"
            ],
            [
             0.8888888888888888,
             "#fdca26"
            ],
            [
             1,
             "#f0f921"
            ]
           ],
           "sequentialminus": [
            [
             0,
             "#0d0887"
            ],
            [
             0.1111111111111111,
             "#46039f"
            ],
            [
             0.2222222222222222,
             "#7201a8"
            ],
            [
             0.3333333333333333,
             "#9c179e"
            ],
            [
             0.4444444444444444,
             "#bd3786"
            ],
            [
             0.5555555555555556,
             "#d8576b"
            ],
            [
             0.6666666666666666,
             "#ed7953"
            ],
            [
             0.7777777777777778,
             "#fb9f3a"
            ],
            [
             0.8888888888888888,
             "#fdca26"
            ],
            [
             1,
             "#f0f921"
            ]
           ]
          },
          "colorway": [
           "#636efa",
           "#EF553B",
           "#00cc96",
           "#ab63fa",
           "#FFA15A",
           "#19d3f3",
           "#FF6692",
           "#B6E880",
           "#FF97FF",
           "#FECB52"
          ],
          "font": {
           "color": "#2a3f5f"
          },
          "geo": {
           "bgcolor": "white",
           "lakecolor": "white",
           "landcolor": "white",
           "showlakes": true,
           "showland": true,
           "subunitcolor": "#C8D4E3"
          },
          "hoverlabel": {
           "align": "left"
          },
          "hovermode": "closest",
          "mapbox": {
           "style": "light"
          },
          "paper_bgcolor": "white",
          "plot_bgcolor": "white",
          "polar": {
           "angularaxis": {
            "gridcolor": "#EBF0F8",
            "linecolor": "#EBF0F8",
            "ticks": ""
           },
           "bgcolor": "white",
           "radialaxis": {
            "gridcolor": "#EBF0F8",
            "linecolor": "#EBF0F8",
            "ticks": ""
           }
          },
          "scene": {
           "xaxis": {
            "backgroundcolor": "white",
            "gridcolor": "#DFE8F3",
            "gridwidth": 2,
            "linecolor": "#EBF0F8",
            "showbackground": true,
            "ticks": "",
            "zerolinecolor": "#EBF0F8"
           },
           "yaxis": {
            "backgroundcolor": "white",
            "gridcolor": "#DFE8F3",
            "gridwidth": 2,
            "linecolor": "#EBF0F8",
            "showbackground": true,
            "ticks": "",
            "zerolinecolor": "#EBF0F8"
           },
           "zaxis": {
            "backgroundcolor": "white",
            "gridcolor": "#DFE8F3",
            "gridwidth": 2,
            "linecolor": "#EBF0F8",
            "showbackground": true,
            "ticks": "",
            "zerolinecolor": "#EBF0F8"
           }
          },
          "shapedefaults": {
           "line": {
            "color": "#2a3f5f"
           }
          },
          "ternary": {
           "aaxis": {
            "gridcolor": "#DFE8F3",
            "linecolor": "#A2B1C6",
            "ticks": ""
           },
           "baxis": {
            "gridcolor": "#DFE8F3",
            "linecolor": "#A2B1C6",
            "ticks": ""
           },
           "bgcolor": "white",
           "caxis": {
            "gridcolor": "#DFE8F3",
            "linecolor": "#A2B1C6",
            "ticks": ""
           }
          },
          "title": {
           "x": 0.05
          },
          "xaxis": {
           "automargin": true,
           "gridcolor": "#EBF0F8",
           "linecolor": "#EBF0F8",
           "ticks": "",
           "title": {
            "standoff": 15
           },
           "zerolinecolor": "#EBF0F8",
           "zerolinewidth": 2
          },
          "yaxis": {
           "automargin": true,
           "gridcolor": "#EBF0F8",
           "linecolor": "#EBF0F8",
           "ticks": "",
           "title": {
            "standoff": 15
           },
           "zerolinecolor": "#EBF0F8",
           "zerolinewidth": 2
          }
         }
        },
        "title": {
         "text": "Mean Job Satisfaction by Programming Language",
         "x": 0.5
        },
        "xaxis": {
         "anchor": "y",
         "categoryarray": [
          "VBA",
          "Julia",
          "Clojure",
          "Kotlin",
          "Apex",
          "R",
          "JavaScript",
          "Ada",
          "Swift",
          "MATLAB",
          "PHP",
          "F#",
          "Visual Basic (.Net)",
          "Scala",
          "Go",
          "TypeScript",
          "Erlang",
          "Delphi",
          "Cobol",
          "Ruby",
          "Zephyr",
          "Groovy",
          "Objective-C",
          "PowerShell",
          "HTML/CSS",
          "Lua",
          "SQL",
          "Prolog",
          "C",
          "C++",
          "Dart",
          "MicroPython",
          "Rust",
          "Java",
          "C#",
          "OCaml",
          "Bash/Shell (all shells)",
          "Crystal",
          "Nim",
          "GDScript",
          "Python",
          "Elixir",
          "Lisp",
          "Solidity",
          "Haskell",
          "Assembly",
          "Zig",
          "Fortran",
          "Perl"
         ],
         "categoryorder": "array",
         "domain": [
          0,
          1
         ],
         "title": {
          "text": "Programming Language"
         }
        },
        "yaxis": {
         "anchor": "x",
         "domain": [
          0,
          1
         ],
         "title": {
          "text": "Mean Job Satisfaction"
         }
        }
       }
      }
     },
     "metadata": {},
     "output_type": "display_data"
    }
   ],
   "source": [
    "# Create the bar plot\n",
    "fig_lang = px.bar(\n",
    "    mean_job_satisfaction_df, \n",
    "    x='Programming Language', \n",
    "    y='Mean Job Satisfaction', \n",
    "    title='Mean Job Satisfaction by Programming Language',\n",
    "    labels={'Programming Language': 'Programming Language', 'Mean Job Satisfaction': 'Mean Job Satisfaction'},\n",
    "    color='Programming Language',  # Optional: adds different colors to the bars\n",
    "    text='Mean Job Satisfaction'  # Show the mean value on the bars\n",
    ")\n",
    "\n",
    "# Update layout for better appearance\n",
    "fig_lang.update_layout(\n",
    "    xaxis_title='Programming Language',\n",
    "    yaxis_title='Mean Job Satisfaction',\n",
    "    title_x=0.5,  # Center the title\n",
    "    template='plotly_white',  # Use a clean white background\n",
    "    showlegend=False\n",
    ")\n",
    "\n",
    "# Show the plot\n",
    "fig_lang.show()"
   ]
  },
  {
   "cell_type": "markdown",
   "metadata": {},
   "source": [
    "10. Bonus: Think of additional interesting statistical questions yourself and find the answers."
   ]
  },
  {
   "cell_type": "markdown",
   "metadata": {},
   "source": [
    "What is the mean job satisfaction of developers who work remotely, hybrid and in person."
   ]
  },
  {
   "cell_type": "code",
   "execution_count": 80,
   "metadata": {},
   "outputs": [
    {
     "name": "stdout",
     "output_type": "stream",
     "text": [
      "Mean Job Satisfaction by Work Category:\n",
      "                          Work Category  Mean Job Satisfaction\n",
      "0                                Remote               3.773755\n",
      "1                             In-person               3.569362\n",
      "2  Hybrid (some remote, some in-person)               3.709555\n"
     ]
    }
   ],
   "source": [
    "# Step 1: Get the unique categories in the RemoteWork column\n",
    "work_cat = survey['RemoteWork'].dropna().unique()\n",
    "\n",
    "# Step 2: Initialize a dictionary to store results\n",
    "mean_jobsat= {}\n",
    "\n",
    "# Step 3: Loop through each category and compute the mean manually\n",
    "for category in work_cat:\n",
    "    # Filter the rows where RemoteWork matches the current category\n",
    "    rows_catdf = survey[survey['RemoteWork'] == category]\n",
    "    \n",
    "    # Compute the mean of JobSat_scaled for the filtered rows\n",
    "    mean_satisfaction = rows_catdf['JobSat_scaled'].mean()\n",
    "    \n",
    "    # Store the result in the dictionary\n",
    "    mean_jobsat[category] = mean_satisfaction\n",
    "\n",
    "# Step 4: Convert the dictionary into a DataFrame (optional)\n",
    "mean_jobsat_df = pd.DataFrame(\n",
    "    list(mean_jobsat.items()), \n",
    "    columns=['Work Category', 'Mean Job Satisfaction']\n",
    ")\n",
    "\n",
    "# Print the results\n",
    "print(\"Mean Job Satisfaction by Work Category:\")\n",
    "print(mean_jobsat_df)"
   ]
  },
  {
   "cell_type": "code",
   "execution_count": 81,
   "metadata": {},
   "outputs": [
    {
     "data": {
      "application/vnd.plotly.v1+json": {
       "config": {
        "plotlyServerURL": "https://plot.ly"
       },
       "data": [
        {
         "alignmentgroup": "True",
         "hovertemplate": "Work Category=%{x}<br>Mean Job Satisfaction=%{text}<extra></extra>",
         "legendgroup": "Remote",
         "marker": {
          "color": "#636efa",
          "pattern": {
           "shape": ""
          }
         },
         "name": "Remote",
         "offsetgroup": "Remote",
         "orientation": "v",
         "showlegend": true,
         "text": [
          3.7737548410339548
         ],
         "textposition": "auto",
         "type": "bar",
         "x": [
          "Remote"
         ],
         "xaxis": "x",
         "y": [
          3.7737548410339548
         ],
         "yaxis": "y"
        },
        {
         "alignmentgroup": "True",
         "hovertemplate": "Work Category=%{x}<br>Mean Job Satisfaction=%{text}<extra></extra>",
         "legendgroup": "In-person",
         "marker": {
          "color": "#EF553B",
          "pattern": {
           "shape": ""
          }
         },
         "name": "In-person",
         "offsetgroup": "In-person",
         "orientation": "v",
         "showlegend": true,
         "text": [
          3.5693620178041545
         ],
         "textposition": "auto",
         "type": "bar",
         "x": [
          "In-person"
         ],
         "xaxis": "x",
         "y": [
          3.5693620178041545
         ],
         "yaxis": "y"
        },
        {
         "alignmentgroup": "True",
         "hovertemplate": "Work Category=%{x}<br>Mean Job Satisfaction=%{text}<extra></extra>",
         "legendgroup": "Hybrid (some remote, some in-person)",
         "marker": {
          "color": "#00cc96",
          "pattern": {
           "shape": ""
          }
         },
         "name": "Hybrid (some remote, some in-person)",
         "offsetgroup": "Hybrid (some remote, some in-person)",
         "orientation": "v",
         "showlegend": true,
         "text": [
          3.7095547456821425
         ],
         "textposition": "auto",
         "type": "bar",
         "x": [
          "Hybrid (some remote, some in-person)"
         ],
         "xaxis": "x",
         "y": [
          3.7095547456821425
         ],
         "yaxis": "y"
        }
       ],
       "layout": {
        "barmode": "relative",
        "legend": {
         "title": {
          "text": "Work Category"
         },
         "tracegroupgap": 0
        },
        "template": {
         "data": {
          "bar": [
           {
            "error_x": {
             "color": "#2a3f5f"
            },
            "error_y": {
             "color": "#2a3f5f"
            },
            "marker": {
             "line": {
              "color": "white",
              "width": 0.5
             },
             "pattern": {
              "fillmode": "overlay",
              "size": 10,
              "solidity": 0.2
             }
            },
            "type": "bar"
           }
          ],
          "barpolar": [
           {
            "marker": {
             "line": {
              "color": "white",
              "width": 0.5
             },
             "pattern": {
              "fillmode": "overlay",
              "size": 10,
              "solidity": 0.2
             }
            },
            "type": "barpolar"
           }
          ],
          "carpet": [
           {
            "aaxis": {
             "endlinecolor": "#2a3f5f",
             "gridcolor": "#C8D4E3",
             "linecolor": "#C8D4E3",
             "minorgridcolor": "#C8D4E3",
             "startlinecolor": "#2a3f5f"
            },
            "baxis": {
             "endlinecolor": "#2a3f5f",
             "gridcolor": "#C8D4E3",
             "linecolor": "#C8D4E3",
             "minorgridcolor": "#C8D4E3",
             "startlinecolor": "#2a3f5f"
            },
            "type": "carpet"
           }
          ],
          "choropleth": [
           {
            "colorbar": {
             "outlinewidth": 0,
             "ticks": ""
            },
            "type": "choropleth"
           }
          ],
          "contour": [
           {
            "colorbar": {
             "outlinewidth": 0,
             "ticks": ""
            },
            "colorscale": [
             [
              0,
              "#0d0887"
             ],
             [
              0.1111111111111111,
              "#46039f"
             ],
             [
              0.2222222222222222,
              "#7201a8"
             ],
             [
              0.3333333333333333,
              "#9c179e"
             ],
             [
              0.4444444444444444,
              "#bd3786"
             ],
             [
              0.5555555555555556,
              "#d8576b"
             ],
             [
              0.6666666666666666,
              "#ed7953"
             ],
             [
              0.7777777777777778,
              "#fb9f3a"
             ],
             [
              0.8888888888888888,
              "#fdca26"
             ],
             [
              1,
              "#f0f921"
             ]
            ],
            "type": "contour"
           }
          ],
          "contourcarpet": [
           {
            "colorbar": {
             "outlinewidth": 0,
             "ticks": ""
            },
            "type": "contourcarpet"
           }
          ],
          "heatmap": [
           {
            "colorbar": {
             "outlinewidth": 0,
             "ticks": ""
            },
            "colorscale": [
             [
              0,
              "#0d0887"
             ],
             [
              0.1111111111111111,
              "#46039f"
             ],
             [
              0.2222222222222222,
              "#7201a8"
             ],
             [
              0.3333333333333333,
              "#9c179e"
             ],
             [
              0.4444444444444444,
              "#bd3786"
             ],
             [
              0.5555555555555556,
              "#d8576b"
             ],
             [
              0.6666666666666666,
              "#ed7953"
             ],
             [
              0.7777777777777778,
              "#fb9f3a"
             ],
             [
              0.8888888888888888,
              "#fdca26"
             ],
             [
              1,
              "#f0f921"
             ]
            ],
            "type": "heatmap"
           }
          ],
          "heatmapgl": [
           {
            "colorbar": {
             "outlinewidth": 0,
             "ticks": ""
            },
            "colorscale": [
             [
              0,
              "#0d0887"
             ],
             [
              0.1111111111111111,
              "#46039f"
             ],
             [
              0.2222222222222222,
              "#7201a8"
             ],
             [
              0.3333333333333333,
              "#9c179e"
             ],
             [
              0.4444444444444444,
              "#bd3786"
             ],
             [
              0.5555555555555556,
              "#d8576b"
             ],
             [
              0.6666666666666666,
              "#ed7953"
             ],
             [
              0.7777777777777778,
              "#fb9f3a"
             ],
             [
              0.8888888888888888,
              "#fdca26"
             ],
             [
              1,
              "#f0f921"
             ]
            ],
            "type": "heatmapgl"
           }
          ],
          "histogram": [
           {
            "marker": {
             "pattern": {
              "fillmode": "overlay",
              "size": 10,
              "solidity": 0.2
             }
            },
            "type": "histogram"
           }
          ],
          "histogram2d": [
           {
            "colorbar": {
             "outlinewidth": 0,
             "ticks": ""
            },
            "colorscale": [
             [
              0,
              "#0d0887"
             ],
             [
              0.1111111111111111,
              "#46039f"
             ],
             [
              0.2222222222222222,
              "#7201a8"
             ],
             [
              0.3333333333333333,
              "#9c179e"
             ],
             [
              0.4444444444444444,
              "#bd3786"
             ],
             [
              0.5555555555555556,
              "#d8576b"
             ],
             [
              0.6666666666666666,
              "#ed7953"
             ],
             [
              0.7777777777777778,
              "#fb9f3a"
             ],
             [
              0.8888888888888888,
              "#fdca26"
             ],
             [
              1,
              "#f0f921"
             ]
            ],
            "type": "histogram2d"
           }
          ],
          "histogram2dcontour": [
           {
            "colorbar": {
             "outlinewidth": 0,
             "ticks": ""
            },
            "colorscale": [
             [
              0,
              "#0d0887"
             ],
             [
              0.1111111111111111,
              "#46039f"
             ],
             [
              0.2222222222222222,
              "#7201a8"
             ],
             [
              0.3333333333333333,
              "#9c179e"
             ],
             [
              0.4444444444444444,
              "#bd3786"
             ],
             [
              0.5555555555555556,
              "#d8576b"
             ],
             [
              0.6666666666666666,
              "#ed7953"
             ],
             [
              0.7777777777777778,
              "#fb9f3a"
             ],
             [
              0.8888888888888888,
              "#fdca26"
             ],
             [
              1,
              "#f0f921"
             ]
            ],
            "type": "histogram2dcontour"
           }
          ],
          "mesh3d": [
           {
            "colorbar": {
             "outlinewidth": 0,
             "ticks": ""
            },
            "type": "mesh3d"
           }
          ],
          "parcoords": [
           {
            "line": {
             "colorbar": {
              "outlinewidth": 0,
              "ticks": ""
             }
            },
            "type": "parcoords"
           }
          ],
          "pie": [
           {
            "automargin": true,
            "type": "pie"
           }
          ],
          "scatter": [
           {
            "fillpattern": {
             "fillmode": "overlay",
             "size": 10,
             "solidity": 0.2
            },
            "type": "scatter"
           }
          ],
          "scatter3d": [
           {
            "line": {
             "colorbar": {
              "outlinewidth": 0,
              "ticks": ""
             }
            },
            "marker": {
             "colorbar": {
              "outlinewidth": 0,
              "ticks": ""
             }
            },
            "type": "scatter3d"
           }
          ],
          "scattercarpet": [
           {
            "marker": {
             "colorbar": {
              "outlinewidth": 0,
              "ticks": ""
             }
            },
            "type": "scattercarpet"
           }
          ],
          "scattergeo": [
           {
            "marker": {
             "colorbar": {
              "outlinewidth": 0,
              "ticks": ""
             }
            },
            "type": "scattergeo"
           }
          ],
          "scattergl": [
           {
            "marker": {
             "colorbar": {
              "outlinewidth": 0,
              "ticks": ""
             }
            },
            "type": "scattergl"
           }
          ],
          "scattermapbox": [
           {
            "marker": {
             "colorbar": {
              "outlinewidth": 0,
              "ticks": ""
             }
            },
            "type": "scattermapbox"
           }
          ],
          "scatterpolar": [
           {
            "marker": {
             "colorbar": {
              "outlinewidth": 0,
              "ticks": ""
             }
            },
            "type": "scatterpolar"
           }
          ],
          "scatterpolargl": [
           {
            "marker": {
             "colorbar": {
              "outlinewidth": 0,
              "ticks": ""
             }
            },
            "type": "scatterpolargl"
           }
          ],
          "scatterternary": [
           {
            "marker": {
             "colorbar": {
              "outlinewidth": 0,
              "ticks": ""
             }
            },
            "type": "scatterternary"
           }
          ],
          "surface": [
           {
            "colorbar": {
             "outlinewidth": 0,
             "ticks": ""
            },
            "colorscale": [
             [
              0,
              "#0d0887"
             ],
             [
              0.1111111111111111,
              "#46039f"
             ],
             [
              0.2222222222222222,
              "#7201a8"
             ],
             [
              0.3333333333333333,
              "#9c179e"
             ],
             [
              0.4444444444444444,
              "#bd3786"
             ],
             [
              0.5555555555555556,
              "#d8576b"
             ],
             [
              0.6666666666666666,
              "#ed7953"
             ],
             [
              0.7777777777777778,
              "#fb9f3a"
             ],
             [
              0.8888888888888888,
              "#fdca26"
             ],
             [
              1,
              "#f0f921"
             ]
            ],
            "type": "surface"
           }
          ],
          "table": [
           {
            "cells": {
             "fill": {
              "color": "#EBF0F8"
             },
             "line": {
              "color": "white"
             }
            },
            "header": {
             "fill": {
              "color": "#C8D4E3"
             },
             "line": {
              "color": "white"
             }
            },
            "type": "table"
           }
          ]
         },
         "layout": {
          "annotationdefaults": {
           "arrowcolor": "#2a3f5f",
           "arrowhead": 0,
           "arrowwidth": 1
          },
          "autotypenumbers": "strict",
          "coloraxis": {
           "colorbar": {
            "outlinewidth": 0,
            "ticks": ""
           }
          },
          "colorscale": {
           "diverging": [
            [
             0,
             "#8e0152"
            ],
            [
             0.1,
             "#c51b7d"
            ],
            [
             0.2,
             "#de77ae"
            ],
            [
             0.3,
             "#f1b6da"
            ],
            [
             0.4,
             "#fde0ef"
            ],
            [
             0.5,
             "#f7f7f7"
            ],
            [
             0.6,
             "#e6f5d0"
            ],
            [
             0.7,
             "#b8e186"
            ],
            [
             0.8,
             "#7fbc41"
            ],
            [
             0.9,
             "#4d9221"
            ],
            [
             1,
             "#276419"
            ]
           ],
           "sequential": [
            [
             0,
             "#0d0887"
            ],
            [
             0.1111111111111111,
             "#46039f"
            ],
            [
             0.2222222222222222,
             "#7201a8"
            ],
            [
             0.3333333333333333,
             "#9c179e"
            ],
            [
             0.4444444444444444,
             "#bd3786"
            ],
            [
             0.5555555555555556,
             "#d8576b"
            ],
            [
             0.6666666666666666,
             "#ed7953"
            ],
            [
             0.7777777777777778,
             "#fb9f3a"
            ],
            [
             0.8888888888888888,
             "#fdca26"
            ],
            [
             1,
             "#f0f921"
            ]
           ],
           "sequentialminus": [
            [
             0,
             "#0d0887"
            ],
            [
             0.1111111111111111,
             "#46039f"
            ],
            [
             0.2222222222222222,
             "#7201a8"
            ],
            [
             0.3333333333333333,
             "#9c179e"
            ],
            [
             0.4444444444444444,
             "#bd3786"
            ],
            [
             0.5555555555555556,
             "#d8576b"
            ],
            [
             0.6666666666666666,
             "#ed7953"
            ],
            [
             0.7777777777777778,
             "#fb9f3a"
            ],
            [
             0.8888888888888888,
             "#fdca26"
            ],
            [
             1,
             "#f0f921"
            ]
           ]
          },
          "colorway": [
           "#636efa",
           "#EF553B",
           "#00cc96",
           "#ab63fa",
           "#FFA15A",
           "#19d3f3",
           "#FF6692",
           "#B6E880",
           "#FF97FF",
           "#FECB52"
          ],
          "font": {
           "color": "#2a3f5f"
          },
          "geo": {
           "bgcolor": "white",
           "lakecolor": "white",
           "landcolor": "white",
           "showlakes": true,
           "showland": true,
           "subunitcolor": "#C8D4E3"
          },
          "hoverlabel": {
           "align": "left"
          },
          "hovermode": "closest",
          "mapbox": {
           "style": "light"
          },
          "paper_bgcolor": "white",
          "plot_bgcolor": "white",
          "polar": {
           "angularaxis": {
            "gridcolor": "#EBF0F8",
            "linecolor": "#EBF0F8",
            "ticks": ""
           },
           "bgcolor": "white",
           "radialaxis": {
            "gridcolor": "#EBF0F8",
            "linecolor": "#EBF0F8",
            "ticks": ""
           }
          },
          "scene": {
           "xaxis": {
            "backgroundcolor": "white",
            "gridcolor": "#DFE8F3",
            "gridwidth": 2,
            "linecolor": "#EBF0F8",
            "showbackground": true,
            "ticks": "",
            "zerolinecolor": "#EBF0F8"
           },
           "yaxis": {
            "backgroundcolor": "white",
            "gridcolor": "#DFE8F3",
            "gridwidth": 2,
            "linecolor": "#EBF0F8",
            "showbackground": true,
            "ticks": "",
            "zerolinecolor": "#EBF0F8"
           },
           "zaxis": {
            "backgroundcolor": "white",
            "gridcolor": "#DFE8F3",
            "gridwidth": 2,
            "linecolor": "#EBF0F8",
            "showbackground": true,
            "ticks": "",
            "zerolinecolor": "#EBF0F8"
           }
          },
          "shapedefaults": {
           "line": {
            "color": "#2a3f5f"
           }
          },
          "ternary": {
           "aaxis": {
            "gridcolor": "#DFE8F3",
            "linecolor": "#A2B1C6",
            "ticks": ""
           },
           "baxis": {
            "gridcolor": "#DFE8F3",
            "linecolor": "#A2B1C6",
            "ticks": ""
           },
           "bgcolor": "white",
           "caxis": {
            "gridcolor": "#DFE8F3",
            "linecolor": "#A2B1C6",
            "ticks": ""
           }
          },
          "title": {
           "x": 0.05
          },
          "xaxis": {
           "automargin": true,
           "gridcolor": "#EBF0F8",
           "linecolor": "#EBF0F8",
           "ticks": "",
           "title": {
            "standoff": 15
           },
           "zerolinecolor": "#EBF0F8",
           "zerolinewidth": 2
          },
          "yaxis": {
           "automargin": true,
           "gridcolor": "#EBF0F8",
           "linecolor": "#EBF0F8",
           "ticks": "",
           "title": {
            "standoff": 15
           },
           "zerolinecolor": "#EBF0F8",
           "zerolinewidth": 2
          }
         }
        },
        "title": {
         "text": "Mean Job Satisfaction by Work Category",
         "x": 0.5
        },
        "xaxis": {
         "anchor": "y",
         "categoryarray": [
          "Remote",
          "In-person",
          "Hybrid (some remote, some in-person)"
         ],
         "categoryorder": "array",
         "domain": [
          0,
          1
         ],
         "title": {
          "text": "Work Category"
         }
        },
        "yaxis": {
         "anchor": "x",
         "domain": [
          0,
          1
         ],
         "title": {
          "text": "Mean Job Satisfaction"
         }
        }
       }
      }
     },
     "metadata": {},
     "output_type": "display_data"
    }
   ],
   "source": [
    "import plotly.express as px\n",
    "\n",
    "fig = px.bar(\n",
    "    mean_jobsat_df, \n",
    "    x='Work Category', \n",
    "    y='Mean Job Satisfaction', \n",
    "    title='Mean Job Satisfaction by Work Category',\n",
    "    labels={'Work Category': 'Work Category', 'Mean Job Satisfaction': 'Mean Job Satisfaction'},\n",
    "    color='Work Category',  # Optional: adds different colors to the bars\n",
    "    text='Mean Job Satisfaction'  # Show the mean value on the bars\n",
    ")\n",
    "\n",
    "# Update layout for better appearance\n",
    "fig.update_layout(\n",
    "    xaxis_title='Work Category',\n",
    "    yaxis_title='Mean Job Satisfaction',\n",
    "    title_x=0.5,  # Center the title\n",
    "    template='plotly_white'  # Use a clean white background\n",
    ")\n",
    "\n",
    "# Show the plot\n",
    "fig.show()"
   ]
  },
  {
   "cell_type": "code",
   "execution_count": 82,
   "metadata": {},
   "outputs": [
    {
     "name": "stdout",
     "output_type": "stream",
     "text": [
      "JobSat_scaled\n",
      "4.0    47.682483\n",
      "5.0    20.177848\n",
      "3.0    19.594177\n",
      "2.0     7.879558\n",
      "1.0     4.665934\n",
      "Name: count, dtype: float64\n"
     ]
    }
   ],
   "source": [
    "#calculate the distribution of satisfaction\n",
    "total_count = survey['JobSat_scaled'].count()\n",
    "\n",
    "# Calculate the percentage for each category in the 'JobSat_scaled' distribution\n",
    "jobsatscaled_percentage = (jobsatscaled_counts / total_count) * 100\n",
    "\n",
    "# Display the percentages\n",
    "print(jobsatscaled_percentage)"
   ]
  },
  {
   "cell_type": "code",
   "execution_count": 83,
   "metadata": {},
   "outputs": [
    {
     "data": {
      "application/vnd.plotly.v1+json": {
       "config": {
        "plotlyServerURL": "https://plot.ly"
       },
       "data": [
        {
         "domain": {
          "x": [
           0,
           1
          ],
          "y": [
           0,
           1
          ]
         },
         "hovertemplate": "label=%{label}<br>value=%{value}<extra></extra>",
         "labels": [
          4,
          5,
          3,
          2,
          1
         ],
         "legendgroup": "",
         "name": "",
         "showlegend": true,
         "type": "pie",
         "values": [
          47.68248300487537,
          20.17784797088512,
          19.594177023964843,
          7.879557783423745,
          4.665934216850923
         ]
        }
       ],
       "layout": {
        "legend": {
         "tracegroupgap": 0
        },
        "template": {
         "data": {
          "bar": [
           {
            "error_x": {
             "color": "#2a3f5f"
            },
            "error_y": {
             "color": "#2a3f5f"
            },
            "marker": {
             "line": {
              "color": "#E5ECF6",
              "width": 0.5
             },
             "pattern": {
              "fillmode": "overlay",
              "size": 10,
              "solidity": 0.2
             }
            },
            "type": "bar"
           }
          ],
          "barpolar": [
           {
            "marker": {
             "line": {
              "color": "#E5ECF6",
              "width": 0.5
             },
             "pattern": {
              "fillmode": "overlay",
              "size": 10,
              "solidity": 0.2
             }
            },
            "type": "barpolar"
           }
          ],
          "carpet": [
           {
            "aaxis": {
             "endlinecolor": "#2a3f5f",
             "gridcolor": "white",
             "linecolor": "white",
             "minorgridcolor": "white",
             "startlinecolor": "#2a3f5f"
            },
            "baxis": {
             "endlinecolor": "#2a3f5f",
             "gridcolor": "white",
             "linecolor": "white",
             "minorgridcolor": "white",
             "startlinecolor": "#2a3f5f"
            },
            "type": "carpet"
           }
          ],
          "choropleth": [
           {
            "colorbar": {
             "outlinewidth": 0,
             "ticks": ""
            },
            "type": "choropleth"
           }
          ],
          "contour": [
           {
            "colorbar": {
             "outlinewidth": 0,
             "ticks": ""
            },
            "colorscale": [
             [
              0,
              "#0d0887"
             ],
             [
              0.1111111111111111,
              "#46039f"
             ],
             [
              0.2222222222222222,
              "#7201a8"
             ],
             [
              0.3333333333333333,
              "#9c179e"
             ],
             [
              0.4444444444444444,
              "#bd3786"
             ],
             [
              0.5555555555555556,
              "#d8576b"
             ],
             [
              0.6666666666666666,
              "#ed7953"
             ],
             [
              0.7777777777777778,
              "#fb9f3a"
             ],
             [
              0.8888888888888888,
              "#fdca26"
             ],
             [
              1,
              "#f0f921"
             ]
            ],
            "type": "contour"
           }
          ],
          "contourcarpet": [
           {
            "colorbar": {
             "outlinewidth": 0,
             "ticks": ""
            },
            "type": "contourcarpet"
           }
          ],
          "heatmap": [
           {
            "colorbar": {
             "outlinewidth": 0,
             "ticks": ""
            },
            "colorscale": [
             [
              0,
              "#0d0887"
             ],
             [
              0.1111111111111111,
              "#46039f"
             ],
             [
              0.2222222222222222,
              "#7201a8"
             ],
             [
              0.3333333333333333,
              "#9c179e"
             ],
             [
              0.4444444444444444,
              "#bd3786"
             ],
             [
              0.5555555555555556,
              "#d8576b"
             ],
             [
              0.6666666666666666,
              "#ed7953"
             ],
             [
              0.7777777777777778,
              "#fb9f3a"
             ],
             [
              0.8888888888888888,
              "#fdca26"
             ],
             [
              1,
              "#f0f921"
             ]
            ],
            "type": "heatmap"
           }
          ],
          "heatmapgl": [
           {
            "colorbar": {
             "outlinewidth": 0,
             "ticks": ""
            },
            "colorscale": [
             [
              0,
              "#0d0887"
             ],
             [
              0.1111111111111111,
              "#46039f"
             ],
             [
              0.2222222222222222,
              "#7201a8"
             ],
             [
              0.3333333333333333,
              "#9c179e"
             ],
             [
              0.4444444444444444,
              "#bd3786"
             ],
             [
              0.5555555555555556,
              "#d8576b"
             ],
             [
              0.6666666666666666,
              "#ed7953"
             ],
             [
              0.7777777777777778,
              "#fb9f3a"
             ],
             [
              0.8888888888888888,
              "#fdca26"
             ],
             [
              1,
              "#f0f921"
             ]
            ],
            "type": "heatmapgl"
           }
          ],
          "histogram": [
           {
            "marker": {
             "pattern": {
              "fillmode": "overlay",
              "size": 10,
              "solidity": 0.2
             }
            },
            "type": "histogram"
           }
          ],
          "histogram2d": [
           {
            "colorbar": {
             "outlinewidth": 0,
             "ticks": ""
            },
            "colorscale": [
             [
              0,
              "#0d0887"
             ],
             [
              0.1111111111111111,
              "#46039f"
             ],
             [
              0.2222222222222222,
              "#7201a8"
             ],
             [
              0.3333333333333333,
              "#9c179e"
             ],
             [
              0.4444444444444444,
              "#bd3786"
             ],
             [
              0.5555555555555556,
              "#d8576b"
             ],
             [
              0.6666666666666666,
              "#ed7953"
             ],
             [
              0.7777777777777778,
              "#fb9f3a"
             ],
             [
              0.8888888888888888,
              "#fdca26"
             ],
             [
              1,
              "#f0f921"
             ]
            ],
            "type": "histogram2d"
           }
          ],
          "histogram2dcontour": [
           {
            "colorbar": {
             "outlinewidth": 0,
             "ticks": ""
            },
            "colorscale": [
             [
              0,
              "#0d0887"
             ],
             [
              0.1111111111111111,
              "#46039f"
             ],
             [
              0.2222222222222222,
              "#7201a8"
             ],
             [
              0.3333333333333333,
              "#9c179e"
             ],
             [
              0.4444444444444444,
              "#bd3786"
             ],
             [
              0.5555555555555556,
              "#d8576b"
             ],
             [
              0.6666666666666666,
              "#ed7953"
             ],
             [
              0.7777777777777778,
              "#fb9f3a"
             ],
             [
              0.8888888888888888,
              "#fdca26"
             ],
             [
              1,
              "#f0f921"
             ]
            ],
            "type": "histogram2dcontour"
           }
          ],
          "mesh3d": [
           {
            "colorbar": {
             "outlinewidth": 0,
             "ticks": ""
            },
            "type": "mesh3d"
           }
          ],
          "parcoords": [
           {
            "line": {
             "colorbar": {
              "outlinewidth": 0,
              "ticks": ""
             }
            },
            "type": "parcoords"
           }
          ],
          "pie": [
           {
            "automargin": true,
            "type": "pie"
           }
          ],
          "scatter": [
           {
            "fillpattern": {
             "fillmode": "overlay",
             "size": 10,
             "solidity": 0.2
            },
            "type": "scatter"
           }
          ],
          "scatter3d": [
           {
            "line": {
             "colorbar": {
              "outlinewidth": 0,
              "ticks": ""
             }
            },
            "marker": {
             "colorbar": {
              "outlinewidth": 0,
              "ticks": ""
             }
            },
            "type": "scatter3d"
           }
          ],
          "scattercarpet": [
           {
            "marker": {
             "colorbar": {
              "outlinewidth": 0,
              "ticks": ""
             }
            },
            "type": "scattercarpet"
           }
          ],
          "scattergeo": [
           {
            "marker": {
             "colorbar": {
              "outlinewidth": 0,
              "ticks": ""
             }
            },
            "type": "scattergeo"
           }
          ],
          "scattergl": [
           {
            "marker": {
             "colorbar": {
              "outlinewidth": 0,
              "ticks": ""
             }
            },
            "type": "scattergl"
           }
          ],
          "scattermapbox": [
           {
            "marker": {
             "colorbar": {
              "outlinewidth": 0,
              "ticks": ""
             }
            },
            "type": "scattermapbox"
           }
          ],
          "scatterpolar": [
           {
            "marker": {
             "colorbar": {
              "outlinewidth": 0,
              "ticks": ""
             }
            },
            "type": "scatterpolar"
           }
          ],
          "scatterpolargl": [
           {
            "marker": {
             "colorbar": {
              "outlinewidth": 0,
              "ticks": ""
             }
            },
            "type": "scatterpolargl"
           }
          ],
          "scatterternary": [
           {
            "marker": {
             "colorbar": {
              "outlinewidth": 0,
              "ticks": ""
             }
            },
            "type": "scatterternary"
           }
          ],
          "surface": [
           {
            "colorbar": {
             "outlinewidth": 0,
             "ticks": ""
            },
            "colorscale": [
             [
              0,
              "#0d0887"
             ],
             [
              0.1111111111111111,
              "#46039f"
             ],
             [
              0.2222222222222222,
              "#7201a8"
             ],
             [
              0.3333333333333333,
              "#9c179e"
             ],
             [
              0.4444444444444444,
              "#bd3786"
             ],
             [
              0.5555555555555556,
              "#d8576b"
             ],
             [
              0.6666666666666666,
              "#ed7953"
             ],
             [
              0.7777777777777778,
              "#fb9f3a"
             ],
             [
              0.8888888888888888,
              "#fdca26"
             ],
             [
              1,
              "#f0f921"
             ]
            ],
            "type": "surface"
           }
          ],
          "table": [
           {
            "cells": {
             "fill": {
              "color": "#EBF0F8"
             },
             "line": {
              "color": "white"
             }
            },
            "header": {
             "fill": {
              "color": "#C8D4E3"
             },
             "line": {
              "color": "white"
             }
            },
            "type": "table"
           }
          ]
         },
         "layout": {
          "annotationdefaults": {
           "arrowcolor": "#2a3f5f",
           "arrowhead": 0,
           "arrowwidth": 1
          },
          "autotypenumbers": "strict",
          "coloraxis": {
           "colorbar": {
            "outlinewidth": 0,
            "ticks": ""
           }
          },
          "colorscale": {
           "diverging": [
            [
             0,
             "#8e0152"
            ],
            [
             0.1,
             "#c51b7d"
            ],
            [
             0.2,
             "#de77ae"
            ],
            [
             0.3,
             "#f1b6da"
            ],
            [
             0.4,
             "#fde0ef"
            ],
            [
             0.5,
             "#f7f7f7"
            ],
            [
             0.6,
             "#e6f5d0"
            ],
            [
             0.7,
             "#b8e186"
            ],
            [
             0.8,
             "#7fbc41"
            ],
            [
             0.9,
             "#4d9221"
            ],
            [
             1,
             "#276419"
            ]
           ],
           "sequential": [
            [
             0,
             "#0d0887"
            ],
            [
             0.1111111111111111,
             "#46039f"
            ],
            [
             0.2222222222222222,
             "#7201a8"
            ],
            [
             0.3333333333333333,
             "#9c179e"
            ],
            [
             0.4444444444444444,
             "#bd3786"
            ],
            [
             0.5555555555555556,
             "#d8576b"
            ],
            [
             0.6666666666666666,
             "#ed7953"
            ],
            [
             0.7777777777777778,
             "#fb9f3a"
            ],
            [
             0.8888888888888888,
             "#fdca26"
            ],
            [
             1,
             "#f0f921"
            ]
           ],
           "sequentialminus": [
            [
             0,
             "#0d0887"
            ],
            [
             0.1111111111111111,
             "#46039f"
            ],
            [
             0.2222222222222222,
             "#7201a8"
            ],
            [
             0.3333333333333333,
             "#9c179e"
            ],
            [
             0.4444444444444444,
             "#bd3786"
            ],
            [
             0.5555555555555556,
             "#d8576b"
            ],
            [
             0.6666666666666666,
             "#ed7953"
            ],
            [
             0.7777777777777778,
             "#fb9f3a"
            ],
            [
             0.8888888888888888,
             "#fdca26"
            ],
            [
             1,
             "#f0f921"
            ]
           ]
          },
          "colorway": [
           "#636efa",
           "#EF553B",
           "#00cc96",
           "#ab63fa",
           "#FFA15A",
           "#19d3f3",
           "#FF6692",
           "#B6E880",
           "#FF97FF",
           "#FECB52"
          ],
          "font": {
           "color": "#2a3f5f"
          },
          "geo": {
           "bgcolor": "white",
           "lakecolor": "white",
           "landcolor": "#E5ECF6",
           "showlakes": true,
           "showland": true,
           "subunitcolor": "white"
          },
          "hoverlabel": {
           "align": "left"
          },
          "hovermode": "closest",
          "mapbox": {
           "style": "light"
          },
          "paper_bgcolor": "white",
          "plot_bgcolor": "#E5ECF6",
          "polar": {
           "angularaxis": {
            "gridcolor": "white",
            "linecolor": "white",
            "ticks": ""
           },
           "bgcolor": "#E5ECF6",
           "radialaxis": {
            "gridcolor": "white",
            "linecolor": "white",
            "ticks": ""
           }
          },
          "scene": {
           "xaxis": {
            "backgroundcolor": "#E5ECF6",
            "gridcolor": "white",
            "gridwidth": 2,
            "linecolor": "white",
            "showbackground": true,
            "ticks": "",
            "zerolinecolor": "white"
           },
           "yaxis": {
            "backgroundcolor": "#E5ECF6",
            "gridcolor": "white",
            "gridwidth": 2,
            "linecolor": "white",
            "showbackground": true,
            "ticks": "",
            "zerolinecolor": "white"
           },
           "zaxis": {
            "backgroundcolor": "#E5ECF6",
            "gridcolor": "white",
            "gridwidth": 2,
            "linecolor": "white",
            "showbackground": true,
            "ticks": "",
            "zerolinecolor": "white"
           }
          },
          "shapedefaults": {
           "line": {
            "color": "#2a3f5f"
           }
          },
          "ternary": {
           "aaxis": {
            "gridcolor": "white",
            "linecolor": "white",
            "ticks": ""
           },
           "baxis": {
            "gridcolor": "white",
            "linecolor": "white",
            "ticks": ""
           },
           "bgcolor": "#E5ECF6",
           "caxis": {
            "gridcolor": "white",
            "linecolor": "white",
            "ticks": ""
           }
          },
          "title": {
           "x": 0.05
          },
          "xaxis": {
           "automargin": true,
           "gridcolor": "white",
           "linecolor": "white",
           "ticks": "",
           "title": {
            "standoff": 15
           },
           "zerolinecolor": "white",
           "zerolinewidth": 2
          },
          "yaxis": {
           "automargin": true,
           "gridcolor": "white",
           "linecolor": "white",
           "ticks": "",
           "title": {
            "standoff": 15
           },
           "zerolinecolor": "white",
           "zerolinewidth": 2
          }
         }
        },
        "title": {
         "text": "Distribution of Job Satisfaction in percentage"
        }
       }
      }
     },
     "metadata": {},
     "output_type": "display_data"
    }
   ],
   "source": [
    "fig_job_percent = px.pie(\n",
    "    names=jobsatscaled_percentage.index,  # Categories (satisfaction levels)\n",
    "    values=jobsatscaled_percentage.values,  # Percentages of each category\n",
    "    title='Distribution of Job Satisfaction in percentage',\n",
    "    labels={'value': 'Job Satisfaction Level', 'count': 'Percentage (%)'},\n",
    "    \n",
    ")\n",
    "\n",
    "# Show the pie chart\n",
    "fig_job_percent.show()"
   ]
  }
 ],
 "metadata": {
  "kernelspec": {
   "display_name": "Python 3",
   "language": "python",
   "name": "python3"
  },
  "language_info": {
   "codemirror_mode": {
    "name": "ipython",
    "version": 3
   },
   "file_extension": ".py",
   "mimetype": "text/x-python",
   "name": "python",
   "nbconvert_exporter": "python",
   "pygments_lexer": "ipython3",
   "version": "3.13.0"
  }
 },
 "nbformat": 4,
 "nbformat_minor": 2
}
